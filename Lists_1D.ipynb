{
  "nbformat": 4,
  "nbformat_minor": 0,
  "metadata": {
    "colab": {
      "provenance": [],
      "authorship_tag": "ABX9TyPWu2e3aS8Hsn3iFEeWtC/m",
      "include_colab_link": true
    },
    "kernelspec": {
      "name": "python3",
      "display_name": "Python 3"
    },
    "language_info": {
      "name": "python"
    }
  },
  "cells": [
    {
      "cell_type": "markdown",
      "metadata": {
        "id": "view-in-github",
        "colab_type": "text"
      },
      "source": [
        "<a href=\"https://colab.research.google.com/github/RajuNaik29/Advance-Python/blob/main/Lists_1D.ipynb\" target=\"_parent\"><img src=\"https://colab.research.google.com/assets/colab-badge.svg\" alt=\"Open In Colab\"/></a>"
      ]
    },
    {
      "cell_type": "markdown",
      "source": [
        "# Lists-1D:\n",
        "1. Lists are used to store multiple items in a single variable.\n",
        "\n",
        "2. Lists are one of 4 built-in data types in Python used to store collections of data, the other 3 are Tuple, Set, and Dictionary, all with different qualities and usage.\n",
        "\n",
        "3. Lists are created using square brackets\n",
        "\n",
        "https://www.w3schools.com/python/python_lists.asp\n",
        "\n",
        "\n",
        "**Python Collections (Arrays)**\n",
        "There are four collection data types in the Python programming language:\n",
        "\n",
        "**List** is a collection which is ordered and changeable. Allows duplicate members.\n",
        "\n",
        "**Tuple** is a collection which is ordered and unchangeable. Allows duplicate members.\n",
        "\n",
        "**Set** is a collection which is unordered, unchangeable*, and unindexed. No duplicate members.\n",
        "\n",
        "**Dictionary** is a collection which is ordered** and changeable. No duplicate members."
      ],
      "metadata": {
        "id": "-d5p04P5A9_K"
      }
    },
    {
      "cell_type": "code",
      "execution_count": null,
      "metadata": {
        "id": "QZg4yofuAjZt"
      },
      "outputs": [],
      "source": [
        "### PTYHON LISTS 🐍\n",
        "# 1 Why Python lists?\n",
        "# 2 How to create python lists?\n",
        "# 3 what Python lists::: functionality and concepts revolving python lists"
      ]
    },
    {
      "cell_type": "code",
      "source": [
        "# data types>> Primitive DS>> 1 data point at a time\n",
        "# str, int, float, bool, None"
      ],
      "metadata": {
        "id": "pIk7NPFzA4ob"
      },
      "execution_count": null,
      "outputs": []
    },
    {
      "cell_type": "code",
      "source": [
        "# Non Primitive DS >> stores more than 1 data point at a time\n",
        "# >> Python lists"
      ],
      "metadata": {
        "id": "RD9dyM_2B2Dr"
      },
      "execution_count": null,
      "outputs": []
    },
    {
      "cell_type": "code",
      "source": [
        "# planet earth 🌍🌎🌏🌐\n",
        "name = \"Earth\"\n",
        "rank = 3\n",
        "diameter = 12742.6\n",
        "haveWeFoundAlliens = False\n",
        "\n",
        "print(name, type(name))\n",
        "print(rank, type(rank))\n",
        "print(diameter, type(diameter))\n",
        "print(haveWeFoundAlliens, type(haveWeFoundAlliens))\n"
      ],
      "metadata": {
        "colab": {
          "base_uri": "https://localhost:8080/"
        },
        "id": "ApC7KPIeB7G7",
        "outputId": "b1797017-97f0-4358-d19e-392a752aa952"
      },
      "execution_count": null,
      "outputs": [
        {
          "output_type": "stream",
          "name": "stdout",
          "text": [
            "Earth <class 'str'>\n",
            "3 <class 'int'>\n",
            "12742.6 <class 'float'>\n",
            "False <class 'bool'>\n"
          ]
        }
      ]
    },
    {
      "cell_type": "code",
      "source": [
        "# total planets >> 9\n",
        "# for a single planet >> 4 vars, 4 simple pieces of info, 4 different lines\n",
        "# 9*4 = 36"
      ],
      "metadata": {
        "id": "6fbqhFGPCCV7"
      },
      "execution_count": null,
      "outputs": []
    },
    {
      "cell_type": "code",
      "source": [
        "# SBI\n",
        "## name, age, bal, criminalRecord\n",
        "# 1 cust>>4 var\n",
        "# 10mil >> 40mil var"
      ],
      "metadata": {
        "id": "kCjqCtPyCLnw"
      },
      "execution_count": null,
      "outputs": []
    },
    {
      "cell_type": "code",
      "source": [
        "# python 🐍 lists\n",
        "# ✅[]\n",
        "# ❌{}, ()\n",
        "emptyList = []\n",
        "print(emptyList)\n",
        "print(type(emptyList))"
      ],
      "metadata": {
        "colab": {
          "base_uri": "https://localhost:8080/"
        },
        "id": "_xSgv0xECPpf",
        "outputId": "8ede4e32-ae7a-4e57-fcdc-71b0e54b8e7c"
      },
      "execution_count": null,
      "outputs": [
        {
          "output_type": "stream",
          "name": "stdout",
          "text": [
            "[]\n",
            "<class 'list'>\n"
          ]
        }
      ]
    },
    {
      "cell_type": "code",
      "source": [
        "player = ['Ronaldo', 38, 185.5, True, None]\n",
        "print(player)\n",
        "print(type(player))"
      ],
      "metadata": {
        "colab": {
          "base_uri": "https://localhost:8080/"
        },
        "id": "WncluOJhCVsN",
        "outputId": "364b918d-b8d9-456c-bf4a-157e7a76f99c"
      },
      "execution_count": null,
      "outputs": [
        {
          "output_type": "stream",
          "name": "stdout",
          "text": [
            "['Ronaldo', 38, 185.5, True, None]\n",
            "<class 'list'>\n"
          ]
        }
      ]
    },
    {
      "cell_type": "code",
      "source": [
        "grocceryList = [3, 'tables', 3, 'chairs', 1.5, 'apples', ['Ronaldo', 38, 185.5, True, None]]\n",
        "print(grocceryList)\n",
        "print(type(grocceryList))"
      ],
      "metadata": {
        "colab": {
          "base_uri": "https://localhost:8080/"
        },
        "id": "TUZvjdrKCmK4",
        "outputId": "17cd46c5-6a0c-45f0-9cc3-885cba993476"
      },
      "execution_count": null,
      "outputs": [
        {
          "output_type": "stream",
          "name": "stdout",
          "text": [
            "[3, 'tables', 3, 'chairs', 1.5, 'apples', ['Ronaldo', 38, 185.5, True, None]]\n",
            "<class 'list'>\n"
          ]
        }
      ]
    },
    {
      "cell_type": "code",
      "source": [
        "# python lists can store absolutely any data type, even another list\n",
        "# python lists can store duplicate values\n",
        "# python lists maintain order"
      ],
      "metadata": {
        "id": "mrJOfuVpCqVz"
      },
      "execution_count": null,
      "outputs": []
    },
    {
      "cell_type": "markdown",
      "source": [
        "# can python list store tuple,  set and dictionary?\n",
        "Yes, in Python, a list can store elements of various types, including tuples, sets, and dictionaries. Lists in Python are versatile and can hold elements of different data types."
      ],
      "metadata": {
        "id": "mX05-Q4lDrMS"
      }
    },
    {
      "cell_type": "code",
      "source": [
        "#Example\n",
        "# Creating a list with different types of elements\n",
        "my_list = [1, (2, 3), {'key': 'value'}, {4, 5, 6}]\n",
        "\n",
        "# Accessing elements in the list\n",
        "print(my_list[0])   # Output: 1\n",
        "print(my_list[1])   # Output: (2, 3) - Tuple\n",
        "print(my_list[2])   # Output: {'key': 'value'} - Dictionary\n",
        "print(my_list[3])   # Output: {4, 5, 6} - Set\n"
      ],
      "metadata": {
        "colab": {
          "base_uri": "https://localhost:8080/"
        },
        "id": "EsNM8KF8DoC_",
        "outputId": "efc5c398-465c-4f1d-b502-062c778869de"
      },
      "execution_count": 1,
      "outputs": [
        {
          "output_type": "stream",
          "name": "stdout",
          "text": [
            "1\n",
            "(2, 3)\n",
            "{'key': 'value'}\n",
            "{4, 5, 6}\n"
          ]
        }
      ]
    },
    {
      "cell_type": "code",
      "source": [
        "# ordering\n",
        "# 0-indexing\n",
        "\n",
        "###########     0         1       2       3       4\n",
        "avengers = ['iron-man', 'thor', 'cap', 'hulk', 'groot']\n",
        "\n",
        "print(avengers)\n",
        "print(avengers[1])\n",
        "print(avengers[2])\n",
        "print(avengers[3])\n",
        "print(avengers[4])\n",
        "\n",
        "# print(avengers[5]) # ❌❌❌ IndexError: list index out of range\n",
        "\n",
        "print(\"Number of elements in python list are\", len(avengers))"
      ],
      "metadata": {
        "colab": {
          "base_uri": "https://localhost:8080/"
        },
        "id": "qPsw-epFC2tN",
        "outputId": "3d4e589c-9c79-4018-f058-850a9602adfe"
      },
      "execution_count": null,
      "outputs": [
        {
          "output_type": "stream",
          "name": "stdout",
          "text": [
            "['iron-man', 'thor', 'cap', 'hulk', 'groot']\n",
            "thor\n",
            "cap\n",
            "hulk\n",
            "groot\n",
            "Number of elements in python list are 5\n"
          ]
        }
      ]
    },
    {
      "cell_type": "code",
      "source": [
        "###########     0         1       2       3       4\n",
        "avengers = ['iron-man', 'thor', 'cap', 'hulk', 'groot']\n",
        "\n",
        "print(avengers)\n",
        "print(\"Number of elements in python list are:\", len(avengers))\n",
        "\n",
        "print(\"The first element in my python list is:\", avengers[0])\n",
        "print(\"The last element in my python list is:\", avengers[len(avengers)-1])"
      ],
      "metadata": {
        "colab": {
          "base_uri": "https://localhost:8080/"
        },
        "id": "Cd6qJrsQESy5",
        "outputId": "f7f0eec8-9213-4d3f-c202-3ba370afe580"
      },
      "execution_count": null,
      "outputs": [
        {
          "output_type": "stream",
          "name": "stdout",
          "text": [
            "['iron-man', 'thor', 'cap', 'hulk', 'groot']\n",
            "Number of elements in python list are: 5\n",
            "The first element in my python list is: iron-man\n",
            "The last element in my python list is: groot\n"
          ]
        }
      ]
    },
    {
      "cell_type": "code",
      "source": [
        "# ordering\n",
        "# 0-indexing\n",
        "# -ive indexing\n",
        "\n",
        "###########     0         1       2       3       4\n",
        "avengers = ['iron-man', 'thor', 'cap', 'hulk', 'groot']\n",
        "###########    -5        -4      -3      -2      -1\n",
        "\n",
        "print(avengers)\n",
        "print(avengers[0], avengers[-5])\n",
        "print(avengers[1], avengers[-4])\n",
        "print(avengers[2], avengers[-3])\n",
        "print(avengers[3], avengers[-2])\n",
        "print(avengers[4], avengers[-1])\n",
        "\n",
        "# print(avengers[5]) # ❌❌❌ IndexError: list index out of range\n",
        "# print(avengers[-6]) # ❌❌❌ IndexError: list index out of range"
      ],
      "metadata": {
        "colab": {
          "base_uri": "https://localhost:8080/"
        },
        "id": "aLxKTMy1EcqJ",
        "outputId": "1d682d47-79d1-4c7f-d977-bdc9a977e3ae"
      },
      "execution_count": null,
      "outputs": [
        {
          "output_type": "stream",
          "name": "stdout",
          "text": [
            "['iron-man', 'thor', 'cap', 'hulk', 'groot']\n",
            "iron-man iron-man\n",
            "thor thor\n",
            "cap cap\n",
            "hulk hulk\n",
            "groot groot\n"
          ]
        }
      ]
    },
    {
      "cell_type": "code",
      "source": [
        "# why negative indexing doesn't start with 0\n",
        "\n",
        "###########     0         1       2       3       4\n",
        "avengers = ['iron-man', 'thor', 'cap', 'hulk', 'groot']\n",
        "###########                                       0\n",
        "print(avengers)\n",
        "\n",
        "print(avengers[0])\n",
        "print(-0==0) #As -0 is same as 0, It's meaningless. Hence the negative indexing start with -1."
      ],
      "metadata": {
        "colab": {
          "base_uri": "https://localhost:8080/"
        },
        "id": "PCftrxr4EwDB",
        "outputId": "ac697e39-484c-4e22-a788-eb3583c6d2bf"
      },
      "execution_count": null,
      "outputs": [
        {
          "output_type": "stream",
          "name": "stdout",
          "text": [
            "['iron-man', 'thor', 'cap', 'hulk', 'groot']\n",
            "iron-man\n",
            "True\n"
          ]
        }
      ]
    },
    {
      "cell_type": "code",
      "source": [
        "###########     0         1       2       3       4\n",
        "avengers = ['iron-man', 'thor', 'cap', 'hulk', 'groot']\n",
        "###########    -5        -4      -3      -2      -1\n",
        "print(avengers)\n",
        "\n",
        "bestAvenger = avengers[1]\n",
        "print(bestAvenger)\n",
        "print(type(bestAvenger))\n",
        "print(len(bestAvenger))"
      ],
      "metadata": {
        "colab": {
          "base_uri": "https://localhost:8080/"
        },
        "id": "cuo9n3NJFA0S",
        "outputId": "20106b63-dc0f-4d8e-85c9-55c290375c49"
      },
      "execution_count": null,
      "outputs": [
        {
          "output_type": "stream",
          "name": "stdout",
          "text": [
            "['iron-man', 'thor', 'cap', 'hulk', 'groot']\n",
            "thor\n",
            "<class 'str'>\n",
            "4\n"
          ]
        }
      ]
    },
    {
      "cell_type": "code",
      "source": [
        "# Question - 1\n",
        "# Given the list runs = [45, 67, 89, 12, 34, 56, 100]\n",
        "# print the total of the runs on odd matches in the list.\n",
        "#        1   2   3  4    5   6   7\n",
        "runs = [45, 67, 89, 12, 34, 56, 100]\n",
        "#        0   1   2   3   4   5   6\n",
        "print(runs[0]+runs[2]+runs[4]+runs[6])"
      ],
      "metadata": {
        "colab": {
          "base_uri": "https://localhost:8080/"
        },
        "id": "AIcBXzUXFMRG",
        "outputId": "ef931bd3-8b9a-43e0-97e0-5d3742b1bc66"
      },
      "execution_count": null,
      "outputs": [
        {
          "output_type": "stream",
          "name": "stdout",
          "text": [
            "268\n"
          ]
        }
      ]
    },
    {
      "cell_type": "code",
      "source": [
        "runs = [45, 67, 89, 12, 34, 56, 100]\n",
        "for i in range(0,len(runs),2):\n",
        "  print(i)"
      ],
      "metadata": {
        "colab": {
          "base_uri": "https://localhost:8080/"
        },
        "id": "s049yQzaFacF",
        "outputId": "1505d749-b652-4f5d-b322-e5fc2a5aeca9"
      },
      "execution_count": null,
      "outputs": [
        {
          "output_type": "stream",
          "name": "stdout",
          "text": [
            "0\n",
            "2\n",
            "4\n",
            "6\n"
          ]
        }
      ]
    },
    {
      "cell_type": "code",
      "source": [
        "#Read\n",
        "###########     0         1       2       3       4\n",
        "avengers = ['iron-man', 'thor', 'cap', 'hulk', 'groot']\n",
        "###########    -5        -4      -3      -2      -1\n",
        "print(avengers)\n",
        "\n",
        "\n",
        "\n",
        "print(avengers[1])\n",
        "print(avengers[-2 ])\n"
      ],
      "metadata": {
        "colab": {
          "base_uri": "https://localhost:8080/"
        },
        "id": "IDRbLinrGLVY",
        "outputId": "ceece686-8b8e-44b0-e0bc-2dafcb22308e"
      },
      "execution_count": null,
      "outputs": [
        {
          "output_type": "stream",
          "name": "stdout",
          "text": [
            "['iron-man', 'thor', 'cap', 'hulk', 'groot']\n",
            "thor\n",
            "hulk\n"
          ]
        }
      ]
    },
    {
      "cell_type": "markdown",
      "source": [
        "**Append**: append will add 1 element at the last.\n",
        "\n",
        "**Insert** : insert will add a single element before a given index.\n",
        "\n",
        "**Extend** : takes a list and extends it by another list.\n",
        "\n",
        "**Update**: In Python, you can update a list by modifying its elements, adding new elements, or removing existing elements.\n",
        "\n"
      ],
      "metadata": {
        "id": "mmMq2WCzHNhZ"
      }
    },
    {
      "cell_type": "code",
      "source": [
        "#Add or append\n",
        "###########     0         1       2       3       4\n",
        "avengers = ['iron-man', 'thor', 'cap', 'hulk', 'groot']\n",
        "###########    -5        -4      -3      -2      -1\n",
        "print(avengers)\n",
        "\n",
        "# append will add 1 element at the last\n",
        "\n",
        "avengers.append('Raju')\n",
        "print(avengers)\n",
        "\n",
        "avengers.append('Evan')\n",
        "print(avengers)\n",
        "\n",
        "New_list = ['Bittu', 'Ammu', 'Rishi', 'Evan']\n",
        "avengers.append(New_list)\n",
        "print(avengers)"
      ],
      "metadata": {
        "colab": {
          "base_uri": "https://localhost:8080/"
        },
        "id": "PV0Tz2MiGUcS",
        "outputId": "26798fc5-010f-4b97-dd95-8c664b022155"
      },
      "execution_count": 3,
      "outputs": [
        {
          "output_type": "stream",
          "name": "stdout",
          "text": [
            "['iron-man', 'thor', 'cap', 'hulk', 'groot']\n",
            "['iron-man', 'thor', 'cap', 'hulk', 'groot', 'Raju']\n",
            "['iron-man', 'thor', 'cap', 'hulk', 'groot', 'Raju', 'Evan']\n",
            "['iron-man', 'thor', 'cap', 'hulk', 'groot', 'Raju', 'Evan', ['Bittu', 'Ammu', 'Rishi', 'Evan']]\n"
          ]
        }
      ]
    },
    {
      "cell_type": "code",
      "source": [
        "#Insert\n",
        "###########     0         1       2       3       4\n",
        "avengers = ['iron-man', 'thor', 'cap', 'hulk', 'groot']\n",
        "###########    -5        -4      -3      -2      -1\n",
        "print(avengers)\n",
        "\n",
        "# insert >> insert will add a single element before a given index\n",
        "\n",
        "avengers.insert(2, 'Raju')\n",
        "print(avengers)\n",
        "\n",
        "avengers.insert(0, 'Evan')\n",
        "print(avengers)"
      ],
      "metadata": {
        "colab": {
          "base_uri": "https://localhost:8080/"
        },
        "id": "KvoGw2frGrgv",
        "outputId": "3d660f5a-357e-44ba-def7-5926d667abae"
      },
      "execution_count": null,
      "outputs": [
        {
          "output_type": "stream",
          "name": "stdout",
          "text": [
            "['iron-man', 'thor', 'cap', 'hulk', 'groot']\n",
            "['iron-man', 'thor', 'Raju', 'cap', 'hulk', 'groot']\n",
            "['Evan', 'iron-man', 'thor', 'Raju', 'cap', 'hulk', 'groot']\n"
          ]
        }
      ]
    },
    {
      "cell_type": "code",
      "source": [
        "#Extend\n",
        "###########     0         1       2       3       4\n",
        "avengers = ['iron-man', 'thor', 'cap', 'hulk', 'groot']\n",
        "###########    -5        -4      -3      -2      -1\n",
        "print(avengers)\n",
        "\n",
        "# Extend : takes a list and extends it by another list\n",
        "\n",
        "RR = ['Bittu',\"Rishith\",'Evan']\n",
        "avengers.extend(RR)\n",
        "print(avengers)\n"
      ],
      "metadata": {
        "colab": {
          "base_uri": "https://localhost:8080/"
        },
        "id": "iNiN-uVdHFP9",
        "outputId": "d13aaca8-3c96-4498-9efa-a455c6ffcfd6"
      },
      "execution_count": null,
      "outputs": [
        {
          "output_type": "stream",
          "name": "stdout",
          "text": [
            "['iron-man', 'thor', 'cap', 'hulk', 'groot']\n",
            "['iron-man', 'thor', 'cap', 'hulk', 'groot', 'Bittu', 'Rishith', 'Evan']\n"
          ]
        }
      ]
    },
    {
      "cell_type": "code",
      "source": [
        "#update:\n",
        "###########     0         1       2       3       4\n",
        "avengers = ['iron-man', 'thor', 'cap', 'hulk', 'groot']\n",
        "###########    -5        -4      -3      -2      -1\n",
        "print(avengers)\n",
        "\n",
        "print(avengers[1])\n",
        "avengers[1] = 'God of thunder'\n",
        "print(avengers)"
      ],
      "metadata": {
        "colab": {
          "base_uri": "https://localhost:8080/"
        },
        "id": "1mDNyZMZHvqy",
        "outputId": "6d7c5a56-7e0d-429d-8b95-ee93f04ce50c"
      },
      "execution_count": null,
      "outputs": [
        {
          "output_type": "stream",
          "name": "stdout",
          "text": [
            "['iron-man', 'thor', 'cap', 'hulk', 'groot']\n",
            "thor\n",
            "['iron-man', 'God of thunder', 'cap', 'hulk', 'groot']\n"
          ]
        }
      ]
    },
    {
      "cell_type": "code",
      "source": [
        "avengers[3] = 'Raju'\n",
        "print(avengers)\n",
        "\n",
        "#This is how we update the elements in list."
      ],
      "metadata": {
        "colab": {
          "base_uri": "https://localhost:8080/"
        },
        "id": "1ro3zfAvITwC",
        "outputId": "920a3a7f-3eab-48a9-b9ae-7a60ffba6571"
      },
      "execution_count": null,
      "outputs": [
        {
          "output_type": "stream",
          "name": "stdout",
          "text": [
            "['iron-man', 'God of thunder', 'cap', 'Raju', 'groot']\n"
          ]
        }
      ]
    },
    {
      "cell_type": "markdown",
      "source": [
        "# Remove and Delete Functions in Python lists\n",
        "\n",
        "In Python lists, there are two primary ways to remove elements: using the `remove()` method and using the `del` statement. While they both remove elements from a list, they work in slightly different ways and have different use cases.\n",
        "\n",
        "1. **Using the `remove()` Method**:\n",
        "   - The `remove()` method is used to remove the first occurrence of a specified value from the list.\n",
        "   - Syntax: `list.remove(value)`\n",
        "   - Example:\n",
        "     ```python\n",
        "     my_list = [1, 2, 3, 4, 5]\n",
        "     my_list.remove(3)\n",
        "     print(my_list)  # Output: [1, 2, 4, 5]\n",
        "     ```\n",
        "   - If the specified value is not found in the list, a `ValueError` is raised.\n",
        "\n",
        "2. **Using the `del` Statement**:\n",
        "   - The `del` statement is used to remove elements from a list based on their index or a slice.\n",
        "   - Syntax: `del list[index]` or `del list[start:end]`\n",
        "   - Example:\n",
        "     ```python\n",
        "     my_list = [1, 2, 3, 4, 5]\n",
        "     del my_list[2]\n",
        "     print(my_list)  # Output: [1, 2, 4, 5]\n",
        "     ```\n",
        "   - You can also use slicing with `del` to remove a range of elements from the list:\n",
        "     ```python\n",
        "     del my_list[1:3]  # Remove elements from index 1 to index 2 (excluding index 3)\n",
        "     print(my_list)    # Output: [1, 5]\n",
        "     ```\n",
        "\n",
        "3. **`pop()` Method**:\n",
        "   - The `pop()` method removes and returns the element at the specified index. If no index is provided, it removes and returns the last element of the list.\n",
        "   - Syntax: `list.pop(index)`\n",
        "   - Example:\n",
        "     ```python\n",
        "     my_list = [1, 2, 3, 4, 5]\n",
        "     popped_element = my_list.pop(2)  # Removes and returns the element at index 2 ('3')\n",
        "     print(popped_element)            # Output: 3\n",
        "     print(my_list)                   # Output: [1, 2, 4, 5]\n",
        "\n",
        "     popped_element = my_list.pop()   # Removes and returns the last element ('5')\n",
        "     print(popped_element)            # Output: 5\n",
        "     print(my_list)                   # Output: [1, 2, 4]\n",
        "     ```\n",
        "   - If you try to `pop()` from an empty list or from an index that does not exist, it raises an `IndexError`.\n",
        "\n",
        "In summary, `remove()` is used to remove a specific element by value, `del` is used to remove elements by index or slice, and `pop()` is used to remove elements by index and return the removed element. The choice of method depends on the specific requirement and use case in your code.\n",
        "\n",
        "\n",
        "4. **Key Differences**:\n",
        "   - `remove()` removes an element by its value, while `del` removes an element by its index.\n",
        "   - If you know the index of the element you want to remove, `del` is typically more efficient because it directly removes the element at that index, whereas `remove()` requires searching the entire list for the specified value.\n",
        "   - `remove()` is preferred when you want to remove an element based on its value and you don't know its index.\n",
        "\n",
        "5. **Error Handling**:\n",
        "   - If you attempt to delete an index that is out of range using `del`, it will raise an `IndexError`.\n",
        "   - If you attempt to remove a value using `remove()` that does not exist in the list, it will raise a `ValueError`.\n",
        "\n",
        "In summary, `remove()` is used to remove a specific element by value, `del` is used to remove elements by index or slice, and `pop()` is used to remove elements by index and return the removed element. The choice of method depends on the specific requirement and use case in your code."
      ],
      "metadata": {
        "id": "npEqGE72F3xj"
      }
    },
    {
      "cell_type": "code",
      "source": [
        "#delete/remove:\n",
        "\n",
        "avengers = ['iron-man', 'thor', 'thanos', 'cap', 'hulk', 'thanos', 'groot']\n",
        "avengers.remove('iron-man')\n",
        "print(avengers)\n",
        "\n",
        "avengers.remove('cap')\n",
        "print(avengers)\n",
        "\n",
        "avengers.remove('thanos')\n",
        "print(avengers)\n",
        "\n",
        "###. Note : Remove function will remove the first occurence of the element."
      ],
      "metadata": {
        "colab": {
          "base_uri": "https://localhost:8080/"
        },
        "id": "pFpTyLRRIb6i",
        "outputId": "74252414-cd00-4b82-e658-34b8ee88b38e"
      },
      "execution_count": null,
      "outputs": [
        {
          "output_type": "stream",
          "name": "stdout",
          "text": [
            "['thor', 'thanos', 'cap', 'hulk', 'thanos', 'groot']\n",
            "['thor', 'thanos', 'hulk', 'thanos', 'groot']\n",
            "['thor', 'hulk', 'thanos', 'groot']\n"
          ]
        }
      ]
    },
    {
      "cell_type": "code",
      "source": [
        "###########     0         1       2       3       4\n",
        "avengers = ['iron-man', 'thor', 'cap', 'hulk', 'groot']\n",
        "###########    -5        -4      -3      -2      -1\n",
        "print(avengers)\n",
        "\n",
        "del avengers[1] #While using delete we use indexing method.\n",
        "print(avengers)\n",
        "\n",
        "del avengers[3]\n",
        "print(avengers)"
      ],
      "metadata": {
        "colab": {
          "base_uri": "https://localhost:8080/"
        },
        "id": "V5RC2me7JCua",
        "outputId": "421c788b-3359-485a-c4b7-c79535e85a3b"
      },
      "execution_count": null,
      "outputs": [
        {
          "output_type": "stream",
          "name": "stdout",
          "text": [
            "['iron-man', 'thor', 'cap', 'hulk', 'groot']\n",
            "['iron-man', 'cap', 'hulk', 'groot']\n",
            "['iron-man', 'cap', 'hulk']\n"
          ]
        }
      ]
    },
    {
      "cell_type": "code",
      "source": [
        "#pop: The pop() method in Python is used to remove and return the element at a specific index (by default, the last element) from a list. It modifies the original list in place. The general syntax for the pop() method is:\n",
        "###########     0         1       2       3       4\n",
        "avengers = ['iron-man', 'thor', 'cap', 'hulk', 'groot']\n",
        "###########    -5        -4      -3      -2      -1\n",
        "print(avengers)\n",
        "\n",
        "avengers.pop()\n",
        "print(avengers)\n",
        "\n",
        "\n",
        "avengers.pop(0)\n",
        "print(avengers)\n",
        "\n",
        "avengers.pop(1)\n",
        "print(avengers)\n",
        "\n"
      ],
      "metadata": {
        "colab": {
          "base_uri": "https://localhost:8080/"
        },
        "id": "OaBGpbMnJai4",
        "outputId": "b1dda97c-7895-4190-fa5b-cc54e3ab5b3c"
      },
      "execution_count": null,
      "outputs": [
        {
          "output_type": "stream",
          "name": "stdout",
          "text": [
            "['iron-man', 'thor', 'cap', 'hulk', 'groot']\n",
            "['iron-man', 'thor', 'cap', 'hulk']\n",
            "['thor', 'cap', 'hulk']\n",
            "['thor', 'hulk']\n"
          ]
        }
      ]
    },
    {
      "cell_type": "code",
      "source": [
        "###########     0         1       2       3       4\n",
        "avengers = ['iron-man', 'thor', 'cap', 'hulk', 'groot']\n",
        "###########    -5        -4      -3      -2      -1\n",
        "print(avengers)\n",
        "\n",
        "avengers.pop(2 )\n",
        "print(avengers)\n",
        "\n",
        "removedElement = avengers.pop(0)\n",
        "print(removedElement)\n",
        "print(avengers)"
      ],
      "metadata": {
        "id": "HcumOCzZKFSB",
        "colab": {
          "base_uri": "https://localhost:8080/"
        },
        "outputId": "67f93f4e-8ae4-4d85-8619-0737d02c5ef5"
      },
      "execution_count": 4,
      "outputs": [
        {
          "output_type": "stream",
          "name": "stdout",
          "text": [
            "['iron-man', 'thor', 'cap', 'hulk', 'groot']\n",
            "['iron-man', 'thor', 'hulk', 'groot']\n",
            "iron-man\n",
            "['thor', 'hulk', 'groot']\n"
          ]
        }
      ]
    },
    {
      "cell_type": "code",
      "source": [
        "my_list = [1, 2, 3, 4, 5]\n",
        "my_list.append(6)\n",
        "print(my_list)"
      ],
      "metadata": {
        "colab": {
          "base_uri": "https://localhost:8080/"
        },
        "id": "pyNmtsFFKQcV",
        "outputId": "ec47b1af-ad1f-49a4-9d65-12aa8dcbf987"
      },
      "execution_count": null,
      "outputs": [
        {
          "output_type": "stream",
          "name": "stdout",
          "text": [
            "[1, 2, 3, 4, 5, 6]\n"
          ]
        }
      ]
    },
    {
      "cell_type": "code",
      "source": [
        "# Iterating lists\n",
        "\n",
        "avengers = ['iron-man', 'thor', 'cap', 'hulk', 'groot']\n",
        "print(avengers)\n",
        "\n",
        "# here element is a var, can call it whatever you want\n",
        "for elements in avengers:\n",
        "  print(elements)"
      ],
      "metadata": {
        "colab": {
          "base_uri": "https://localhost:8080/"
        },
        "id": "SrhwjGV6KWYQ",
        "outputId": "15584b78-c048-4df3-ecde-b435fa17bc40"
      },
      "execution_count": null,
      "outputs": [
        {
          "output_type": "stream",
          "name": "stdout",
          "text": [
            "['iron-man', 'thor', 'cap', 'hulk', 'groot']\n",
            "iron-man\n",
            "thor\n",
            "cap\n",
            "hulk\n",
            "groot\n"
          ]
        }
      ]
    },
    {
      "cell_type": "code",
      "source": [
        "###########     0         1       2       3       4\n",
        "avengers = ['iron-man', 'thor', 'cap', 'hulk', 'groot']\n",
        "###########    -5        -4      -3      -2      -1\n",
        "print(avengers)\n",
        "\n",
        "for i in range(0, len(avengers)): #0,1,2...len(avengers)-1\n",
        "    print(i, avengers[i])"
      ],
      "metadata": {
        "colab": {
          "base_uri": "https://localhost:8080/"
        },
        "id": "jMGQ9ZyDKkW_",
        "outputId": "fde1e313-cb2f-4733-d478-8ccd28b7ebb6"
      },
      "execution_count": null,
      "outputs": [
        {
          "output_type": "stream",
          "name": "stdout",
          "text": [
            "['iron-man', 'thor', 'cap', 'hulk', 'groot']\n",
            "0 iron-man\n",
            "1 thor\n",
            "2 cap\n",
            "3 hulk\n",
            "4 groot\n"
          ]
        }
      ]
    },
    {
      "cell_type": "code",
      "source": [
        "#reversing of list without using inbuilt functions\n",
        "my_list = [1, 2, 3, 4, 5]\n",
        "i = -1\n",
        "while i >= -5:\n",
        "    print(my_list[i], end = \" \")\n",
        "    i -= 1"
      ],
      "metadata": {
        "colab": {
          "base_uri": "https://localhost:8080/"
        },
        "id": "0Ng-GG9TK0fm",
        "outputId": "2d9a137e-51c8-4ec0-d321-f92cb06b281b"
      },
      "execution_count": 6,
      "outputs": [
        {
          "output_type": "stream",
          "name": "stdout",
          "text": [
            "5 4 3 2 1 "
          ]
        }
      ]
    },
    {
      "cell_type": "code",
      "source": [
        "#reversing of list without using inbuilt functions\n",
        "\n",
        "my_list = [1, 2, 3, 4, 5]\n",
        "\n",
        "i = -1\n",
        "n = -(len(my_list))\n",
        "while i >= n:\n",
        "  print(my_list[i], end = ' ')\n",
        "  i -= 1"
      ],
      "metadata": {
        "colab": {
          "base_uri": "https://localhost:8080/"
        },
        "id": "4BOtiWb-JcHX",
        "outputId": "7820f1d3-c2f1-4c16-d55c-78a7d39c760c"
      },
      "execution_count": 5,
      "outputs": [
        {
          "output_type": "stream",
          "name": "stdout",
          "text": [
            "5 4 3 2 1 "
          ]
        }
      ]
    },
    {
      "cell_type": "code",
      "source": [
        "runs = [67, 54, 12, 34, 77, 89, 101]\n",
        "# Calculate the sum, average, max and min."
      ],
      "metadata": {
        "id": "fT-9QP83K-eJ"
      },
      "execution_count": null,
      "outputs": []
    },
    {
      "cell_type": "code",
      "source": [
        "runs = [67, 54, 12, 34, 77, 89, 101]\n",
        "\n",
        "total = 0\n",
        "count = 0\n",
        "for element in runs:\n",
        "  total = total + element\n",
        "  count += 1\n",
        "print('sum = ',total)\n",
        "print('count = ', count)\n",
        "print('avg = ', int(total/count))"
      ],
      "metadata": {
        "colab": {
          "base_uri": "https://localhost:8080/"
        },
        "id": "rUQqeccHLBN9",
        "outputId": "a4569228-779c-4a0b-be4e-3868147e9036"
      },
      "execution_count": null,
      "outputs": [
        {
          "output_type": "stream",
          "name": "stdout",
          "text": [
            "sum =  434\n",
            "count =  7\n",
            "avg =  62\n"
          ]
        }
      ]
    },
    {
      "cell_type": "code",
      "source": [
        "def calculate_sum(input_list):\n",
        "    total = 0\n",
        "    for element in input_list:\n",
        "        total = total + element\n",
        "    return total\n",
        "calculate_sum(input_list = [1, 2, 3, 4, 5])"
      ],
      "metadata": {
        "colab": {
          "base_uri": "https://localhost:8080/"
        },
        "id": "QdBauNSNwbdf",
        "outputId": "cfb09b8d-0477-4f1c-d0f2-4a8e0918290d"
      },
      "execution_count": null,
      "outputs": [
        {
          "output_type": "execute_result",
          "data": {
            "text/plain": [
              "15"
            ]
          },
          "metadata": {},
          "execution_count": 93
        }
      ]
    },
    {
      "cell_type": "code",
      "source": [
        "#Finding minimum value from the list:\n",
        "runs = [67, 54, 12, 34, 77, 89, 101]\n",
        "\n",
        "min_value = runs[0]\n",
        "\n",
        "for i in runs:\n",
        "  if i < min_value:\n",
        "    min_value = i\n",
        "print('min_value = ',min_value)"
      ],
      "metadata": {
        "colab": {
          "base_uri": "https://localhost:8080/"
        },
        "id": "05oRCFUpLp_j",
        "outputId": "c2ab4285-6b1c-4b34-8f3c-7a929662974e"
      },
      "execution_count": null,
      "outputs": [
        {
          "output_type": "stream",
          "name": "stdout",
          "text": [
            "min_value =  12\n"
          ]
        }
      ]
    },
    {
      "cell_type": "code",
      "source": [
        "#Finding maximum value from the list:\n",
        "\n",
        "runs = [67, 54, 12, 34, 77, 89, 101]\n",
        "\n",
        "max_value = runs[0]\n",
        "for i in runs:\n",
        "  if i>max_value:\n",
        "    max_value = i\n",
        "print('Max_value = ',max_value)"
      ],
      "metadata": {
        "colab": {
          "base_uri": "https://localhost:8080/"
        },
        "id": "EnP4JNetMpN7",
        "outputId": "6e580332-dc0b-46a8-b1e6-04541e4274a7"
      },
      "execution_count": null,
      "outputs": [
        {
          "output_type": "stream",
          "name": "stdout",
          "text": [
            "Max_value =  101\n"
          ]
        }
      ]
    },
    {
      "cell_type": "code",
      "source": [
        "runs = [67, 54, 12, 34, 77, 89, 101]\n",
        "# Calculate the sum of runs made by Virat on all matches with even index.\n",
        "# use loops\n",
        "\n",
        "total =0\n",
        "for i in range(0,len(runs),2):\n",
        "  total += runs[i]\n",
        "print('sum_even_index_runs:', total)"
      ],
      "metadata": {
        "colab": {
          "base_uri": "https://localhost:8080/"
        },
        "id": "0nPuQcCzNENK",
        "outputId": "2532cd84-5541-4474-9463-a0aa3948bb36"
      },
      "execution_count": null,
      "outputs": [
        {
          "output_type": "stream",
          "name": "stdout",
          "text": [
            "sum_even_index_runs: 257\n"
          ]
        }
      ]
    },
    {
      "cell_type": "code",
      "source": [
        "# f strings :F-strings, or formatted string literals, are a way to embed expressions inside string literals in Python. They were introduced in Python 3.6 and provide a concise and readable way to create strings with embedded expressions.\n",
        "my_str = \"I live on Earth and that is 3 rank planet\"\n",
        "print(my_str)"
      ],
      "metadata": {
        "colab": {
          "base_uri": "https://localhost:8080/"
        },
        "id": "dppRbRgtNfeb",
        "outputId": "4fb9f0fd-58ef-47f9-a4ed-ba29a67d07f8"
      },
      "execution_count": null,
      "outputs": [
        {
          "output_type": "stream",
          "name": "stdout",
          "text": [
            "I live on Earth and that is 3 rank planet\n"
          ]
        }
      ]
    },
    {
      "cell_type": "code",
      "source": [
        "planetName = \"Earth\"\n",
        "planetRank = 3\n",
        "# f strings\n",
        "# 1 replace the data with var names in {}\n",
        "# 2 add f in front\n",
        "my_str = f\"I live on {planetName} and that is {planetRank} rank planet\"\n",
        "print(my_str)\n"
      ],
      "metadata": {
        "colab": {
          "base_uri": "https://localhost:8080/"
        },
        "id": "DFTTJNkPNvOF",
        "outputId": "6d66f551-7e2b-4fa7-fd3a-e55df00e1da6"
      },
      "execution_count": null,
      "outputs": [
        {
          "output_type": "stream",
          "name": "stdout",
          "text": [
            "I live on Earth and that is 3 rank planet\n"
          ]
        }
      ]
    },
    {
      "cell_type": "code",
      "source": [
        "planetName = \"Mars\"\n",
        "planetRank = 4\n",
        "# f strings\n",
        "# 1 replace the data with var names in {}\n",
        "# 2 add f in front\n",
        "my_str = f\"I live on {planetName} and that is {planetRank} rank planet\"\n",
        "print(my_str)"
      ],
      "metadata": {
        "colab": {
          "base_uri": "https://localhost:8080/"
        },
        "id": "NC5PVugnOI8c",
        "outputId": "9a1cda87-3e18-46f1-ea9f-fbed188ef72c"
      },
      "execution_count": null,
      "outputs": [
        {
          "output_type": "stream",
          "name": "stdout",
          "text": [
            "I live on Mars and that is 4 rank planet\n"
          ]
        }
      ]
    },
    {
      "cell_type": "code",
      "source": [
        "my_list = [\"apple\", \"banana\", \"orange\"]\n",
        "for i in range(len(my_list)):\n",
        "    print(f\"{my_list[i]} is a fruit.\", end = \" \")"
      ],
      "metadata": {
        "colab": {
          "base_uri": "https://localhost:8080/"
        },
        "id": "w9mz6UTTOtDo",
        "outputId": "b09b3199-6e20-4f49-a627-50a2c55be9c9"
      },
      "execution_count": null,
      "outputs": [
        {
          "output_type": "stream",
          "name": "stdout",
          "text": [
            "apple is a fruit. banana is a fruit. orange is a fruit. "
          ]
        }
      ]
    },
    {
      "cell_type": "code",
      "source": [
        "my_list = [10, 20, 30, 40, 50]\n",
        "i = 0\n",
        "while i < len(my_list):\n",
        "    my_list[i] *= 2\n",
        "    i += 1\n",
        "print(my_list)"
      ],
      "metadata": {
        "colab": {
          "base_uri": "https://localhost:8080/"
        },
        "id": "YE1jnqfaO1en",
        "outputId": "a8afc02f-8155-4645-f607-7c0e3367b0ee"
      },
      "execution_count": null,
      "outputs": [
        {
          "output_type": "stream",
          "name": "stdout",
          "text": [
            "[20, 40, 60, 80, 100]\n"
          ]
        }
      ]
    },
    {
      "cell_type": "code",
      "source": [
        "my_list = [10, 20, 30, 40, 50]\n",
        "i = 0\n",
        "while i < len(my_list):\n",
        "    my_list[i] *= 2\n",
        "    i+=1"
      ],
      "metadata": {
        "id": "hOnVDyIztfmz"
      },
      "execution_count": null,
      "outputs": []
    },
    {
      "cell_type": "code",
      "source": [
        "def even_odd(A):\n",
        "  even_sum = 0\n",
        "  odd_sum = 0\n",
        "  for i in A:\n",
        "    if i%2 == 0:\n",
        "      even_sum += i\n",
        "    else:\n",
        "      odd_sum += i\n",
        "  return (even_sum - odd_sum)\n",
        "even_odd(A = [56, 63, 87, 24, 32, 13, 15, 19, 44, 52])"
      ],
      "metadata": {
        "colab": {
          "base_uri": "https://localhost:8080/"
        },
        "id": "UWzKtkKzw0F2",
        "outputId": "11f808ae-d4bb-444f-d41f-baf35653b0a8"
      },
      "execution_count": null,
      "outputs": [
        {
          "output_type": "execute_result",
          "data": {
            "text/plain": [
              "11"
            ]
          },
          "metadata": {},
          "execution_count": 96
        }
      ]
    },
    {
      "cell_type": "code",
      "source": [
        "even_odd(A = [2,8,4,6])"
      ],
      "metadata": {
        "colab": {
          "base_uri": "https://localhost:8080/"
        },
        "id": "7MVRo1XRx0CD",
        "outputId": "174022bd-aa71-442a-e7d4-7ff88a305039"
      },
      "execution_count": null,
      "outputs": [
        {
          "output_type": "execute_result",
          "data": {
            "text/plain": [
              "20"
            ]
          },
          "metadata": {},
          "execution_count": 97
        }
      ]
    },
    {
      "cell_type": "code",
      "source": [
        "def duplicate(ls,n):\n",
        "    if n==1:\n",
        "        ans=False\n",
        "    for i in range(n-1):\n",
        "        if ls[i]==ls[i+1]:\n",
        "            ans=True\n",
        "            break\n",
        "        else:\n",
        "            ans=False\n",
        "    return ans\n",
        "duplicate(ls = [1,2,3,3],n = 4)"
      ],
      "metadata": {
        "colab": {
          "base_uri": "https://localhost:8080/"
        },
        "id": "PM_DojXUyTfY",
        "outputId": "7b0c47c0-4e87-42d1-877f-675cf9f8c333"
      },
      "execution_count": null,
      "outputs": [
        {
          "output_type": "execute_result",
          "data": {
            "text/plain": [
              "True"
            ]
          },
          "metadata": {},
          "execution_count": 102
        }
      ]
    },
    {
      "cell_type": "code",
      "source": [
        "def first_multiple(ls,x):\n",
        "  ans = -1\n",
        "  for i in ls:\n",
        "    if i%x == 0:\n",
        "      ans = i\n",
        "      break\n",
        "  return ans"
      ],
      "metadata": {
        "id": "jGFIG8jpzk4f"
      },
      "execution_count": null,
      "outputs": []
    },
    {
      "cell_type": "code",
      "source": [
        "first_multiple(ls = [2, 1, 2, 4, 3, 5], x = 4)"
      ],
      "metadata": {
        "colab": {
          "base_uri": "https://localhost:8080/"
        },
        "id": "DenRU79R0C2d",
        "outputId": "da3ab3c7-dd1d-4a73-f362-d9484af67804"
      },
      "execution_count": null,
      "outputs": [
        {
          "output_type": "execute_result",
          "data": {
            "text/plain": [
              "4"
            ]
          },
          "metadata": {},
          "execution_count": 105
        }
      ]
    },
    {
      "cell_type": "code",
      "source": [
        "first_multiple(ls = [7, 5, 3, 17], x = 4)"
      ],
      "metadata": {
        "colab": {
          "base_uri": "https://localhost:8080/"
        },
        "id": "WlRP-rzA0NJz",
        "outputId": "aeb3012a-e982-49b6-beb2-f1a02902b34e"
      },
      "execution_count": null,
      "outputs": [
        {
          "output_type": "execute_result",
          "data": {
            "text/plain": [
              "-1"
            ]
          },
          "metadata": {},
          "execution_count": 106
        }
      ]
    },
    {
      "cell_type": "markdown",
      "source": [
        "# Additional problems"
      ],
      "metadata": {
        "id": "HVfRFTLl9ebV"
      }
    },
    {
      "cell_type": "markdown",
      "source": [
        "#Q1. Insert that\n",
        "Problem Description\n",
        "\n",
        "Write a program to input N numbers array, a number X and a number Y from user and insert an element Y in it at specified position X. X is based on 1-based indexing (indexing starts from 1 not from 0).\n",
        "\n",
        "Note: When an element is inserted at position X, all elements that were already present at position >= X, gets shifted to one position right, not replaced.\n",
        "\n",
        "Problem Constraints\n",
        "\n",
        "1 <= N <= 100\n",
        "\n",
        "1 <= A[i] <= 1000\n",
        "\n",
        "1 <= X <= N\n",
        "\n",
        "1 <= Y <= 1000\n",
        "\n",
        "Input Format\n",
        "\n",
        "First line is N which represents number of elements.\n",
        "\n",
        "Second line contains N space separated integers.\n",
        "\n",
        "Third line is X position where Y has to be inserted.\n",
        "\n",
        "Fourth line is Y which is the value to be inserted.\n",
        "\n",
        "Output Format\n",
        "\n",
        "N+1 space separated integers of the input array after inserting the element at required position.\n",
        "\n",
        "Example Input\n",
        "\n",
        "Input 1:\n",
        "\n",
        "5\n",
        "\n",
        "2 3 1 4 2\n",
        "\n",
        "3\n",
        "\n",
        "5\n",
        "\n",
        "Example Output\n",
        "\n",
        "Output 1:\n",
        "\n",
        "2 3 5 1 4 2\n",
        "\n",
        "Example Explanation\n",
        "\n",
        "Explanation 1:\n",
        "\n",
        "Clearly after inserting 5 at 3rd position, new array is 2 3 5 1 4 2."
      ],
      "metadata": {
        "id": "HLrwuZKF9qoT"
      }
    },
    {
      "cell_type": "code",
      "source": [
        "def main():\n",
        "  N = int(input()) #No of elements in array.\n",
        "  array_list = list(map(int, input().split())) #array\n",
        "  X = int(input()) #position\n",
        "  Y = int(input()) #Value to be stored\n",
        "  array_list.insert(X-1,Y)\n",
        "  return array_list"
      ],
      "metadata": {
        "id": "yqw-cBnK9bKC"
      },
      "execution_count": null,
      "outputs": []
    },
    {
      "cell_type": "code",
      "source": [
        "main()"
      ],
      "metadata": {
        "colab": {
          "base_uri": "https://localhost:8080/"
        },
        "id": "tMBtbCXh_lxy",
        "outputId": "9934df97-428d-480e-c933-adcbff4baf34"
      },
      "execution_count": null,
      "outputs": [
        {
          "name": "stdout",
          "output_type": "stream",
          "text": [
            "7\n",
            "1 2 3 4 5 6 7\n",
            "3\n",
            "4\n"
          ]
        },
        {
          "output_type": "execute_result",
          "data": {
            "text/plain": [
              "[1, 2, 4, 3, 4, 5, 6, 7]"
            ]
          },
          "metadata": {},
          "execution_count": 4
        }
      ]
    },
    {
      "cell_type": "markdown",
      "source": [
        "# Q2. Product of elements\n",
        "Problem Description:\n",
        "\n",
        "Write a program that returns the product of all elements present in the array.\n",
        "\n",
        "Constraints:\n",
        "\n",
        "1 <= |A| <= 100\n",
        "1 <= A <= 100\n",
        "Note: It is guaranteed that the resultant product will be <= 1015\n",
        "Input Format:\n",
        "\n",
        "An integer array **A** as the function argument.\n",
        "Output Format:\n",
        "\n",
        "Product of elements in integer format\n",
        "Sample Input:\n",
        "\n",
        "A = [7, 9, 2, 51]\n",
        "\n",
        "Sample Output:\n",
        "\n",
        "6426\n",
        "Sample explanation:\n",
        "\n",
        "The product of all the elements is 7 * 9 * 2 * 51 = 6426 is returned."
      ],
      "metadata": {
        "id": "CvS5XY9WAMky"
      }
    },
    {
      "cell_type": "code",
      "source": [
        "def multiply_elements(lst):\n",
        "  product = 1\n",
        "  for ele in lst:\n",
        "    product *= ele\n",
        "  return product\n",
        "multiply_elements(lst = [7, 9, 2, 51])\n"
      ],
      "metadata": {
        "colab": {
          "base_uri": "https://localhost:8080/"
        },
        "id": "GpMp7ZJdATjS",
        "outputId": "81669dae-eccc-49f3-9607-4c7eff903ce5"
      },
      "execution_count": null,
      "outputs": [
        {
          "output_type": "execute_result",
          "data": {
            "text/plain": [
              "6426"
            ]
          },
          "metadata": {},
          "execution_count": 5
        }
      ]
    },
    {
      "cell_type": "markdown",
      "source": [
        "# Q3. Right Shift an Array\n",
        "Problem Description\n",
        "\n",
        "Write a program that reads an integer array A from input and modifies the array by shifting each element to the right by one position and by shifting the last element to the first position. Return the modified array.\n",
        "\n",
        "Problem Constraints\n",
        "\n",
        "1 <= N <= 105 1 <= A[i] <= 109\n",
        "Input Format\n",
        "\n",
        "The first line of the input is the size of the array N. The second line of the input is N integers of the array separated by space.\n",
        "Output Format\n",
        "\n",
        "Print a single line that is the elements of the modified array separated by space.\n",
        "\n",
        "Example Input\n",
        "\n",
        "5\n",
        "\n",
        "1 2 3 4 5\n",
        "\n",
        "Example Output\n",
        "\n",
        "5 1 2 3 4\n"
      ],
      "metadata": {
        "id": "5yCk4TXqA60G"
      }
    },
    {
      "cell_type": "code",
      "source": [
        "def right_shift():\n",
        "  N = int(input())\n",
        "  array = list(map(int, input().split()))\n",
        "  last_element = array[-1]\n",
        "  for i in range(N-1,0,-1):\n",
        "    array[i] = array[i-1]\n",
        "  array[0] = last_element\n",
        "  for num in array:\n",
        "    print(num, end = ' ')\n",
        "right_shift()"
      ],
      "metadata": {
        "colab": {
          "base_uri": "https://localhost:8080/"
        },
        "id": "-z7R3uPeAzRZ",
        "outputId": "e5cc2701-afe2-4c52-dfcf-b695c6fd5a0a"
      },
      "execution_count": null,
      "outputs": [
        {
          "output_type": "stream",
          "name": "stdout",
          "text": [
            "5\n",
            "1 2 3 4 5\n",
            "5 1 2 3 4 "
          ]
        }
      ]
    },
    {
      "cell_type": "markdown",
      "source": [
        "# Q4. Print in Reverse\n",
        "Problem Description\n",
        "\n",
        "Write a program to print the input array A of size N in reverse order where you have to take integer N and further N elements as input from user.\n",
        "\n",
        "\n",
        "Problem Constraints\n",
        "\n",
        "1 <= N <= 1000\n",
        "\n",
        "1 <= A <= 1000\n",
        "Input Format\n",
        "\n",
        "A single line representing N followed by N integers of the array A\n",
        "\n",
        "Output Format\n",
        "\n",
        "A single line containing N space separated integers representing elements of the input array in reverse order.\n",
        "\n",
        "Example Input\n",
        "\n",
        "Input 1:\n",
        "\n",
        "5\n",
        "\n",
        "1 2 3 4 5\n",
        "\n",
        "Input 2:\n",
        "\n",
        "4\n",
        "\n",
        "10 50 40 80\n",
        "\n",
        "Example Output\n",
        "\n",
        "Output 1:\n",
        "\n",
        "5 4 3 2 1\n",
        "\n",
        "Output 2:\n",
        "\n",
        "80 40 50 10\n"
      ],
      "metadata": {
        "id": "BB62NwCHDx4q"
      }
    },
    {
      "cell_type": "code",
      "source": [
        "def main():\n",
        "    inputs = input().split()\n",
        "    N = int(inputs[0])\n",
        "    inp = list(map(int, inputs[1:]))\n",
        "    for i in range(N-1, -1, -1):\n",
        "      print(inp[i], end=' ')\n",
        "\n",
        "    return 0\n",
        "main()\n"
      ],
      "metadata": {
        "colab": {
          "base_uri": "https://localhost:8080/",
          "height": 357
        },
        "id": "TknmbPHVDgsK",
        "outputId": "7ad26bc0-5e60-4c2f-88b6-add8c69101d0"
      },
      "execution_count": null,
      "outputs": [
        {
          "name": "stdout",
          "output_type": "stream",
          "text": [
            "5\n"
          ]
        },
        {
          "output_type": "error",
          "ename": "IndexError",
          "evalue": "ignored",
          "traceback": [
            "\u001b[0;31m---------------------------------------------------------------------------\u001b[0m",
            "\u001b[0;31mIndexError\u001b[0m                                Traceback (most recent call last)",
            "\u001b[0;32m<ipython-input-16-a23426257f57>\u001b[0m in \u001b[0;36m<cell line: 9>\u001b[0;34m()\u001b[0m\n\u001b[1;32m      7\u001b[0m \u001b[0;34m\u001b[0m\u001b[0m\n\u001b[1;32m      8\u001b[0m     \u001b[0;32mreturn\u001b[0m \u001b[0;36m0\u001b[0m\u001b[0;34m\u001b[0m\u001b[0;34m\u001b[0m\u001b[0m\n\u001b[0;32m----> 9\u001b[0;31m \u001b[0mmain\u001b[0m\u001b[0;34m(\u001b[0m\u001b[0;34m)\u001b[0m\u001b[0;34m\u001b[0m\u001b[0;34m\u001b[0m\u001b[0m\n\u001b[0m",
            "\u001b[0;32m<ipython-input-16-a23426257f57>\u001b[0m in \u001b[0;36mmain\u001b[0;34m()\u001b[0m\n\u001b[1;32m      4\u001b[0m     \u001b[0minp\u001b[0m \u001b[0;34m=\u001b[0m \u001b[0mlist\u001b[0m\u001b[0;34m(\u001b[0m\u001b[0mmap\u001b[0m\u001b[0;34m(\u001b[0m\u001b[0mint\u001b[0m\u001b[0;34m,\u001b[0m \u001b[0minputs\u001b[0m\u001b[0;34m[\u001b[0m\u001b[0;36m1\u001b[0m\u001b[0;34m:\u001b[0m\u001b[0;34m]\u001b[0m\u001b[0;34m)\u001b[0m\u001b[0;34m)\u001b[0m\u001b[0;34m\u001b[0m\u001b[0;34m\u001b[0m\u001b[0m\n\u001b[1;32m      5\u001b[0m     \u001b[0;32mfor\u001b[0m \u001b[0mi\u001b[0m \u001b[0;32min\u001b[0m \u001b[0mrange\u001b[0m\u001b[0;34m(\u001b[0m\u001b[0mN\u001b[0m\u001b[0;34m-\u001b[0m\u001b[0;36m1\u001b[0m\u001b[0;34m,\u001b[0m \u001b[0;34m-\u001b[0m\u001b[0;36m1\u001b[0m\u001b[0;34m,\u001b[0m \u001b[0;34m-\u001b[0m\u001b[0;36m1\u001b[0m\u001b[0;34m)\u001b[0m\u001b[0;34m:\u001b[0m\u001b[0;34m\u001b[0m\u001b[0;34m\u001b[0m\u001b[0m\n\u001b[0;32m----> 6\u001b[0;31m       \u001b[0mprint\u001b[0m\u001b[0;34m(\u001b[0m\u001b[0minp\u001b[0m\u001b[0;34m[\u001b[0m\u001b[0mi\u001b[0m\u001b[0;34m]\u001b[0m\u001b[0;34m,\u001b[0m \u001b[0mend\u001b[0m\u001b[0;34m=\u001b[0m\u001b[0;34m' '\u001b[0m\u001b[0;34m)\u001b[0m\u001b[0;34m\u001b[0m\u001b[0;34m\u001b[0m\u001b[0m\n\u001b[0m\u001b[1;32m      7\u001b[0m \u001b[0;34m\u001b[0m\u001b[0m\n\u001b[1;32m      8\u001b[0m     \u001b[0;32mreturn\u001b[0m \u001b[0;36m0\u001b[0m\u001b[0;34m\u001b[0m\u001b[0;34m\u001b[0m\u001b[0m\n",
            "\u001b[0;31mIndexError\u001b[0m: list index out of range"
          ]
        }
      ]
    },
    {
      "cell_type": "markdown",
      "source": [
        "# Q5. Negative Integers\n",
        "Problem Description\n",
        "\n",
        "Write a program to print all negative numbers from input array A of size N. Take integer N and N elements of the array as input from user.\n",
        "\n",
        "\n",
        "Problem Constraints\n",
        "\n",
        "1 <= N <= 1000\n",
        "\n",
        "-1000 <= A <= 1000\n",
        "\n",
        "\n",
        "Input Format\n",
        "\n",
        "A single line representing N followed by N integers of the array A\n",
        "\n",
        "\n",
        "\n",
        "Output Format\n",
        "\n",
        "A single line containing elements from the input array which are negative in the same order.\n",
        "\n",
        "\n",
        "Example Input\n",
        "\n",
        "Input 1:\n",
        "\n",
        "5 1 -5 2 -8 -4\n",
        "\n",
        "Input 2:\n",
        "\n",
        "4 -1 0 -8 -1\n",
        "\n",
        "Example Output\n",
        "\n",
        "Output 1:\n",
        "\n",
        "-5 -8 -4\n",
        "Output 2:\n",
        "\n",
        "-1 -8 -1\n",
        "\n",
        "Example explanation:\n",
        "\n",
        "Output 1:\n",
        "\n",
        "all the negative elements of [5 1 -5 2 -8 -4] are [-5 -8 -4]\n",
        "\n",
        "\n",
        "\n",
        "Output 2:\n",
        "\n",
        "all the negative elements of [4 -1 0 -8 -1] are [-1 -8 -1]\n",
        "\n",
        "\n"
      ],
      "metadata": {
        "id": "83ddqrIoF5GR"
      }
    },
    {
      "cell_type": "code",
      "source": [
        "def negative():\n",
        "  N = int(input())\n",
        "  array = list(map(int, input().split()))\n",
        "  result = []\n",
        "  for i in array:\n",
        "    if i < 0:\n",
        "      result.append(i)\n",
        "  #for element in result:\n",
        "   # print(result, end = ' ')\n",
        "  return result\n",
        "negative()"
      ],
      "metadata": {
        "colab": {
          "base_uri": "https://localhost:8080/"
        },
        "id": "vrNaXeduFqz5",
        "outputId": "0446fc12-b11f-4727-fe4e-c81151575058"
      },
      "execution_count": null,
      "outputs": [
        {
          "name": "stdout",
          "output_type": "stream",
          "text": [
            "5\n",
            "1 -5 2 -8 -4\n"
          ]
        },
        {
          "output_type": "execute_result",
          "data": {
            "text/plain": [
              "[-5, -8, -4]"
            ]
          },
          "metadata": {},
          "execution_count": 21
        }
      ]
    },
    {
      "cell_type": "code",
      "source": [
        "def function_1():\n",
        "    print(\"third\")\n",
        "    function_2()\n",
        "\n",
        "def function_2():\n",
        "    print(\"second\")\n",
        "    function_3()\n",
        "\n",
        "def function_3():\n",
        "    print(\"first\")\n",
        "\n",
        "function_1()"
      ],
      "metadata": {
        "colab": {
          "base_uri": "https://localhost:8080/"
        },
        "id": "buj2UoigDDoi",
        "outputId": "99e2e539-0624-4603-a476-d38b84b1ce45"
      },
      "execution_count": null,
      "outputs": [
        {
          "output_type": "stream",
          "name": "stdout",
          "text": [
            "third\n",
            "second\n",
            "first\n"
          ]
        }
      ]
    },
    {
      "cell_type": "code",
      "source": [
        "isTrue = 0\n",
        "if bool(isTrue):\n",
        "    print(\"Inside the if-statement\")\n",
        "else:\n",
        "    print(\"Inside the else-statement\")"
      ],
      "metadata": {
        "colab": {
          "base_uri": "https://localhost:8080/"
        },
        "id": "dA0vWIpeDjH2",
        "outputId": "8608b09c-58f9-4ec7-e08a-bfc7924b6e52"
      },
      "execution_count": null,
      "outputs": [
        {
          "output_type": "stream",
          "name": "stdout",
          "text": [
            "Inside the else-statement\n"
          ]
        }
      ]
    },
    {
      "cell_type": "code",
      "source": [
        "x = int(input())\n",
        "y = int(input())\n",
        "flag = True\n",
        "for i in range(2, x + 1):\n",
        "    if(x % i == 0):\n",
        "        if(y % i == 0):\n",
        "            flag = False\n",
        "print(flag)"
      ],
      "metadata": {
        "colab": {
          "base_uri": "https://localhost:8080/"
        },
        "id": "A7abRnzxEIgR",
        "outputId": "b272d75a-66b6-49ff-d993-42536f20f9b7"
      },
      "execution_count": null,
      "outputs": [
        {
          "output_type": "stream",
          "name": "stdout",
          "text": [
            "11\n",
            "13\n",
            "True\n"
          ]
        }
      ]
    },
    {
      "cell_type": "code",
      "source": [
        "x = int(input())\n",
        "y = int(input())\n",
        "flag = True\n",
        "for i in range(2, x + 1):\n",
        "    if(x % i == 0):\n",
        "        if(y % i == 0):\n",
        "            flag = False\n",
        "print(flag)"
      ],
      "metadata": {
        "colab": {
          "base_uri": "https://localhost:8080/"
        },
        "id": "_fvl6gmBENCU",
        "outputId": "eb4c24fb-1947-499c-afde-e992369ee037"
      },
      "execution_count": null,
      "outputs": [
        {
          "output_type": "stream",
          "name": "stdout",
          "text": [
            "5\n",
            "35\n",
            "False\n"
          ]
        }
      ]
    },
    {
      "cell_type": "code",
      "source": [
        "people = [('Alice', 25), ('Bob', 32), ('Charlie', 20), ('David', 35)]\n",
        "\n",
        "oldest_name = None\n",
        "oldest_age = -1\n",
        "\n",
        "for name, age in people:\n",
        "    if age > oldest_age:\n",
        "        oldest_name = age\n",
        "        oldest_age = name\n",
        "\n",
        "print(\"The oldest person is\", oldest_name)"
      ],
      "metadata": {
        "colab": {
          "base_uri": "https://localhost:8080/",
          "height": 250
        },
        "id": "au7MpkGhFV_S",
        "outputId": "51894196-21e1-40c6-ac99-36a0092292a9"
      },
      "execution_count": null,
      "outputs": [
        {
          "output_type": "error",
          "ename": "TypeError",
          "evalue": "ignored",
          "traceback": [
            "\u001b[0;31m---------------------------------------------------------------------------\u001b[0m",
            "\u001b[0;31mTypeError\u001b[0m                                 Traceback (most recent call last)",
            "\u001b[0;32m<ipython-input-11-00b45005874f>\u001b[0m in \u001b[0;36m<cell line: 6>\u001b[0;34m()\u001b[0m\n\u001b[1;32m      5\u001b[0m \u001b[0;34m\u001b[0m\u001b[0m\n\u001b[1;32m      6\u001b[0m \u001b[0;32mfor\u001b[0m \u001b[0mname\u001b[0m\u001b[0;34m,\u001b[0m \u001b[0mage\u001b[0m \u001b[0;32min\u001b[0m \u001b[0mpeople\u001b[0m\u001b[0;34m:\u001b[0m\u001b[0;34m\u001b[0m\u001b[0;34m\u001b[0m\u001b[0m\n\u001b[0;32m----> 7\u001b[0;31m     \u001b[0;32mif\u001b[0m \u001b[0mage\u001b[0m \u001b[0;34m>\u001b[0m \u001b[0moldest_age\u001b[0m\u001b[0;34m:\u001b[0m\u001b[0;34m\u001b[0m\u001b[0;34m\u001b[0m\u001b[0m\n\u001b[0m\u001b[1;32m      8\u001b[0m         \u001b[0moldest_name\u001b[0m \u001b[0;34m=\u001b[0m \u001b[0mage\u001b[0m\u001b[0;34m\u001b[0m\u001b[0;34m\u001b[0m\u001b[0m\n\u001b[1;32m      9\u001b[0m         \u001b[0moldest_age\u001b[0m \u001b[0;34m=\u001b[0m \u001b[0mname\u001b[0m\u001b[0;34m\u001b[0m\u001b[0;34m\u001b[0m\u001b[0m\n",
            "\u001b[0;31mTypeError\u001b[0m: '>' not supported between instances of 'int' and 'str'"
          ]
        }
      ]
    },
    {
      "cell_type": "code",
      "source": [
        "people = [('Alice', 25), ('Bob', 32), ('Charlie', 20), ('David', 35)]\n",
        "\n",
        "oldest_name = \"\"\n",
        "oldest_age = 0\n",
        "\n",
        "for name, age in people:\n",
        "    if age > oldest_age:\n",
        "        oldest_name = name\n",
        "        oldest_age = age\n",
        "\n",
        "print(\"The oldest person is\", oldest_name)"
      ],
      "metadata": {
        "colab": {
          "base_uri": "https://localhost:8080/"
        },
        "id": "yOqqXKuvFc-F",
        "outputId": "504d3982-7df6-47d0-dc3e-33357a825990"
      },
      "execution_count": null,
      "outputs": [
        {
          "output_type": "stream",
          "name": "stdout",
          "text": [
            "The oldest person is David\n"
          ]
        }
      ]
    },
    {
      "cell_type": "code",
      "source": [
        "def main(N):\n",
        "    # YOUR CODE GOES HERE\n",
        "    # Please take input and print output to standard input/output (stdin/stdout)\n",
        "    # E.g. 'input()/raw_input()' for input & 'print' for output\n",
        "    N = int(input())\n",
        "    if N >= 195:\n",
        "        return \"abnormal\"\n",
        "    elif N>=165 and N<195:\n",
        "        return \"taller\"\n",
        "    elif N>=150 and N<165:\n",
        "        return \"average\"\n",
        "    else:\n",
        "        return \"dwarf\"\n",
        "    return 0\n",
        "main(N= 165)"
      ],
      "metadata": {
        "colab": {
          "base_uri": "https://localhost:8080/",
          "height": 53
        },
        "id": "eYS8-vTUFn08",
        "outputId": "6baf6758-bea1-4a39-d8ea-bbbc64374837"
      },
      "execution_count": null,
      "outputs": [
        {
          "name": "stdout",
          "output_type": "stream",
          "text": [
            "367\n"
          ]
        },
        {
          "output_type": "execute_result",
          "data": {
            "text/plain": [
              "'abnormal'"
            ],
            "application/vnd.google.colaboratory.intrinsic+json": {
              "type": "string"
            }
          },
          "metadata": {},
          "execution_count": 17
        }
      ]
    },
    {
      "cell_type": "code",
      "source": [
        "a = ['hello', 'world', 'python', 'programming']\n",
        "a[0][1]"
      ],
      "metadata": {
        "colab": {
          "base_uri": "https://localhost:8080/",
          "height": 35
        },
        "id": "7MAndS05Ij4v",
        "outputId": "8bd4847b-81c7-4783-c6d6-8083561d87c3"
      },
      "execution_count": null,
      "outputs": [
        {
          "output_type": "execute_result",
          "data": {
            "text/plain": [
              "'e'"
            ],
            "application/vnd.google.colaboratory.intrinsic+json": {
              "type": "string"
            }
          },
          "metadata": {},
          "execution_count": 19
        }
      ]
    },
    {
      "cell_type": "code",
      "source": [
        "def unique_chars(list_of_words):\n",
        "  # YOUR CODE GOES HERE\n",
        "  for i in range(len(list_of_words)):\n",
        "    for j in range(len(list_of_words[i])):\n",
        "      if list_of_words[i][j] != list_of_words[i][j]+1:\n",
        "        print(list_of_words[i][j])\n",
        "unique_chars(list_of_words = ['hello', 'world', 'python', 'programming'])"
      ],
      "metadata": {
        "colab": {
          "base_uri": "https://localhost:8080/",
          "height": 339
        },
        "id": "sHzA7yR1Jn_z",
        "outputId": "8790c983-935a-40ec-b06c-9f8dbd5e6123"
      },
      "execution_count": null,
      "outputs": [
        {
          "output_type": "error",
          "ename": "TypeError",
          "evalue": "ignored",
          "traceback": [
            "\u001b[0;31m---------------------------------------------------------------------------\u001b[0m",
            "\u001b[0;31mTypeError\u001b[0m                                 Traceback (most recent call last)",
            "\u001b[0;32m<ipython-input-27-0384db7deec3>\u001b[0m in \u001b[0;36m<cell line: 7>\u001b[0;34m()\u001b[0m\n\u001b[1;32m      5\u001b[0m       \u001b[0;32mif\u001b[0m \u001b[0mlist_of_words\u001b[0m\u001b[0;34m[\u001b[0m\u001b[0mi\u001b[0m\u001b[0;34m]\u001b[0m\u001b[0;34m[\u001b[0m\u001b[0mj\u001b[0m\u001b[0;34m]\u001b[0m \u001b[0;34m!=\u001b[0m \u001b[0mlist_of_words\u001b[0m\u001b[0;34m[\u001b[0m\u001b[0mi\u001b[0m\u001b[0;34m]\u001b[0m\u001b[0;34m[\u001b[0m\u001b[0mj\u001b[0m\u001b[0;34m]\u001b[0m\u001b[0;34m+\u001b[0m\u001b[0;36m1\u001b[0m\u001b[0;34m:\u001b[0m\u001b[0;34m\u001b[0m\u001b[0;34m\u001b[0m\u001b[0m\n\u001b[1;32m      6\u001b[0m         \u001b[0mprint\u001b[0m\u001b[0;34m(\u001b[0m\u001b[0mlist_of_words\u001b[0m\u001b[0;34m[\u001b[0m\u001b[0mi\u001b[0m\u001b[0;34m]\u001b[0m\u001b[0;34m[\u001b[0m\u001b[0mj\u001b[0m\u001b[0;34m]\u001b[0m\u001b[0;34m)\u001b[0m\u001b[0;34m\u001b[0m\u001b[0;34m\u001b[0m\u001b[0m\n\u001b[0;32m----> 7\u001b[0;31m \u001b[0munique_chars\u001b[0m\u001b[0;34m(\u001b[0m\u001b[0mlist_of_words\u001b[0m \u001b[0;34m=\u001b[0m \u001b[0;34m[\u001b[0m\u001b[0;34m'hello'\u001b[0m\u001b[0;34m,\u001b[0m \u001b[0;34m'world'\u001b[0m\u001b[0;34m,\u001b[0m \u001b[0;34m'python'\u001b[0m\u001b[0;34m,\u001b[0m \u001b[0;34m'programming'\u001b[0m\u001b[0;34m]\u001b[0m\u001b[0;34m)\u001b[0m\u001b[0;34m\u001b[0m\u001b[0;34m\u001b[0m\u001b[0m\n\u001b[0m",
            "\u001b[0;32m<ipython-input-27-0384db7deec3>\u001b[0m in \u001b[0;36munique_chars\u001b[0;34m(list_of_words)\u001b[0m\n\u001b[1;32m      3\u001b[0m   \u001b[0;32mfor\u001b[0m \u001b[0mi\u001b[0m \u001b[0;32min\u001b[0m \u001b[0mrange\u001b[0m\u001b[0;34m(\u001b[0m\u001b[0mlen\u001b[0m\u001b[0;34m(\u001b[0m\u001b[0mlist_of_words\u001b[0m\u001b[0;34m)\u001b[0m\u001b[0;34m)\u001b[0m\u001b[0;34m:\u001b[0m\u001b[0;34m\u001b[0m\u001b[0;34m\u001b[0m\u001b[0m\n\u001b[1;32m      4\u001b[0m     \u001b[0;32mfor\u001b[0m \u001b[0mj\u001b[0m \u001b[0;32min\u001b[0m \u001b[0mrange\u001b[0m\u001b[0;34m(\u001b[0m\u001b[0mlen\u001b[0m\u001b[0;34m(\u001b[0m\u001b[0mlist_of_words\u001b[0m\u001b[0;34m[\u001b[0m\u001b[0mi\u001b[0m\u001b[0;34m]\u001b[0m\u001b[0;34m)\u001b[0m\u001b[0;34m)\u001b[0m\u001b[0;34m:\u001b[0m\u001b[0;34m\u001b[0m\u001b[0;34m\u001b[0m\u001b[0m\n\u001b[0;32m----> 5\u001b[0;31m       \u001b[0;32mif\u001b[0m \u001b[0mlist_of_words\u001b[0m\u001b[0;34m[\u001b[0m\u001b[0mi\u001b[0m\u001b[0;34m]\u001b[0m\u001b[0;34m[\u001b[0m\u001b[0mj\u001b[0m\u001b[0;34m]\u001b[0m \u001b[0;34m!=\u001b[0m \u001b[0mlist_of_words\u001b[0m\u001b[0;34m[\u001b[0m\u001b[0mi\u001b[0m\u001b[0;34m]\u001b[0m\u001b[0;34m[\u001b[0m\u001b[0mj\u001b[0m\u001b[0;34m]\u001b[0m\u001b[0;34m+\u001b[0m\u001b[0;36m1\u001b[0m\u001b[0;34m:\u001b[0m\u001b[0;34m\u001b[0m\u001b[0;34m\u001b[0m\u001b[0m\n\u001b[0m\u001b[1;32m      6\u001b[0m         \u001b[0mprint\u001b[0m\u001b[0;34m(\u001b[0m\u001b[0mlist_of_words\u001b[0m\u001b[0;34m[\u001b[0m\u001b[0mi\u001b[0m\u001b[0;34m]\u001b[0m\u001b[0;34m[\u001b[0m\u001b[0mj\u001b[0m\u001b[0;34m]\u001b[0m\u001b[0;34m)\u001b[0m\u001b[0;34m\u001b[0m\u001b[0;34m\u001b[0m\u001b[0m\n\u001b[1;32m      7\u001b[0m \u001b[0munique_chars\u001b[0m\u001b[0;34m(\u001b[0m\u001b[0mlist_of_words\u001b[0m \u001b[0;34m=\u001b[0m \u001b[0;34m[\u001b[0m\u001b[0;34m'hello'\u001b[0m\u001b[0;34m,\u001b[0m \u001b[0;34m'world'\u001b[0m\u001b[0;34m,\u001b[0m \u001b[0;34m'python'\u001b[0m\u001b[0;34m,\u001b[0m \u001b[0;34m'programming'\u001b[0m\u001b[0;34m]\u001b[0m\u001b[0;34m)\u001b[0m\u001b[0;34m\u001b[0m\u001b[0;34m\u001b[0m\u001b[0m\n",
            "\u001b[0;31mTypeError\u001b[0m: can only concatenate str (not \"int\") to str"
          ]
        }
      ]
    },
    {
      "cell_type": "code",
      "source": [
        "def maxOnes(arr):\n",
        "    #write code\n",
        "    max_ones = 0\n",
        "    max_ones_index = 0\n",
        "    for i,j in enumerate(arr):\n",
        "        count_ones = j.count(1)\n",
        "        if count_ones > max_ones:\n",
        "            max_ones = count_ones\n",
        "            max_ones_index = i\n",
        "    return max_ones_index\n",
        "maxOnes(arr = [[0,1,1,1], [0,0,1,1], [0,0,1,1]])"
      ],
      "metadata": {
        "colab": {
          "base_uri": "https://localhost:8080/"
        },
        "id": "yppxyhwCUFHl",
        "outputId": "8502d183-8544-444a-a802-526668e1d930"
      },
      "execution_count": null,
      "outputs": [
        {
          "output_type": "execute_result",
          "data": {
            "text/plain": [
              "0"
            ]
          },
          "metadata": {},
          "execution_count": 29
        }
      ]
    },
    {
      "cell_type": "code",
      "source": [
        "def main():\n",
        "    N = int(input())\n",
        "    if N>=195:\n",
        "        print(\"abnormal\")\n",
        "    elif N>=165 and N<195:\n",
        "        print(\"taller\")\n",
        "    elif N>=150 and N<165:\n",
        "        print(\"average\")\n",
        "    else:\n",
        "        print(\"dwarf\")\n",
        "    return 0\n",
        "main()"
      ],
      "metadata": {
        "colab": {
          "base_uri": "https://localhost:8080/"
        },
        "id": "HRA_ow5zU-rS",
        "outputId": "ac069c0e-2e7d-4c9b-c05c-a100cd85b273"
      },
      "execution_count": null,
      "outputs": [
        {
          "output_type": "stream",
          "name": "stdout",
          "text": [
            "112\n",
            "dwarf\n"
          ]
        },
        {
          "output_type": "execute_result",
          "data": {
            "text/plain": [
              "0"
            ]
          },
          "metadata": {},
          "execution_count": 30
        }
      ]
    }
  ]
}