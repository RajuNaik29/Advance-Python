{
  "nbformat": 4,
  "nbformat_minor": 0,
  "metadata": {
    "colab": {
      "provenance": [],
      "authorship_tag": "ABX9TyPsfwvat5Gr5YIdcrqOXEb7",
      "include_colab_link": true
    },
    "kernelspec": {
      "name": "python3",
      "display_name": "Python 3"
    },
    "language_info": {
      "name": "python"
    }
  },
  "cells": [
    {
      "cell_type": "markdown",
      "metadata": {
        "id": "view-in-github",
        "colab_type": "text"
      },
      "source": [
        "<a href=\"https://colab.research.google.com/github/RajuNaik29/Advance-Python/blob/main/Strings_1.ipynb\" target=\"_parent\"><img src=\"https://colab.research.google.com/assets/colab-badge.svg\" alt=\"Open In Colab\"/></a>"
      ]
    },
    {
      "cell_type": "markdown",
      "source": [
        "# Beginner : Strings 1 - 25th Oct 2023\n",
        "![image.png](https://camo.githubusercontent.com/7130d676c4bf3f645ac252cbed608af59ff2a20ac7002f0609683105818d9b31/68747470733a2f2f636f646568732e636f6d2f75706c6f6164732f6637623962346533666365373631306637633838613738386536643461613239)"
      ],
      "metadata": {
        "id": "YCwFMykAWa2N"
      }
    },
    {
      "cell_type": "code",
      "execution_count": null,
      "metadata": {
        "id": "vjIHoqCKpFUC"
      },
      "outputs": [],
      "source": [
        "## Data Types >> primitive DS\n",
        "# str\n",
        "# int\n",
        "# float\n",
        "# bool\n",
        "# None\n",
        "\n",
        "# Properties>> single value at a time>> they are NON-editable/immutable"
      ]
    },
    {
      "cell_type": "code",
      "source": [
        "my_str = 'This is a string'\n",
        "print(my_str)"
      ],
      "metadata": {
        "colab": {
          "base_uri": "https://localhost:8080/"
        },
        "id": "MXnwDYzIpVqM",
        "outputId": "35bf202f-10aa-432f-ef23-ec2079a5207e"
      },
      "execution_count": null,
      "outputs": [
        {
          "output_type": "stream",
          "name": "stdout",
          "text": [
            "This is a string\n"
          ]
        }
      ]
    },
    {
      "cell_type": "code",
      "source": [
        "my_str = '''This\n",
        "is\n",
        "a\n",
        "string'''\n",
        "print(my_str)"
      ],
      "metadata": {
        "colab": {
          "base_uri": "https://localhost:8080/"
        },
        "id": "OT2qN2qzpd67",
        "outputId": "9ecd8e86-c3d8-4287-f1a0-08b2165ce050"
      },
      "execution_count": null,
      "outputs": [
        {
          "output_type": "stream",
          "name": "stdout",
          "text": [
            "This\n",
            "is\n",
            "a\n",
            "string\n"
          ]
        }
      ]
    },
    {
      "cell_type": "code",
      "source": [
        "my_str = '''This is a string'''"
      ],
      "metadata": {
        "id": "KW1GSDE0ppB5"
      },
      "execution_count": null,
      "outputs": []
    },
    {
      "cell_type": "code",
      "source": [
        "my_str = \"This is\n",
        "a string\"\n",
        "print(my_str)"
      ],
      "metadata": {
        "colab": {
          "base_uri": "https://localhost:8080/",
          "height": 143
        },
        "id": "K6yQAM5YpyXw",
        "outputId": "7eeb3ced-000a-45dd-b882-4d8b9c6a8ab4"
      },
      "execution_count": null,
      "outputs": [
        {
          "output_type": "error",
          "ename": "SyntaxError",
          "evalue": "ignored",
          "traceback": [
            "\u001b[0;36m  File \u001b[0;32m\"<ipython-input-9-e560c09a7400>\"\u001b[0;36m, line \u001b[0;32m1\u001b[0m\n\u001b[0;31m    my_str = \"This is\u001b[0m\n\u001b[0m             ^\u001b[0m\n\u001b[0;31mSyntaxError\u001b[0m\u001b[0;31m:\u001b[0m unterminated string literal (detected at line 1)\n"
          ]
        }
      ]
    },
    {
      "cell_type": "code",
      "source": [
        "my_str = \"This is \\na string\"\n",
        "print(my_str)"
      ],
      "metadata": {
        "colab": {
          "base_uri": "https://localhost:8080/"
        },
        "id": "VvUScbDQp5qU",
        "outputId": "f13099df-c958-4e40-e479-916e9367925d"
      },
      "execution_count": null,
      "outputs": [
        {
          "output_type": "stream",
          "name": "stdout",
          "text": [
            "This is \n",
            "a string\n"
          ]
        }
      ]
    },
    {
      "cell_type": "code",
      "source": [
        "my_str = \"This is a string\n",
        "print(my_str)\""
      ],
      "metadata": {
        "colab": {
          "base_uri": "https://localhost:8080/",
          "height": 143
        },
        "id": "RTH44cQjqDbd",
        "outputId": "ee8359ff-ea2e-481c-d593-274890220ca7"
      },
      "execution_count": null,
      "outputs": [
        {
          "output_type": "error",
          "ename": "SyntaxError",
          "evalue": "ignored",
          "traceback": [
            "\u001b[0;36m  File \u001b[0;32m\"<ipython-input-13-eb60fc2d100f>\"\u001b[0;36m, line \u001b[0;32m1\u001b[0m\n\u001b[0;31m    my_str = \"This is a string\u001b[0m\n\u001b[0m             ^\u001b[0m\n\u001b[0;31mSyntaxError\u001b[0m\u001b[0;31m:\u001b[0m unterminated string literal (detected at line 1)\n"
          ]
        }
      ]
    },
    {
      "cell_type": "code",
      "source": [
        "my_str = '''12345677890-0=)(*&^%$%#!@!jhgsfadkqas,kfudgaP}{>?\":<>}🙂)'''\n",
        "print(my_str)"
      ],
      "metadata": {
        "colab": {
          "base_uri": "https://localhost:8080/"
        },
        "id": "jMLC-hprqPSO",
        "outputId": "fd0f7bac-8e24-4731-9b29-de47f7844dc3"
      },
      "execution_count": null,
      "outputs": [
        {
          "output_type": "stream",
          "name": "stdout",
          "text": [
            "12345677890-0=)(*&^%$%#!@!jhgsfadkqas,kfudgaP}{>?\":<>}🙂)\n"
          ]
        }
      ]
    },
    {
      "cell_type": "code",
      "source": [
        "# American Standard Code for Information Interchange\n",
        "# ASCII\n"
      ],
      "metadata": {
        "id": "oZt57H4MqUsE"
      },
      "execution_count": null,
      "outputs": []
    },
    {
      "cell_type": "code",
      "source": [
        "ord('a')"
      ],
      "metadata": {
        "colab": {
          "base_uri": "https://localhost:8080/"
        },
        "id": "CLRFkPMUqW1p",
        "outputId": "9954a14d-f0aa-44cb-9bfc-f8072823f4fc"
      },
      "execution_count": null,
      "outputs": [
        {
          "output_type": "execute_result",
          "data": {
            "text/plain": [
              "97"
            ]
          },
          "metadata": {},
          "execution_count": 17
        }
      ]
    },
    {
      "cell_type": "code",
      "source": [
        "chr(97)"
      ],
      "metadata": {
        "colab": {
          "base_uri": "https://localhost:8080/",
          "height": 35
        },
        "id": "Ttjnoq6FqrDh",
        "outputId": "cbefc0bc-5729-4233-9a62-f9dcbd61cb6c"
      },
      "execution_count": null,
      "outputs": [
        {
          "output_type": "execute_result",
          "data": {
            "text/plain": [
              "'a'"
            ],
            "application/vnd.google.colaboratory.intrinsic+json": {
              "type": "string"
            }
          },
          "metadata": {},
          "execution_count": 25
        }
      ]
    },
    {
      "cell_type": "code",
      "source": [
        "ord('A')"
      ],
      "metadata": {
        "colab": {
          "base_uri": "https://localhost:8080/"
        },
        "id": "Y1kCIoUbqYZY",
        "outputId": "1486b672-49d0-4325-a88f-9d0eda02290d"
      },
      "execution_count": null,
      "outputs": [
        {
          "output_type": "execute_result",
          "data": {
            "text/plain": [
              "65"
            ]
          },
          "metadata": {},
          "execution_count": 19
        }
      ]
    },
    {
      "cell_type": "code",
      "source": [
        "chr(65)"
      ],
      "metadata": {
        "colab": {
          "base_uri": "https://localhost:8080/",
          "height": 35
        },
        "id": "sAEI1gc9qtJp",
        "outputId": "18208ac5-9a11-438f-a3d6-8500f07ac748"
      },
      "execution_count": null,
      "outputs": [
        {
          "output_type": "execute_result",
          "data": {
            "text/plain": [
              "'A'"
            ],
            "application/vnd.google.colaboratory.intrinsic+json": {
              "type": "string"
            }
          },
          "metadata": {},
          "execution_count": 26
        }
      ]
    },
    {
      "cell_type": "code",
      "source": [
        "ord('$')"
      ],
      "metadata": {
        "colab": {
          "base_uri": "https://localhost:8080/"
        },
        "id": "L-MpZ1DsqeL9",
        "outputId": "c62db5d2-531a-43ff-bf28-e72f23c2c3fb"
      },
      "execution_count": null,
      "outputs": [
        {
          "output_type": "execute_result",
          "data": {
            "text/plain": [
              "36"
            ]
          },
          "metadata": {},
          "execution_count": 21
        }
      ]
    },
    {
      "cell_type": "code",
      "source": [
        "chr(36)"
      ],
      "metadata": {
        "colab": {
          "base_uri": "https://localhost:8080/",
          "height": 35
        },
        "id": "qk3nn_qqqu8V",
        "outputId": "9a79cf77-0f73-4b56-c57b-6399fbabb6b9"
      },
      "execution_count": null,
      "outputs": [
        {
          "output_type": "execute_result",
          "data": {
            "text/plain": [
              "'$'"
            ],
            "application/vnd.google.colaboratory.intrinsic+json": {
              "type": "string"
            }
          },
          "metadata": {},
          "execution_count": 27
        }
      ]
    },
    {
      "cell_type": "code",
      "source": [
        "ord('+')"
      ],
      "metadata": {
        "colab": {
          "base_uri": "https://localhost:8080/"
        },
        "id": "F0oLdK6Eqgwd",
        "outputId": "7b87159c-b43b-44c6-b4be-4862c8ba0699"
      },
      "execution_count": null,
      "outputs": [
        {
          "output_type": "execute_result",
          "data": {
            "text/plain": [
              "43"
            ]
          },
          "metadata": {},
          "execution_count": 22
        }
      ]
    },
    {
      "cell_type": "code",
      "source": [
        "chr(43)"
      ],
      "metadata": {
        "colab": {
          "base_uri": "https://localhost:8080/",
          "height": 35
        },
        "id": "a2od_Wfdqwp-",
        "outputId": "48eb1f64-d89e-4915-cd4f-6a07cb1c2056"
      },
      "execution_count": null,
      "outputs": [
        {
          "output_type": "execute_result",
          "data": {
            "text/plain": [
              "'+'"
            ],
            "application/vnd.google.colaboratory.intrinsic+json": {
              "type": "string"
            }
          },
          "metadata": {},
          "execution_count": 28
        }
      ]
    },
    {
      "cell_type": "code",
      "source": [
        "ord('~')"
      ],
      "metadata": {
        "colab": {
          "base_uri": "https://localhost:8080/"
        },
        "id": "l9ssaNKoqjE-",
        "outputId": "d108e3f9-525b-4308-ce12-cb698f821a7d"
      },
      "execution_count": null,
      "outputs": [
        {
          "output_type": "execute_result",
          "data": {
            "text/plain": [
              "126"
            ]
          },
          "metadata": {},
          "execution_count": 23
        }
      ]
    },
    {
      "cell_type": "code",
      "source": [
        "chr(126)"
      ],
      "metadata": {
        "colab": {
          "base_uri": "https://localhost:8080/",
          "height": 35
        },
        "id": "t7xwsj8-qlmb",
        "outputId": "9645ab8b-e892-400e-cb6d-57d81706195c"
      },
      "execution_count": null,
      "outputs": [
        {
          "output_type": "execute_result",
          "data": {
            "text/plain": [
              "'~'"
            ],
            "application/vnd.google.colaboratory.intrinsic+json": {
              "type": "string"
            }
          },
          "metadata": {},
          "execution_count": 29
        }
      ]
    },
    {
      "cell_type": "code",
      "source": [
        "print(ord('a'), ord('z'))\n",
        "print(ord('A'), ord('Z'))\n",
        "print(ord('0'), ord('9'))"
      ],
      "metadata": {
        "colab": {
          "base_uri": "https://localhost:8080/"
        },
        "id": "-XlTKOvvq3EC",
        "outputId": "2b187828-32dd-4a46-ef06-5c8c59385442"
      },
      "execution_count": null,
      "outputs": [
        {
          "output_type": "stream",
          "name": "stdout",
          "text": [
            "97 122\n",
            "65 90\n",
            "48 57\n"
          ]
        }
      ]
    },
    {
      "cell_type": "code",
      "source": [
        "for ordinal in range(ord('0'),ord('9')+1):\n",
        "  print(chr(ordinal),ordinal)"
      ],
      "metadata": {
        "colab": {
          "base_uri": "https://localhost:8080/"
        },
        "id": "E1kgBJZvrAgj",
        "outputId": "4cc26278-496e-44ad-d5a2-0f9bb771d2d3"
      },
      "execution_count": null,
      "outputs": [
        {
          "output_type": "stream",
          "name": "stdout",
          "text": [
            "0 48\n",
            "1 49\n",
            "2 50\n",
            "3 51\n",
            "4 52\n",
            "5 53\n",
            "6 54\n",
            "7 55\n",
            "8 56\n",
            "9 57\n"
          ]
        }
      ]
    },
    {
      "cell_type": "code",
      "source": [
        "for ordinal in range(ord('A'),ord('Z')+1):\n",
        "  print(chr(ordinal),ordinal)"
      ],
      "metadata": {
        "colab": {
          "base_uri": "https://localhost:8080/"
        },
        "id": "7DXLNHohrRrP",
        "outputId": "3c3c2456-498b-4039-fb32-bf8f360d712b"
      },
      "execution_count": null,
      "outputs": [
        {
          "output_type": "stream",
          "name": "stdout",
          "text": [
            "A 65\n",
            "B 66\n",
            "C 67\n",
            "D 68\n",
            "E 69\n",
            "F 70\n",
            "G 71\n",
            "H 72\n",
            "I 73\n",
            "J 74\n",
            "K 75\n",
            "L 76\n",
            "M 77\n",
            "N 78\n",
            "O 79\n",
            "P 80\n",
            "Q 81\n",
            "R 82\n",
            "S 83\n",
            "T 84\n",
            "U 85\n",
            "V 86\n",
            "W 87\n",
            "X 88\n",
            "Y 89\n",
            "Z 90\n"
          ]
        }
      ]
    },
    {
      "cell_type": "code",
      "source": [
        "for ordinal in range(ord('a'),ord('z')+1):\n",
        "  print(chr(ordinal),ordinal)"
      ],
      "metadata": {
        "colab": {
          "base_uri": "https://localhost:8080/"
        },
        "id": "Qy7Je3x_ri51",
        "outputId": "9f281328-a51c-43e5-85a5-2bd027870647"
      },
      "execution_count": null,
      "outputs": [
        {
          "output_type": "stream",
          "name": "stdout",
          "text": [
            "a 97\n",
            "b 98\n",
            "c 99\n",
            "d 100\n",
            "e 101\n",
            "f 102\n",
            "g 103\n",
            "h 104\n",
            "i 105\n",
            "j 106\n",
            "k 107\n",
            "l 108\n",
            "m 109\n",
            "n 110\n",
            "o 111\n",
            "p 112\n",
            "q 113\n",
            "r 114\n",
            "s 115\n",
            "t 116\n",
            "u 117\n",
            "v 118\n",
            "w 119\n",
            "x 120\n",
            "y 121\n",
            "z 122\n"
          ]
        }
      ]
    },
    {
      "cell_type": "code",
      "source": [
        "ord('a'),ord('A')"
      ],
      "metadata": {
        "colab": {
          "base_uri": "https://localhost:8080/"
        },
        "id": "AcfnRiiarrhI",
        "outputId": "0676ecb4-5faa-449c-a2fe-4ed688aa580b"
      },
      "execution_count": null,
      "outputs": [
        {
          "output_type": "execute_result",
          "data": {
            "text/plain": [
              "(97, 65)"
            ]
          },
          "metadata": {},
          "execution_count": 36
        }
      ]
    },
    {
      "cell_type": "code",
      "source": [
        "ord('a')>ord('A')"
      ],
      "metadata": {
        "colab": {
          "base_uri": "https://localhost:8080/"
        },
        "id": "DBdCgCdQr0kC",
        "outputId": "37869f1d-afc7-4e92-e3af-cdb54cd95f03"
      },
      "execution_count": null,
      "outputs": [
        {
          "output_type": "execute_result",
          "data": {
            "text/plain": [
              "True"
            ]
          },
          "metadata": {},
          "execution_count": 37
        }
      ]
    },
    {
      "cell_type": "code",
      "source": [
        "\"a\">\"A\""
      ],
      "metadata": {
        "colab": {
          "base_uri": "https://localhost:8080/"
        },
        "id": "Tf5womLDr3T0",
        "outputId": "d5fe9849-f9cc-477a-8cf9-9e67050771dc"
      },
      "execution_count": null,
      "outputs": [
        {
          "output_type": "execute_result",
          "data": {
            "text/plain": [
              "True"
            ]
          },
          "metadata": {},
          "execution_count": 38
        }
      ]
    },
    {
      "cell_type": "code",
      "source": [
        "# simple str manipulations"
      ],
      "metadata": {
        "id": "1paNuk2Mr6vF"
      },
      "execution_count": null,
      "outputs": []
    },
    {
      "cell_type": "code",
      "source": [
        "print(\"addition+\")\n",
        "print(\"Cristiano \"+\"Ronaldo\")"
      ],
      "metadata": {
        "colab": {
          "base_uri": "https://localhost:8080/"
        },
        "id": "oQB5zW97r-W9",
        "outputId": "1fb9e631-b12a-495d-899a-969d410eef95"
      },
      "execution_count": null,
      "outputs": [
        {
          "output_type": "stream",
          "name": "stdout",
          "text": [
            "addition+\n",
            "Cristiano Ronaldo\n"
          ]
        }
      ]
    },
    {
      "cell_type": "code",
      "source": [
        "my_str = \"I live on earth, and we are 3 planet\"\n",
        "print(my_str)\n",
        "print(type(my_str))"
      ],
      "metadata": {
        "colab": {
          "base_uri": "https://localhost:8080/"
        },
        "id": "TQ4iP5PasIAl",
        "outputId": "0a57a453-480b-4378-f61f-21bd2166b001"
      },
      "execution_count": null,
      "outputs": [
        {
          "output_type": "stream",
          "name": "stdout",
          "text": [
            "I live on earth, and we are 3 planet\n",
            "<class 'str'>\n"
          ]
        }
      ]
    },
    {
      "cell_type": "code",
      "source": [
        "# f str\n",
        "\n",
        "\n",
        "##### How f str\n",
        "# 1: replace all the data with the var names in {}\n",
        "# 2: add f in front\n",
        "\n",
        "planet = \"earth\"\n",
        "rank = 3\n",
        "\n",
        "my_str = f\"I live on {planet}, and we are {rank} planet\"\n",
        "print(my_str)"
      ],
      "metadata": {
        "colab": {
          "base_uri": "https://localhost:8080/"
        },
        "id": "-SPN6MspsNmH",
        "outputId": "3005dc08-fd65-44f1-d5bf-8ca479d1dad3"
      },
      "execution_count": null,
      "outputs": [
        {
          "output_type": "stream",
          "name": "stdout",
          "text": [
            "I live on earth, and we are 3 planet\n"
          ]
        }
      ]
    },
    {
      "cell_type": "code",
      "source": [
        "planet = \"Mars\"\n",
        "rank = 4\n",
        "\n",
        "my_str = f\"I live on {planet}, and we are {rank} planet\"\n",
        "print(my_str)"
      ],
      "metadata": {
        "colab": {
          "base_uri": "https://localhost:8080/"
        },
        "id": "akgTthXXsdX_",
        "outputId": "c5057ab8-b003-4c39-bbc9-b71f12767d4e"
      },
      "execution_count": null,
      "outputs": [
        {
          "output_type": "stream",
          "name": "stdout",
          "text": [
            "I live on Mars, and we are 4 planet\n"
          ]
        }
      ]
    },
    {
      "cell_type": "code",
      "source": [
        "planet = \"Venus\"\n",
        "rank = 2\n",
        "\n",
        "my_str = f\"I live on {planet}, and we are {rank} planet\"\n",
        "print(my_str)"
      ],
      "metadata": {
        "colab": {
          "base_uri": "https://localhost:8080/"
        },
        "id": "VfMADrCGsgim",
        "outputId": "63af59ab-fbeb-41cc-8655-4aa9f5a2bdba"
      },
      "execution_count": null,
      "outputs": [
        {
          "output_type": "stream",
          "name": "stdout",
          "text": [
            "I live on Venus, and we are 2 planet\n"
          ]
        }
      ]
    },
    {
      "cell_type": "code",
      "source": [
        "from ast import MatchStar\n",
        "# Question-1\n",
        "# Take a string input from user and print that string character by character,\n",
        "# with each character in new line.\n",
        "\n",
        "# Input:\n",
        "# \"INDIA\"\n",
        "\n",
        "# Output:\n",
        "# I\n",
        "# N\n",
        "# D\n",
        "# I\n",
        "# A\n",
        "\n",
        "\n",
        "mystr = 'INDIA'\n",
        "for i in mystr:\n",
        "  print(i)"
      ],
      "metadata": {
        "colab": {
          "base_uri": "https://localhost:8080/"
        },
        "id": "yYwu2E5wspNd",
        "outputId": "6f2f08c6-3dff-4a82-a0a3-f5a846fac533"
      },
      "execution_count": null,
      "outputs": [
        {
          "output_type": "stream",
          "name": "stdout",
          "text": [
            "I\n",
            "N\n",
            "D\n",
            "I\n",
            "A\n"
          ]
        }
      ]
    },
    {
      "cell_type": "code",
      "source": [
        "# Question-2\n",
        "# Take a string input from user.\n",
        "# Print the following.\n",
        "# Print format:\n",
        "\n",
        "# \"First Character - , Last Character - \"\n",
        "\n",
        "# Input:\n",
        "# \"INDIA\"\n",
        "\n",
        "# Output:\n",
        "# \"First Character - I, Last Character - A\"\n",
        "\n",
        "mystr = 'INDIA'\n",
        "f\"First Character - {mystr[0]}, Last Character - {mystr[-1]}\"\n",
        "#print(f\"First Character - {mystr[0]}, Last Character - {mystr[-1]}\")"
      ],
      "metadata": {
        "colab": {
          "base_uri": "https://localhost:8080/",
          "height": 35
        },
        "id": "RG5rg1His57p",
        "outputId": "1d5b1c23-9165-4882-e747-cb82f28f3c77"
      },
      "execution_count": null,
      "outputs": [
        {
          "output_type": "execute_result",
          "data": {
            "text/plain": [
              "'First Character - I, Last Character - A'"
            ],
            "application/vnd.google.colaboratory.intrinsic+json": {
              "type": "string"
            }
          },
          "metadata": {},
          "execution_count": 53
        }
      ]
    },
    {
      "cell_type": "code",
      "source": [
        "my_str = \"INDIA\"\n",
        "print(my_str)\n",
        "print(my_str[1])\n",
        "my_str[1] ='n' # >> they are NON-editable/immutable"
      ],
      "metadata": {
        "colab": {
          "base_uri": "https://localhost:8080/",
          "height": 250
        },
        "id": "80suOKlns-yD",
        "outputId": "d99d5f0e-dccd-4121-e3ba-f335b189268b"
      },
      "execution_count": null,
      "outputs": [
        {
          "output_type": "stream",
          "name": "stdout",
          "text": [
            "INDIA\n",
            "N\n"
          ]
        },
        {
          "output_type": "error",
          "ename": "TypeError",
          "evalue": "ignored",
          "traceback": [
            "\u001b[0;31m---------------------------------------------------------------------------\u001b[0m",
            "\u001b[0;31mTypeError\u001b[0m                                 Traceback (most recent call last)",
            "\u001b[0;32m<ipython-input-54-9d7717727e8e>\u001b[0m in \u001b[0;36m<cell line: 4>\u001b[0;34m()\u001b[0m\n\u001b[1;32m      2\u001b[0m \u001b[0mprint\u001b[0m\u001b[0;34m(\u001b[0m\u001b[0mmy_str\u001b[0m\u001b[0;34m)\u001b[0m\u001b[0;34m\u001b[0m\u001b[0;34m\u001b[0m\u001b[0m\n\u001b[1;32m      3\u001b[0m \u001b[0mprint\u001b[0m\u001b[0;34m(\u001b[0m\u001b[0mmy_str\u001b[0m\u001b[0;34m[\u001b[0m\u001b[0;36m1\u001b[0m\u001b[0;34m]\u001b[0m\u001b[0;34m)\u001b[0m\u001b[0;34m\u001b[0m\u001b[0;34m\u001b[0m\u001b[0m\n\u001b[0;32m----> 4\u001b[0;31m \u001b[0mmy_str\u001b[0m\u001b[0;34m[\u001b[0m\u001b[0;36m1\u001b[0m\u001b[0;34m]\u001b[0m \u001b[0;34m=\u001b[0m\u001b[0;34m'n'\u001b[0m \u001b[0;31m# >> they are NON-editable/immutable\u001b[0m\u001b[0;34m\u001b[0m\u001b[0;34m\u001b[0m\u001b[0m\n\u001b[0m",
            "\u001b[0;31mTypeError\u001b[0m: 'str' object does not support item assignment"
          ]
        }
      ]
    },
    {
      "cell_type": "code",
      "source": [
        "# Question-3\n",
        "# Take a string input from user.\n",
        "# Reverse that string.\n",
        "\n",
        "mystr = input()\n",
        "print(mystr[::-1])"
      ],
      "metadata": {
        "colab": {
          "base_uri": "https://localhost:8080/"
        },
        "id": "g769UNmttmxk",
        "outputId": "772f546f-e286-4081-cb35-c7ae8afe9f9c"
      },
      "execution_count": null,
      "outputs": [
        {
          "output_type": "stream",
          "name": "stdout",
          "text": [
            "Raju\n",
            "ujaR\n"
          ]
        }
      ]
    },
    {
      "cell_type": "code",
      "source": [
        "# Question-4\n",
        "# Take a string input from user.\n",
        "# Return \"PALINDROME\" if the string is a palindrome, otherwise return \"NOT A PALINDROME\".\n",
        "\n",
        "mystr = input()\n",
        "print(mystr[::-1])\n",
        "if mystr == mystr[::-1]:\n",
        "  print('Palindrome')\n",
        "else:\n",
        "  print('Not palindrome')"
      ],
      "metadata": {
        "colab": {
          "base_uri": "https://localhost:8080/"
        },
        "id": "SlZEYjZltskx",
        "outputId": "6469530a-79cb-4a37-de56-56ce2e641df0"
      },
      "execution_count": null,
      "outputs": [
        {
          "output_type": "stream",
          "name": "stdout",
          "text": [
            "AbbA\n",
            "AbbA\n",
            "Palindrome\n"
          ]
        }
      ]
    },
    {
      "cell_type": "code",
      "source": [
        "mystr = input()\n",
        "print(mystr[::-1])\n",
        "if mystr == mystr[::-1]:\n",
        "  print('Palindrome')\n",
        "else:\n",
        "  print('Not palindrome')"
      ],
      "metadata": {
        "colab": {
          "base_uri": "https://localhost:8080/"
        },
        "id": "cfiHEX5GuEQH",
        "outputId": "76cb4338-2d5b-4f80-f27d-743cea61bf5e"
      },
      "execution_count": null,
      "outputs": [
        {
          "output_type": "stream",
          "name": "stdout",
          "text": [
            "Raju\n",
            "ujaR\n",
            "Not palindrome\n"
          ]
        }
      ]
    },
    {
      "cell_type": "code",
      "source": [
        "# Question-5\n",
        "# Take a string input from user.\n",
        "# Print the number of upper case characters in that string.\n",
        "\n",
        "mystr = input()\n",
        "count = 0\n",
        "for i in mystr:\n",
        "  if ord(i)>=65 and ord(i)<=90:\n",
        "    print(i)\n",
        "    count+=1\n",
        "print(count)"
      ],
      "metadata": {
        "colab": {
          "base_uri": "https://localhost:8080/"
        },
        "id": "bViGV23auGGg",
        "outputId": "4bd8ebcd-bf2e-4db8-e3b6-f65a048abae3"
      },
      "execution_count": null,
      "outputs": [
        {
          "output_type": "stream",
          "name": "stdout",
          "text": [
            "RAJu\n",
            "R\n",
            "A\n",
            "J\n",
            "3\n"
          ]
        }
      ]
    },
    {
      "cell_type": "code",
      "source": [
        "mystr = input()\n",
        "count = 0\n",
        "for i in mystr:\n",
        "  if ord(i)>=65 and ord(i)<=90:\n",
        "    print(i, end = ' ')\n",
        "    count+=1\n",
        "print()\n",
        "print('Count = ',count)"
      ],
      "metadata": {
        "colab": {
          "base_uri": "https://localhost:8080/"
        },
        "id": "-rAQ344FutrT",
        "outputId": "eb9d8d76-5cf2-48da-d722-f5b0a3bc4e6a"
      },
      "execution_count": null,
      "outputs": [
        {
          "output_type": "stream",
          "name": "stdout",
          "text": [
            "\"This is a RANDOM strinG 67890, ^$#@\n",
            "T R A N D O M G \n",
            "Count =  8\n"
          ]
        }
      ]
    },
    {
      "cell_type": "code",
      "source": [
        "#2\n",
        "count = 0\n",
        "for character in my_str:\n",
        "    if character.isupper():\n",
        "        count+=1\n",
        "print(count)"
      ],
      "metadata": {
        "colab": {
          "base_uri": "https://localhost:8080/"
        },
        "id": "7wTJI_lhuxSa",
        "outputId": "1452c437-1118-412d-90a3-275104aab659"
      },
      "execution_count": null,
      "outputs": [
        {
          "output_type": "stream",
          "name": "stdout",
          "text": [
            "5\n"
          ]
        }
      ]
    },
    {
      "cell_type": "code",
      "source": [
        "# split and join\n",
        "\n",
        "\n",
        "my_str = \"1,2,3,4,5,6\"\n",
        "print(my_str.split(','))"
      ],
      "metadata": {
        "colab": {
          "base_uri": "https://localhost:8080/"
        },
        "id": "8iIuwZzgvXcx",
        "outputId": "c7328466-0e74-4d64-8c77-9487cdb8e0ad"
      },
      "execution_count": null,
      "outputs": [
        {
          "output_type": "stream",
          "name": "stdout",
          "text": [
            "['1', '2', '3', '4', '5', '6']\n"
          ]
        }
      ]
    },
    {
      "cell_type": "code",
      "source": [
        "my_list_of_strs = ['1', '2', '3', '4', '5', '6']\n",
        "print(' '.join(my_list_of_strs))\n",
        "print('__'.join(my_list_of_strs))\n",
        "join_using = \":\"\n",
        "print(join_using.join(my_list_of_strs))"
      ],
      "metadata": {
        "colab": {
          "base_uri": "https://localhost:8080/"
        },
        "id": "GaYgItwkvZvW",
        "outputId": "c91d3a91-df1d-468a-f5d8-c10b3cb03193"
      },
      "execution_count": null,
      "outputs": [
        {
          "output_type": "stream",
          "name": "stdout",
          "text": [
            "1 2 3 4 5 6\n",
            "1__2__3__4__5__6\n",
            "1:2:3:4:5:6\n"
          ]
        }
      ]
    },
    {
      "cell_type": "code",
      "source": [
        "my_list_of_strs = ['1', '2', '3', '4', '5', '6']\n",
        "print(\"*\".join(my_list_of_strs))"
      ],
      "metadata": {
        "colab": {
          "base_uri": "https://localhost:8080/"
        },
        "id": "peVE1sL9vj3m",
        "outputId": "078cedf4-a104-4190-86ca-818a3685d5d2"
      },
      "execution_count": null,
      "outputs": [
        {
          "output_type": "stream",
          "name": "stdout",
          "text": [
            "1*2*3*4*5*6\n"
          ]
        }
      ]
    },
    {
      "cell_type": "code",
      "source": [
        "my_list_of_strs = ['1', '2', '3', '4', '5', '6']\n",
        "print(\"^\".join(my_list_of_strs))"
      ],
      "metadata": {
        "colab": {
          "base_uri": "https://localhost:8080/"
        },
        "id": "ibPkKl6cvrHm",
        "outputId": "9c5d5a84-982d-478d-9699-fefb73d68b55"
      },
      "execution_count": null,
      "outputs": [
        {
          "output_type": "stream",
          "name": "stdout",
          "text": [
            "1^2^3^4^5^6\n"
          ]
        }
      ]
    },
    {
      "cell_type": "code",
      "source": [
        "# Question-6\n",
        "# You are given a list of numbers between 1 and 256.\n",
        "# Generate a string from the char values of these numbers.\n",
        "\n",
        "# Input:\n",
        "# [65, 97, 68]\n",
        "\n",
        "# Output:\n",
        "# Aad\n",
        "\n",
        "# Explanation\n",
        "# chr(65) - A\n",
        "# chr(97) - a\n",
        "# chr(68) - D\n",
        "\n",
        "input = [65, 97, 68, 89, 78, 99, 77, 73]\n",
        "for i in input:\n",
        "  print(chr(i))"
      ],
      "metadata": {
        "colab": {
          "base_uri": "https://localhost:8080/"
        },
        "id": "flynK3k1vxAP",
        "outputId": "8af6cd06-29d7-44f8-bc13-32efdcefc5eb"
      },
      "execution_count": null,
      "outputs": [
        {
          "output_type": "stream",
          "name": "stdout",
          "text": [
            "A\n",
            "a\n",
            "D\n",
            "Y\n",
            "N\n",
            "c\n",
            "M\n",
            "I\n"
          ]
        }
      ]
    },
    {
      "cell_type": "code",
      "source": [
        "#1\n",
        "def generate_str(lst):\n",
        "    s = \"\" #Empty String\n",
        "    for i in lst:\n",
        "        s+=chr(i)\n",
        "    return s\n",
        "generate_str(lst=[65, 97, 68])"
      ],
      "metadata": {
        "colab": {
          "base_uri": "https://localhost:8080/",
          "height": 35
        },
        "id": "xbufHy19wNqO",
        "outputId": "4d87b5e5-36d9-4e26-a011-0bb6eb006e48"
      },
      "execution_count": null,
      "outputs": [
        {
          "output_type": "execute_result",
          "data": {
            "text/plain": [
              "'AaD'"
            ],
            "application/vnd.google.colaboratory.intrinsic+json": {
              "type": "string"
            }
          },
          "metadata": {},
          "execution_count": 78
        }
      ]
    },
    {
      "cell_type": "code",
      "source": [
        "#2\n",
        "def generate_str(lst):\n",
        "    s = []\n",
        "    for i in lst:\n",
        "        s.append(chr(i))\n",
        "    return \"\".join(s)\n",
        "generate_str(lst=[65, 97, 68])"
      ],
      "metadata": {
        "colab": {
          "base_uri": "https://localhost:8080/",
          "height": 35
        },
        "id": "DB6BviK9wdch",
        "outputId": "5a398b70-529c-4c53-bf77-9678837c883b"
      },
      "execution_count": 3,
      "outputs": [
        {
          "output_type": "execute_result",
          "data": {
            "text/plain": [
              "'AaD'"
            ],
            "application/vnd.google.colaboratory.intrinsic+json": {
              "type": "string"
            }
          },
          "metadata": {},
          "execution_count": 3
        }
      ]
    },
    {
      "cell_type": "code",
      "source": [
        "# Question-7\n",
        "# Get input from the user of a string of comma separated int.\n",
        "# Convert it into a list  of individual int.\n",
        "\n",
        "# \"56,78,99,101\"\n",
        "# [56, 78, 99, 101]\n",
        "\n",
        "user_input = \"56,78,99,101\"\n",
        "print(user_input)\n",
        "user_input_split = user_input.split(',')\n",
        "print(user_input_split)\n",
        "\n",
        "lst = []\n",
        "for i in user_input_split:\n",
        "  lst.append(int(i))\n",
        "print(lst)"
      ],
      "metadata": {
        "colab": {
          "base_uri": "https://localhost:8080/"
        },
        "id": "XVEfjh1Dwkg1",
        "outputId": "a9dbd9bd-74fb-42f1-cc96-018396a1f9ed"
      },
      "execution_count": null,
      "outputs": [
        {
          "output_type": "stream",
          "name": "stdout",
          "text": [
            "56,78,99,101\n",
            "['56', '78', '99', '101']\n",
            "[56, 78, 99, 101]\n"
          ]
        }
      ]
    },
    {
      "cell_type": "code",
      "source": [
        "new_str = \"hello\"\n",
        "new_str = new_str.join(\"hi\")\n",
        "new_str\n"
      ],
      "metadata": {
        "id": "9kp__21HxSMl",
        "outputId": "1cfa63c4-f62c-43b0-e225-610189bd6752",
        "colab": {
          "base_uri": "https://localhost:8080/",
          "height": 35
        }
      },
      "execution_count": null,
      "outputs": [
        {
          "output_type": "execute_result",
          "data": {
            "text/plain": [
              "'hhelloi'"
            ],
            "application/vnd.google.colaboratory.intrinsic+json": {
              "type": "string"
            }
          },
          "metadata": {},
          "execution_count": 86
        }
      ]
    },
    {
      "cell_type": "code",
      "source": [
        "\"hi\".join(\"hello\")"
      ],
      "metadata": {
        "id": "oJDZTSZGxUvv",
        "outputId": "b8ea53d9-cc6d-4858-9953-69b8f0c6b7b3",
        "colab": {
          "base_uri": "https://localhost:8080/",
          "height": 35
        }
      },
      "execution_count": null,
      "outputs": [
        {
          "output_type": "execute_result",
          "data": {
            "text/plain": [
              "'hhiehilhilhio'"
            ],
            "application/vnd.google.colaboratory.intrinsic+json": {
              "type": "string"
            }
          },
          "metadata": {},
          "execution_count": 87
        }
      ]
    },
    {
      "cell_type": "markdown",
      "source": [
        "## Assignament Problems"
      ],
      "metadata": {
        "id": "2FzedxTCGNC-"
      }
    },
    {
      "cell_type": "code",
      "source": [
        "# Q1. Reverse the word - II\n",
        "def reverse(A):\n",
        "  return A[::-1]\n",
        "\n",
        "reverse(A = \"interviewbit\")"
      ],
      "metadata": {
        "colab": {
          "base_uri": "https://localhost:8080/",
          "height": 35
        },
        "id": "iJDWdE0YGQKq",
        "outputId": "72481437-abfd-4418-865a-9934c8559891"
      },
      "execution_count": null,
      "outputs": [
        {
          "output_type": "execute_result",
          "data": {
            "text/plain": [
              "'tibweivretni'"
            ],
            "application/vnd.google.colaboratory.intrinsic+json": {
              "type": "string"
            }
          },
          "metadata": {},
          "execution_count": 3
        }
      ]
    },
    {
      "cell_type": "code",
      "source": [
        "# Q2. Vowels vs Consonants - II\n",
        "\n",
        "#You are given lowercase string (A) and you have to tell the count of vowels and consonants in it.\n",
        "\n",
        "def alpha(A):\n",
        "  c = [0,0]\n",
        "  vowels = ['a','e','i','o','u',]\n",
        "  for i in A:\n",
        "    if i in vowels:\n",
        "      c[0] += 1\n",
        "    else:\n",
        "      c[1] += 1\n",
        "  return c\n",
        "\n",
        "alpha(A = \"interviewbit\")\n"
      ],
      "metadata": {
        "colab": {
          "base_uri": "https://localhost:8080/"
        },
        "id": "ejn5rV3BGe03",
        "outputId": "f4b45b27-0d16-49b5-db7d-c8ba4eb00939"
      },
      "execution_count": null,
      "outputs": [
        {
          "output_type": "execute_result",
          "data": {
            "text/plain": [
              "[5, 7]"
            ]
          },
          "metadata": {},
          "execution_count": 4
        }
      ]
    },
    {
      "cell_type": "code",
      "source": [
        "# Q1. String operations\n",
        "\n",
        "def operations(A):\n",
        "  A+=A\n",
        "  b=\"\"\n",
        "  n=len(A)\n",
        "  for i in A:\n",
        "    if(i>='a' and i<='z'):\n",
        "      if(i=='a' or i=='e' or i=='o' or i=='i' or i=='u'):\n",
        "        b+='#'\n",
        "      else:\n",
        "        b+=i\n",
        "  return b\n",
        "\n",
        "operations(A = \"aeiOUz\")"
      ],
      "metadata": {
        "colab": {
          "base_uri": "https://localhost:8080/",
          "height": 35
        },
        "id": "ORhrQaYjHRkn",
        "outputId": "b0d47224-c49a-4e63-a7a5-389a7b7fac8f"
      },
      "execution_count": null,
      "outputs": [
        {
          "output_type": "execute_result",
          "data": {
            "text/plain": [
              "'###z###z'"
            ],
            "application/vnd.google.colaboratory.intrinsic+json": {
              "type": "string"
            }
          },
          "metadata": {},
          "execution_count": 9
        }
      ]
    },
    {
      "cell_type": "code",
      "source": [
        "#Q5. Anagram or not\n",
        "\n",
        "'''Write a program to check whether two given strings are anagrams or not. Return True if the strings are anagrams else return False.\n",
        "\n",
        "Note: An anagram of a string is another string that contains the same characters, only the order of characters can be different.'''\n",
        "\n",
        "def check_anagram(A,B):\n",
        "  result = True\n",
        "  if len(A) == len(B):\n",
        "    A = sorted(A)\n",
        "    B = sorted(B)\n",
        "    N = len(A)\n",
        "    for i in range(N):\n",
        "      if A[i] != B[i]:\n",
        "        result = False\n",
        "        break\n",
        "  else:\n",
        "    result = False\n",
        "  return result\n",
        "\n",
        "check_anagram(A = \"silent\",B = 'listen')"
      ],
      "metadata": {
        "colab": {
          "base_uri": "https://localhost:8080/"
        },
        "id": "U1nvHW94JLdf",
        "outputId": "fce5326b-2991-41a6-cf4d-2fb41e076451"
      },
      "execution_count": null,
      "outputs": [
        {
          "output_type": "execute_result",
          "data": {
            "text/plain": [
              "True"
            ]
          },
          "metadata": {},
          "execution_count": 15
        }
      ]
    },
    {
      "cell_type": "code",
      "source": [
        "check_anagram(A = 'Hello', B = 'Hi')"
      ],
      "metadata": {
        "colab": {
          "base_uri": "https://localhost:8080/"
        },
        "id": "SwQG1lR3Le8j",
        "outputId": "104ce56f-e43f-4e5e-9ded-1285b540b476"
      },
      "execution_count": null,
      "outputs": [
        {
          "output_type": "execute_result",
          "data": {
            "text/plain": [
              "False"
            ]
          },
          "metadata": {},
          "execution_count": 16
        }
      ]
    }
  ]
}