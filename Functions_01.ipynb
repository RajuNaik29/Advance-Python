{
  "nbformat": 4,
  "nbformat_minor": 0,
  "metadata": {
    "colab": {
      "provenance": [],
      "authorship_tag": "ABX9TyMjQYiRaTAXNqY5sZ0EJnGp",
      "include_colab_link": true
    },
    "kernelspec": {
      "name": "python3",
      "display_name": "Python 3"
    },
    "language_info": {
      "name": "python"
    }
  },
  "cells": [
    {
      "cell_type": "markdown",
      "metadata": {
        "id": "view-in-github",
        "colab_type": "text"
      },
      "source": [
        "<a href=\"https://colab.research.google.com/github/RajuNaik29/Advance-Python/blob/main/Functions_01.ipynb\" target=\"_parent\"><img src=\"https://colab.research.google.com/assets/colab-badge.svg\" alt=\"Open In Colab\"/></a>"
      ]
    },
    {
      "cell_type": "code",
      "execution_count": null,
      "metadata": {
        "id": "wUtl8kJcpJrv"
      },
      "outputs": [],
      "source": [
        "def prepare_4_guests():\n",
        "    print('Clean the house')\n",
        "    print('arrange the drawing room')\n",
        "    print('wear nice clothes')\n",
        "    print('go to market and get some samosas and cold drinks')\n",
        "    print(\"DO NOT misbehave infront of the guests\")\n",
        "    print('When the guests come, greet them')\n",
        "    print('Sing a poem')\n"
      ]
    },
    {
      "cell_type": "code",
      "source": [
        "#calling the function\n",
        "prepare_4_guests()"
      ],
      "metadata": {
        "colab": {
          "base_uri": "https://localhost:8080/"
        },
        "id": "oQHHnHkdpYwi",
        "outputId": "528e25ea-2a7a-46be-c247-e7fd7681cd02"
      },
      "execution_count": null,
      "outputs": [
        {
          "output_type": "stream",
          "name": "stdout",
          "text": [
            "Clean the house\n",
            "arrange the drawing room\n",
            "wear nice clothes\n",
            "go to market and get some samosas and cold drinks\n",
            "DO NOT misbehave infront of the guests\n",
            "When the guests come, greet them\n",
            "Sing a poem\n"
          ]
        }
      ]
    },
    {
      "cell_type": "code",
      "source": [
        "# looping\n",
        "for i in range(3):\n",
        "  prepare_4_guests()"
      ],
      "metadata": {
        "colab": {
          "base_uri": "https://localhost:8080/"
        },
        "id": "X19SQkSNpf4m",
        "outputId": "938c9503-6395-4a4a-fc39-ab3ca965bc2b"
      },
      "execution_count": null,
      "outputs": [
        {
          "output_type": "stream",
          "name": "stdout",
          "text": [
            "Clean the house\n",
            "arrange the drawing room\n",
            "wear nice clothes\n",
            "go to market and get some samosas and cold drinks\n",
            "DO NOT misbehave infront of the guests\n",
            "When the guests come, greet them\n",
            "Sing a poem\n",
            "Clean the house\n",
            "arrange the drawing room\n",
            "wear nice clothes\n",
            "go to market and get some samosas and cold drinks\n",
            "DO NOT misbehave infront of the guests\n",
            "When the guests come, greet them\n",
            "Sing a poem\n",
            "Clean the house\n",
            "arrange the drawing room\n",
            "wear nice clothes\n",
            "go to market and get some samosas and cold drinks\n",
            "DO NOT misbehave infront of the guests\n",
            "When the guests come, greet them\n",
            "Sing a poem\n"
          ]
        }
      ]
    },
    {
      "cell_type": "code",
      "source": [
        "# creating nimbu_pani function\n",
        "def nimbu_pani():\n",
        "    print('Get an empty glass')\n",
        "    print(\"Get a lemon and cut it\")\n",
        "    print('Squeeze the lemon')\n",
        "    want_sugar = input('Do you want sugar Y/N : ')\n",
        "    if want_sugar == 'y':\n",
        "      print('sugar added')\n",
        "    else:\n",
        "      print('Add salt')\n",
        "    print('Add water')\n",
        "    print('stir')\n",
        "    print(\"Your nimbu pani is ready\")"
      ],
      "metadata": {
        "id": "tV6EkvJVpsQs"
      },
      "execution_count": null,
      "outputs": []
    },
    {
      "cell_type": "code",
      "source": [
        "#calling above function\n",
        "nimbu_pani()"
      ],
      "metadata": {
        "colab": {
          "base_uri": "https://localhost:8080/"
        },
        "id": "QVtgFqbdqkVH",
        "outputId": "82cc983e-ab2c-4910-b797-2f6b6692883b"
      },
      "execution_count": null,
      "outputs": [
        {
          "output_type": "stream",
          "name": "stdout",
          "text": [
            "Get an empty glass\n",
            "Get a lemon and cut it\n",
            "Squeeze the lemon\n",
            "Do you want sugar Y/N : y\n",
            "sugar added\n",
            "Add water\n",
            "stir\n",
            "Your nimbu pani is ready\n"
          ]
        }
      ]
    },
    {
      "cell_type": "code",
      "source": [
        "nimbu_pani()"
      ],
      "metadata": {
        "colab": {
          "base_uri": "https://localhost:8080/"
        },
        "id": "gsTmYK9MqrRN",
        "outputId": "69838088-0e0e-4bb9-ba4d-9e75941c21c1"
      },
      "execution_count": null,
      "outputs": [
        {
          "output_type": "stream",
          "name": "stdout",
          "text": [
            "Get an empty glass\n",
            "Get a lemon and cut it\n",
            "Squeeze the lemon\n",
            "Do you want sugar Y/N : N\n",
            "Add salt\n",
            "Add water\n",
            "stir\n",
            "Your nimbu pani is ready\n"
          ]
        }
      ]
    },
    {
      "cell_type": "code",
      "source": [
        "for i in range(3):\n",
        "  nimbu_pani()"
      ],
      "metadata": {
        "colab": {
          "base_uri": "https://localhost:8080/"
        },
        "id": "y3KrGq_iqugP",
        "outputId": "d2e66e38-19f6-4c5c-ca77-a983ba0edf42"
      },
      "execution_count": null,
      "outputs": [
        {
          "output_type": "stream",
          "name": "stdout",
          "text": [
            "Get an empty glass\n",
            "Get a lemon and cut it\n",
            "Squeeze the lemon\n",
            "Do you want sugar Y/N : y\n",
            "sugar added\n",
            "Add water\n",
            "stir\n",
            "Your nimbu pani is ready\n",
            "Get an empty glass\n",
            "Get a lemon and cut it\n",
            "Squeeze the lemon\n",
            "Do you want sugar Y/N : n\n",
            "Add salt\n",
            "Add water\n",
            "stir\n",
            "Your nimbu pani is ready\n",
            "Get an empty glass\n",
            "Get a lemon and cut it\n",
            "Squeeze the lemon\n",
            "Do you want sugar Y/N : n\n",
            "Add salt\n",
            "Add water\n",
            "stir\n",
            "Your nimbu pani is ready\n"
          ]
        }
      ]
    },
    {
      "cell_type": "code",
      "source": [
        "# sheldon\n",
        "print(\"knock knock Sachin\")\n",
        "print(\"knock knock Sachin\")\n",
        "print(\"knock knock Sachin\")"
      ],
      "metadata": {
        "colab": {
          "base_uri": "https://localhost:8080/"
        },
        "id": "FCKkI4oMq2_X",
        "outputId": "f73c5aa4-19ad-4d9b-88f2-dca1611f1c53"
      },
      "execution_count": null,
      "outputs": [
        {
          "output_type": "stream",
          "name": "stdout",
          "text": [
            "knock knock Sachin\n",
            "knock knock Sachin\n",
            "knock knock Sachin\n"
          ]
        }
      ]
    },
    {
      "cell_type": "code",
      "source": [
        "name = input('name of the person: ')\n",
        "print(\"knock knock\", name)\n",
        "print(\"knock knock\", name)\n",
        "print(\"knock knock\", name)"
      ],
      "metadata": {
        "colab": {
          "base_uri": "https://localhost:8080/"
        },
        "id": "P2O0ORY7rAw0",
        "outputId": "ae74e1e8-332c-4695-ce2c-8369b59419d3"
      },
      "execution_count": null,
      "outputs": [
        {
          "output_type": "stream",
          "name": "stdout",
          "text": [
            "name of the person: Raju\n",
            "knock knock Raju\n",
            "knock knock Raju\n",
            "knock knock Raju\n"
          ]
        }
      ]
    },
    {
      "cell_type": "code",
      "source": [
        "def Raju_greets():\n",
        "  name = input('name of a person : ')\n",
        "  print(\"knock knock\", name)\n",
        "  print(\"knock knock\", name)\n",
        "  print(\"knock knock\", name)"
      ],
      "metadata": {
        "id": "htP08n6NrH8G"
      },
      "execution_count": null,
      "outputs": []
    },
    {
      "cell_type": "code",
      "source": [
        "#calling a function\n",
        "Raju_greets()"
      ],
      "metadata": {
        "colab": {
          "base_uri": "https://localhost:8080/"
        },
        "id": "0MLPyZXYrW-l",
        "outputId": "e1db123f-4aec-4361-af8e-529da80b999f"
      },
      "execution_count": null,
      "outputs": [
        {
          "output_type": "stream",
          "name": "stdout",
          "text": [
            "name of a person : Raju\n",
            "knock knock Raju\n",
            "knock knock Raju\n",
            "knock knock Raju\n"
          ]
        }
      ]
    },
    {
      "cell_type": "code",
      "source": [
        "Raju_greets()"
      ],
      "metadata": {
        "colab": {
          "base_uri": "https://localhost:8080/"
        },
        "id": "e9peXA5XreAB",
        "outputId": "ce658cf7-f976-4d75-c4e6-71843839144e"
      },
      "execution_count": null,
      "outputs": [
        {
          "output_type": "stream",
          "name": "stdout",
          "text": [
            "name of a person : Naik\n",
            "knock knock Naik\n",
            "knock knock Naik\n",
            "knock knock Naik\n"
          ]
        }
      ]
    },
    {
      "cell_type": "code",
      "source": [
        "#documenting a function >> doc_string\n",
        "def propose(name):\n",
        "  '''This is a function that will ask a user/ propose a user\n",
        "  whether they want to marry you\n",
        "  Be careful 😂🤣\n",
        "\n",
        "  Expects one input and that is the name of the person being proposed'''\n",
        "\n",
        "  print('will you marry me :', name)"
      ],
      "metadata": {
        "id": "K-TdII0Wrq5F"
      },
      "execution_count": null,
      "outputs": []
    },
    {
      "cell_type": "code",
      "source": [
        "help(propose)"
      ],
      "metadata": {
        "colab": {
          "base_uri": "https://localhost:8080/"
        },
        "id": "rT7hG9N_sR51",
        "outputId": "224d83a2-ff66-46b9-844c-09132c7bc126"
      },
      "execution_count": null,
      "outputs": [
        {
          "output_type": "stream",
          "name": "stdout",
          "text": [
            "Help on function propose in module __main__:\n",
            "\n",
            "propose(name)\n",
            "    This is a function that will ask a user/ propose a user\n",
            "    whether they want to marry you\n",
            "    Be careful 😂🤣\n",
            "    \n",
            "    Expects one input and that is the name of the person being proposed\n",
            "\n"
          ]
        }
      ]
    },
    {
      "cell_type": "code",
      "source": [
        "propose('Raju')"
      ],
      "metadata": {
        "colab": {
          "base_uri": "https://localhost:8080/"
        },
        "id": "V6rSkLAhsnrl",
        "outputId": "4a8a5a1a-8605-4785-9dab-8a0c713f700f"
      },
      "execution_count": null,
      "outputs": [
        {
          "output_type": "stream",
          "name": "stdout",
          "text": [
            "will you marry me : Raju\n"
          ]
        }
      ]
    },
    {
      "cell_type": "code",
      "source": [
        "propose(name = 'Raju')"
      ],
      "metadata": {
        "colab": {
          "base_uri": "https://localhost:8080/"
        },
        "id": "PMbzE2mls1Gh",
        "outputId": "06c5695b-ed27-47c6-ab76-bdda820e54fc"
      },
      "execution_count": null,
      "outputs": [
        {
          "output_type": "stream",
          "name": "stdout",
          "text": [
            "will you marry me : Raju\n"
          ]
        }
      ]
    },
    {
      "cell_type": "code",
      "source": [
        "def propose(name):\n",
        "  '''This is a function that will ask a user/ propose a user\n",
        "  whether they want to marry you\n",
        "  Be careful 😂🤣\n",
        "\n",
        "  Expects one input and that is the name of the person being proposed'''\n",
        "  print(type(name))\n",
        "  print('Will you marry me : ', name)\n",
        "propose('Raju')\n",
        "propose(1234)\n",
        "propose(12721.3)\n",
        "propose(True)\n",
        "propose(None)\n"
      ],
      "metadata": {
        "colab": {
          "base_uri": "https://localhost:8080/"
        },
        "id": "l5dgIH_Ds4JM",
        "outputId": "137d9a50-42bc-479f-d80d-244f60cf444d"
      },
      "execution_count": null,
      "outputs": [
        {
          "output_type": "stream",
          "name": "stdout",
          "text": [
            "<class 'str'>\n",
            "Will you marry me :  Raju\n",
            "<class 'int'>\n",
            "Will you marry me :  1234\n",
            "<class 'float'>\n",
            "Will you marry me :  12721.3\n",
            "<class 'bool'>\n",
            "Will you marry me :  True\n",
            "<class 'NoneType'>\n",
            "Will you marry me :  None\n"
          ]
        }
      ]
    },
    {
      "cell_type": "code",
      "source": [
        "print(type(propose))"
      ],
      "metadata": {
        "colab": {
          "base_uri": "https://localhost:8080/"
        },
        "id": "jD4kXvD-tqFu",
        "outputId": "3f9ad8f6-330b-4415-ca70-c7e6e12ccac1"
      },
      "execution_count": null,
      "outputs": [
        {
          "output_type": "stream",
          "name": "stdout",
          "text": [
            "<class 'function'>\n"
          ]
        }
      ]
    },
    {
      "cell_type": "code",
      "source": [
        "a = 5\n",
        "a"
      ],
      "metadata": {
        "colab": {
          "base_uri": "https://localhost:8080/"
        },
        "id": "d-KdD5Tnt0w3",
        "outputId": "73545bf4-98e3-4762-a964-ddeb3edbdcff"
      },
      "execution_count": null,
      "outputs": [
        {
          "output_type": "execute_result",
          "data": {
            "text/plain": [
              "5"
            ]
          },
          "metadata": {},
          "execution_count": 32
        }
      ]
    },
    {
      "cell_type": "code",
      "source": [
        "# input()\n",
        "num = input('Give me num: ')\n",
        "# print()\n",
        "print(num)"
      ],
      "metadata": {
        "colab": {
          "base_uri": "https://localhost:8080/"
        },
        "id": "LWWWxs9Vt94M",
        "outputId": "b1d4d7b1-a505-4de2-b841-b6720ee855fa"
      },
      "execution_count": null,
      "outputs": [
        {
          "output_type": "stream",
          "name": "stdout",
          "text": [
            "Give me num: 21\n",
            "21\n"
          ]
        }
      ]
    },
    {
      "cell_type": "code",
      "source": [
        "output_of_print = print(num)\n",
        "print(output_of_print)"
      ],
      "metadata": {
        "colab": {
          "base_uri": "https://localhost:8080/"
        },
        "id": "ZJRmldauuBFp",
        "outputId": "8474d0c6-2898-4425-eaf0-526a54a7bbda"
      },
      "execution_count": null,
      "outputs": [
        {
          "output_type": "stream",
          "name": "stdout",
          "text": [
            "21\n",
            "None\n"
          ]
        }
      ]
    },
    {
      "cell_type": "markdown",
      "source": [
        "Explanation:\n",
        "In Python, the `print()` function always returns `None`. This is because `print()` is a function that performs an action (printing to the console) rather than returning a value that can be assigned to a variable. So, when you do `output_of_print = print(num)`, `output_of_print` is assigned the return value of `print()`, which is `None`. Therefore, when you print `output_of_print`, it will display `None`."
      ],
      "metadata": {
        "id": "uQg-wtcZv9Mk"
      }
    },
    {
      "cell_type": "code",
      "source": [
        "# arggggggguuummments\n",
        "def propose(name):\n",
        "  '''\n",
        "    This is a function that will ask a user/ propose a user\n",
        "    whether they want to marry you\n",
        "    Be careful 😂🤣\n",
        "\n",
        "    Expects one input and that is the name of the person being proposed\n",
        "  '''\n",
        "\n",
        "  print('Will you marry me', name)"
      ],
      "metadata": {
        "id": "76V_kgvxukKX"
      },
      "execution_count": null,
      "outputs": []
    },
    {
      "cell_type": "code",
      "source": [
        "propose()"
      ],
      "metadata": {
        "colab": {
          "base_uri": "https://localhost:8080/",
          "height": 179
        },
        "id": "nK1InJBeu0sf",
        "outputId": "881067a0-b37f-44f9-d1ca-5f9424de8c00"
      },
      "execution_count": null,
      "outputs": [
        {
          "output_type": "error",
          "ename": "TypeError",
          "evalue": "ignored",
          "traceback": [
            "\u001b[0;31m---------------------------------------------------------------------------\u001b[0m",
            "\u001b[0;31mTypeError\u001b[0m                                 Traceback (most recent call last)",
            "\u001b[0;32m<ipython-input-36-dd204323160e>\u001b[0m in \u001b[0;36m<cell line: 1>\u001b[0;34m()\u001b[0m\n\u001b[0;32m----> 1\u001b[0;31m \u001b[0mpropose\u001b[0m\u001b[0;34m(\u001b[0m\u001b[0;34m)\u001b[0m\u001b[0;34m\u001b[0m\u001b[0;34m\u001b[0m\u001b[0m\n\u001b[0m",
            "\u001b[0;31mTypeError\u001b[0m: propose() missing 1 required positional argument: 'name'"
          ]
        }
      ]
    },
    {
      "cell_type": "code",
      "source": [
        "def factorial(n):\n",
        "  result = 1\n",
        "  while n > 0:\n",
        "    result *= n\n",
        "    n -= 1\n",
        "    print(result)\n",
        "print(factorial(5))"
      ],
      "metadata": {
        "colab": {
          "base_uri": "https://localhost:8080/"
        },
        "id": "jn3lOIGbvAUi",
        "outputId": "a1a67edc-5076-4eab-b090-82256e41f9eb"
      },
      "execution_count": null,
      "outputs": [
        {
          "output_type": "stream",
          "name": "stdout",
          "text": [
            "5\n",
            "20\n",
            "60\n",
            "120\n",
            "120\n",
            "None\n"
          ]
        }
      ]
    },
    {
      "cell_type": "code",
      "source": [
        "factorial(5)"
      ],
      "metadata": {
        "colab": {
          "base_uri": "https://localhost:8080/"
        },
        "id": "4oWPYBTtvfnp",
        "outputId": "369afb66-78aa-4b79-9327-a40e3a20b412"
      },
      "execution_count": null,
      "outputs": [
        {
          "output_type": "stream",
          "name": "stdout",
          "text": [
            "5\n",
            "20\n",
            "60\n",
            "120\n",
            "120\n"
          ]
        }
      ]
    },
    {
      "cell_type": "code",
      "source": [
        "# positional arguments >> position matters\n",
        "def greet_the_family(mother, father, brother):\n",
        "    print(\"Touch the 🐾 Hello\", mother)\n",
        "    print(\"Touch the 👟 Hello\", father)\n",
        "    print(\"🙌\", brother)\n",
        "\n",
        "greet_the_family('Shakira', 'Tom Cruise', 'Salman Bhai')"
      ],
      "metadata": {
        "colab": {
          "base_uri": "https://localhost:8080/"
        },
        "id": "oSwRvr7Qvuuj",
        "outputId": "ba22c0c5-e651-47c6-d1a7-ea865cde412e"
      },
      "execution_count": null,
      "outputs": [
        {
          "output_type": "stream",
          "name": "stdout",
          "text": [
            "Touch the 🐾 Hello Shakira\n",
            "Touch the 👟 Hello Tom Cruise\n",
            "🙌 Salman Bhai\n"
          ]
        }
      ]
    },
    {
      "cell_type": "code",
      "source": [
        "greet_the_family('Salman Bhai', 'Tom Cruise', 'Shakira')"
      ],
      "metadata": {
        "colab": {
          "base_uri": "https://localhost:8080/"
        },
        "id": "VDm1_OS2tszd",
        "outputId": "708cffca-1bcf-4d10-a7de-dbe0bd4beb19"
      },
      "execution_count": null,
      "outputs": [
        {
          "output_type": "stream",
          "name": "stdout",
          "text": [
            "Touch the 🐾 Hello Salman Bhai\n",
            "Touch the 👟 Hello Tom Cruise\n",
            "🙌 Shakira\n"
          ]
        }
      ]
    },
    {
      "cell_type": "code",
      "source": [
        "greet_the_family('Salman Bhai', 'Tom Cruise', 'Shakira', 'Scooby')"
      ],
      "metadata": {
        "colab": {
          "base_uri": "https://localhost:8080/",
          "height": 179
        },
        "id": "YFMll5f2twl7",
        "outputId": "1e12adb4-b715-484a-bd2e-fb7f4fbfaee6"
      },
      "execution_count": null,
      "outputs": [
        {
          "output_type": "error",
          "ename": "TypeError",
          "evalue": "ignored",
          "traceback": [
            "\u001b[0;31m---------------------------------------------------------------------------\u001b[0m",
            "\u001b[0;31mTypeError\u001b[0m                                 Traceback (most recent call last)",
            "\u001b[0;32m<ipython-input-47-4016dea65ad0>\u001b[0m in \u001b[0;36m<cell line: 1>\u001b[0;34m()\u001b[0m\n\u001b[0;32m----> 1\u001b[0;31m \u001b[0mgreet_the_family\u001b[0m\u001b[0;34m(\u001b[0m\u001b[0;34m'Salman Bhai'\u001b[0m\u001b[0;34m,\u001b[0m \u001b[0;34m'Tom Cruise'\u001b[0m\u001b[0;34m,\u001b[0m \u001b[0;34m'Shakira'\u001b[0m\u001b[0;34m,\u001b[0m \u001b[0;34m'Scooby'\u001b[0m\u001b[0;34m)\u001b[0m\u001b[0;34m\u001b[0m\u001b[0;34m\u001b[0m\u001b[0m\n\u001b[0m",
            "\u001b[0;31mTypeError\u001b[0m: greet_the_family() takes 3 positional arguments but 4 were given"
          ]
        }
      ]
    },
    {
      "cell_type": "code",
      "source": [
        "greet_the_family('Salman Bhai', 'Tom Cruise',)"
      ],
      "metadata": {
        "colab": {
          "base_uri": "https://localhost:8080/",
          "height": 179
        },
        "id": "YBGxKqF1tz9-",
        "outputId": "4d661c61-2827-4058-8f10-45db59787f7f"
      },
      "execution_count": null,
      "outputs": [
        {
          "output_type": "error",
          "ename": "TypeError",
          "evalue": "ignored",
          "traceback": [
            "\u001b[0;31m---------------------------------------------------------------------------\u001b[0m",
            "\u001b[0;31mTypeError\u001b[0m                                 Traceback (most recent call last)",
            "\u001b[0;32m<ipython-input-48-7e3483037fe5>\u001b[0m in \u001b[0;36m<cell line: 1>\u001b[0;34m()\u001b[0m\n\u001b[0;32m----> 1\u001b[0;31m \u001b[0mgreet_the_family\u001b[0m\u001b[0;34m(\u001b[0m\u001b[0;34m'Salman Bhai'\u001b[0m\u001b[0;34m,\u001b[0m \u001b[0;34m'Tom Cruise'\u001b[0m\u001b[0;34m,\u001b[0m\u001b[0;34m)\u001b[0m\u001b[0;34m\u001b[0m\u001b[0;34m\u001b[0m\u001b[0m\n\u001b[0m",
            "\u001b[0;31mTypeError\u001b[0m: greet_the_family() missing 1 required positional argument: 'brother'"
          ]
        }
      ]
    },
    {
      "cell_type": "code",
      "source": [
        "# using docstrings\n",
        "def greet_the_family(mother, father, brother):\n",
        "    \"\"\"\n",
        "        this is the main step\n",
        "        you are meeting the family 😨\n",
        "        you should know the names of teh family members 💡\n",
        "\n",
        "            1 mother name\n",
        "            2 father name\n",
        "            3 brother name\n",
        "    \"\"\"\n",
        "    print(\"Touch the 🐾 Hello\", mother)\n",
        "    print(\"Touch the 👟 Hello\", father)\n",
        "    print(\"🙌\", brother)"
      ],
      "metadata": {
        "id": "2w0YGCBEt6uV"
      },
      "execution_count": null,
      "outputs": []
    },
    {
      "cell_type": "code",
      "source": [
        "help(greet_the_family)"
      ],
      "metadata": {
        "colab": {
          "base_uri": "https://localhost:8080/"
        },
        "id": "hFw-ehzWt8GE",
        "outputId": "217da00e-4f18-4b7e-8316-972cd65a5ff7"
      },
      "execution_count": null,
      "outputs": [
        {
          "output_type": "stream",
          "name": "stdout",
          "text": [
            "Help on function greet_the_family in module __main__:\n",
            "\n",
            "greet_the_family(mother, father, brother)\n",
            "    this is the main step\n",
            "    you are meeting the family 😨\n",
            "    you should know the names of teh family members 💡\n",
            "    \n",
            "        1 mother name\n",
            "        2 father name\n",
            "        3 brother name\n",
            "\n"
          ]
        }
      ]
    },
    {
      "cell_type": "code",
      "source": [
        "# input()\n",
        "num = input('Give me num: ')\n",
        "# print()\n",
        "print(num)\n",
        "output_of_print = print(num)\n",
        "\n",
        "'''Here, the print() function is used in above line is to display the value of num again.\n",
        "However, it's important to note that the print() function in Python returns None.\n",
        "Therefore, the variable output_of_print will be assigned the value None.\n",
        "This line both prints the value of num and assigns None to the variable output_of_print.'''\n",
        "\n",
        "print(output_of_print)\n",
        "\n"
      ],
      "metadata": {
        "colab": {
          "base_uri": "https://localhost:8080/"
        },
        "id": "WDKPh2AVt_Nf",
        "outputId": "cdb085bf-806b-44eb-fe72-4d35eecbb2a4"
      },
      "execution_count": null,
      "outputs": [
        {
          "output_type": "stream",
          "name": "stdout",
          "text": [
            "Give me num: 120\n",
            "120\n",
            "120\n",
            "None\n"
          ]
        }
      ]
    },
    {
      "cell_type": "code",
      "source": [
        "def add_3_nums(a,b,c):\n",
        "    total = a+b+c\n",
        "    print(total)\n",
        "add_3_nums(1,2,3)"
      ],
      "metadata": {
        "colab": {
          "base_uri": "https://localhost:8080/"
        },
        "id": "u6LlabQUvCF7",
        "outputId": "2b48ea5b-5248-4559-b18d-01e61833e16b"
      },
      "execution_count": null,
      "outputs": [
        {
          "output_type": "stream",
          "name": "stdout",
          "text": [
            "6\n"
          ]
        }
      ]
    },
    {
      "cell_type": "code",
      "source": [
        "def add_3_nums(a,b,c):\n",
        "    total = a+b+c\n",
        "    print(total)\n",
        "output_of_add_3_nums = add_3_nums(1,2,3) #This line calls the add_3_nums function with the arguments 1, 2, and 3. The result of this function call is the sum of these three values, which is 6. However, since the function only prints the result and doesn't explicitly return a value, the variable output_of_add_3_nums will be assigned the default return value of a function that doesn't have a return statement, which is None.\n",
        "print(\"The function gave me:\", output_of_add_3_nums)"
      ],
      "metadata": {
        "colab": {
          "base_uri": "https://localhost:8080/"
        },
        "id": "Uqy-No68vD-W",
        "outputId": "e7ec364b-fa1e-4e4c-a356-88ffddc4dfd2"
      },
      "execution_count": null,
      "outputs": [
        {
          "output_type": "stream",
          "name": "stdout",
          "text": [
            "6\n",
            "The function gave me: None\n"
          ]
        }
      ]
    },
    {
      "cell_type": "code",
      "source": [
        "def add_3_nums(a,b,c):\n",
        "    total = a+b+c\n",
        "    print(total)\n",
        "    return total\n",
        "    return total+1\n",
        "    return total+2\n",
        "    return total+3\n",
        "    '''This function, add_3_nums, takes three parameters (a, b, and c). Inside the function:\n",
        "    It calculates the sum of the three parameters and assigns the result to the variable total.\n",
        "    It prints the value of total to the console.\n",
        "    It then has four return statements, each returning a different value.\n",
        "    However, only the first return statement will be executed, and the subsequent return statements will be ignored.\n",
        "    So, the function will immediately exit and return the value of total.'''\n",
        "\n",
        "    print('After the return ')\n",
        "\n",
        "output_of_add_3_nums = add_3_nums(1,2,3) '''This line calls the add_3_nums function with the arguments 1, 2, and 3.\n",
        " The function calculates the sum (1 + 2 + 3 = 6), prints the result (6), and then returns the value 6.\n",
        " This returned value is assigned to the variable output_of_add_3_nums.'''\n",
        "\n",
        "\n",
        "print(\"The function gave me:\", output_of_add_3_nums)"
      ],
      "metadata": {
        "colab": {
          "base_uri": "https://localhost:8080/"
        },
        "id": "bbuqBzwvvodt",
        "outputId": "9387066a-0f87-4b18-dabd-bf056a5621b6"
      },
      "execution_count": null,
      "outputs": [
        {
          "output_type": "stream",
          "name": "stdout",
          "text": [
            "6\n",
            "The function gave me: 6\n"
          ]
        }
      ]
    },
    {
      "cell_type": "code",
      "source": [
        "def is_multitple(num):\n",
        "    if num%2==0:\n",
        "        return 2\n",
        "    elif num%3==0:\n",
        "        return 3\n",
        "    else:\n",
        "        return \"Not multiple of 2 and 3\"\n",
        "for i in range(10):\n",
        "    print(i, is_multitple(i))"
      ],
      "metadata": {
        "colab": {
          "base_uri": "https://localhost:8080/"
        },
        "id": "itv4SGCdvoZ_",
        "outputId": "b0746d05-f572-48c5-8b0b-8d44a8b134d6"
      },
      "execution_count": null,
      "outputs": [
        {
          "output_type": "stream",
          "name": "stdout",
          "text": [
            "0 2\n",
            "1 Not multiple of 2 and 3\n",
            "2 2\n",
            "3 3\n",
            "4 2\n",
            "5 Not multiple of 2 and 3\n",
            "6 2\n",
            "7 Not multiple of 2 and 3\n",
            "8 2\n",
            "9 3\n"
          ]
        }
      ]
    },
    {
      "cell_type": "code",
      "source": [
        "def do_something(n):\n",
        "    total = 0\n",
        "    i = 1\n",
        "    while i <= n:\n",
        "        total += i\n",
        "        i += 1\n",
        "    return total\n",
        "\n",
        "print(do_something(5))"
      ],
      "metadata": {
        "colab": {
          "base_uri": "https://localhost:8080/"
        },
        "id": "DOPIvTdZw6zd",
        "outputId": "0638c294-2693-4dad-be1f-791bc13fa388"
      },
      "execution_count": null,
      "outputs": [
        {
          "output_type": "stream",
          "name": "stdout",
          "text": [
            "15\n"
          ]
        }
      ]
    },
    {
      "cell_type": "code",
      "source": [
        "def foo(n):\n",
        "    print(n)\n",
        "'''This line calls the function foo with the argument 5. The function foo prints the value 5 to the console.\n",
        " However, there is an interesting aspect here:\n",
        "\n",
        "The foo function itself doesn't have a return statement, which means it implicitly returns None.\n",
        "The print(foo(5)) statement prints the result of the function call.\n",
        "Since the function foo doesn't explicitly return a value (or returns None by default), the print statement prints None.\n",
        "So, the output of this code will be:'''\n",
        "print(foo(5))"
      ],
      "metadata": {
        "colab": {
          "base_uri": "https://localhost:8080/"
        },
        "id": "HdX8NKoxxNI8",
        "outputId": "7126108c-8f28-409e-b8a5-d9b861c4d77d"
      },
      "execution_count": null,
      "outputs": [
        {
          "output_type": "stream",
          "name": "stdout",
          "text": [
            "5\n",
            "None\n"
          ]
        }
      ]
    },
    {
      "cell_type": "code",
      "source": [
        "# doubt\n",
        "# Rukmani Selvaraj\n",
        "# Hi\n",
        "# while trying to solve this problem - how to count digits after decimal? getting this weird output\n",
        "# my code is\n",
        "count=0\n",
        "n=0.12345\n",
        "while True:\n",
        "    n=n*10\n",
        "    count=count+1\n",
        "    print(n,count)\n",
        "    if(n-int(n)==0):\n",
        "        break\n",
        "print(count)"
      ],
      "metadata": {
        "colab": {
          "base_uri": "https://localhost:8080/"
        },
        "id": "aaet9vX8xpkl",
        "outputId": "0e5ec3ea-daaf-4e52-eaa5-37d42f3158db"
      },
      "execution_count": null,
      "outputs": [
        {
          "output_type": "stream",
          "name": "stdout",
          "text": [
            "1.2345000000000002 1\n",
            "12.345000000000002 2\n",
            "123.45000000000002 3\n",
            "1234.5000000000002 4\n",
            "12345.000000000002 5\n",
            "123450.00000000001 6\n",
            "1234500.0000000002 7\n",
            "12345000.000000002 8\n",
            "123450000.00000001 9\n",
            "1234500000.0000002 10\n",
            "12345000000.000002 11\n",
            "123450000000.00002 12\n",
            "1234500000000.0002 13\n",
            "12345000000000.002 14\n",
            "123450000000000.02 15\n",
            "1234500000000000.2 16\n",
            "1.2345000000000002e+16 17\n",
            "17\n"
          ]
        }
      ]
    },
    {
      "cell_type": "markdown",
      "source": [
        "# Assignment Questions"
      ],
      "metadata": {
        "id": "6mCZ2Z7ZmlSb"
      }
    },
    {
      "cell_type": "code",
      "source": [
        "#Q1. Celsius to Fahrenheit\n",
        "def temperature(celsius):\n",
        "  ans = 0\n",
        "  ans = (9/5)*celsius + 32\n",
        "  return round(ans,2)\n",
        "temperature(celsius = 36.8)"
      ],
      "metadata": {
        "colab": {
          "base_uri": "https://localhost:8080/"
        },
        "id": "sN2uRjPzmoM3",
        "outputId": "b33f5112-904b-4bda-e645-05b1af6c7d13"
      },
      "execution_count": null,
      "outputs": [
        {
          "output_type": "execute_result",
          "data": {
            "text/plain": [
              "98.24"
            ]
          },
          "metadata": {},
          "execution_count": 2
        }
      ]
    },
    {
      "cell_type": "code",
      "source": [
        "#Q2. Road tax\n",
        "def road_tax(price):\n",
        "    tax = None\n",
        "    if price > 100000:\n",
        "      tax = 0.2*price\n",
        "    elif price > 75000 and price<=100000:\n",
        "      tax = 0.15*price\n",
        "    elif price > 50000 and price <= 75000:\n",
        "      tax = 0.1*price\n",
        "    else:\n",
        "      tax = 0.05*price\n",
        "    return tax\n",
        "road_tax(price = 76000)"
      ],
      "metadata": {
        "colab": {
          "base_uri": "https://localhost:8080/"
        },
        "id": "MqWw4uLQm_Ov",
        "outputId": "b528bee2-05e5-419b-f536-25700f0b08db"
      },
      "execution_count": null,
      "outputs": [
        {
          "output_type": "execute_result",
          "data": {
            "text/plain": [
              "11400.0"
            ]
          },
          "metadata": {},
          "execution_count": 4
        }
      ]
    },
    {
      "cell_type": "code",
      "source": [
        "road_tax(price = 25000)"
      ],
      "metadata": {
        "colab": {
          "base_uri": "https://localhost:8080/"
        },
        "id": "oXG7UUB4oTP5",
        "outputId": "a223a571-bba8-4582-efca-72f2fb4c1f9c"
      },
      "execution_count": null,
      "outputs": [
        {
          "output_type": "execute_result",
          "data": {
            "text/plain": [
              "1250.0"
            ]
          },
          "metadata": {},
          "execution_count": 5
        }
      ]
    },
    {
      "cell_type": "code",
      "source": [
        "#Q4. Function Calling\n",
        "def 1f(num):\n",
        "  return num + 55\n",
        "1f(5)\n",
        "print(num)"
      ],
      "metadata": {
        "colab": {
          "base_uri": "https://localhost:8080/",
          "height": 143
        },
        "id": "1WxgLlYkopGT",
        "outputId": "8762373f-5dab-4f75-d81a-6b7c9aed9f3a"
      },
      "execution_count": null,
      "outputs": [
        {
          "output_type": "error",
          "ename": "SyntaxError",
          "evalue": "ignored",
          "traceback": [
            "\u001b[0;36m  File \u001b[0;32m\"<ipython-input-13-fa80344e0a8b>\"\u001b[0;36m, line \u001b[0;32m2\u001b[0m\n\u001b[0;31m    def 1f(num):\u001b[0m\n\u001b[0m        ^\u001b[0m\n\u001b[0;31mSyntaxError\u001b[0m\u001b[0;31m:\u001b[0m invalid decimal literal\n"
          ]
        }
      ]
    },
    {
      "cell_type": "code",
      "source": [
        "#Q5. The Circle Area\n",
        "def area_circle(A):\n",
        "  area = 3.1416 * (A**2)\n",
        "  return round(area,1)\n",
        "area_circle(8)"
      ],
      "metadata": {
        "colab": {
          "base_uri": "https://localhost:8080/"
        },
        "id": "is6PPZDZo_2B",
        "outputId": "afd2127c-5898-46aa-e701-0fe164b7bd0b"
      },
      "execution_count": null,
      "outputs": [
        {
          "output_type": "execute_result",
          "data": {
            "text/plain": [
              "201.1"
            ]
          },
          "metadata": {},
          "execution_count": 12
        }
      ]
    },
    {
      "cell_type": "markdown",
      "source": [
        "# Additional Problems"
      ],
      "metadata": {
        "id": "s-GeF-AAp5gm"
      }
    },
    {
      "cell_type": "code",
      "source": [
        "#Q1. Celsius to Fahrenheit MCQ\n",
        "def convert(t):\n",
        "    return t*9/5 + 32\n",
        "\n",
        "print(convert(20))"
      ],
      "metadata": {
        "id": "Kzxk11vApyNK"
      },
      "execution_count": null,
      "outputs": []
    },
    {
      "cell_type": "code",
      "source": [
        "#Q2. Vowel Or Consonant\n",
        "def is_vowel(c):\n",
        "  if c.lower() == 'a':\n",
        "    return 1\n",
        "  elif c.lower() == 'e':\n",
        "    return 1\n",
        "  elif c.lower() == 'i':\n",
        "    return 1\n",
        "  elif c.lower() == 'o':\n",
        "    return 1\n",
        "  elif c.lower() == 'u':\n",
        "    return 1\n",
        "  else:\n",
        "    return 0\n",
        "is_vowel(c = 'a')\n"
      ],
      "metadata": {
        "colab": {
          "base_uri": "https://localhost:8080/"
        },
        "id": "x01I22-LqIrK",
        "outputId": "75603c51-7527-43d1-a15c-9e6384416bb1"
      },
      "execution_count": null,
      "outputs": [
        {
          "output_type": "execute_result",
          "data": {
            "text/plain": [
              "1"
            ]
          },
          "metadata": {},
          "execution_count": 19
        }
      ]
    },
    {
      "cell_type": "code",
      "source": [
        "is_vowel(c = 'j')"
      ],
      "metadata": {
        "colab": {
          "base_uri": "https://localhost:8080/"
        },
        "id": "5kW0TvfFquiF",
        "outputId": "d90da4c3-1adc-4c74-b829-451ea8f59efa"
      },
      "execution_count": null,
      "outputs": [
        {
          "output_type": "execute_result",
          "data": {
            "text/plain": [
              "0"
            ]
          },
          "metadata": {},
          "execution_count": 21
        }
      ]
    },
    {
      "cell_type": "code",
      "source": [
        "# Q3. Perfect Number\n",
        "def perfect_number(n):\n",
        "  ans = 0\n",
        "  for i in range(1,n):\n",
        "    if n%i == 0:\n",
        "      ans = ans + i\n",
        "  if ans == n:\n",
        "    return 1\n",
        "  else:\n",
        "    return 0\n",
        "\n",
        "perfect_number(n = 6)"
      ],
      "metadata": {
        "colab": {
          "base_uri": "https://localhost:8080/"
        },
        "id": "IqYizbidrFVL",
        "outputId": "17eb616b-0f63-4d37-de07-9c98422058d2"
      },
      "execution_count": null,
      "outputs": [
        {
          "output_type": "execute_result",
          "data": {
            "text/plain": [
              "1"
            ]
          },
          "metadata": {},
          "execution_count": 24
        }
      ]
    },
    {
      "cell_type": "code",
      "source": [
        "perfect_number(n = 5)"
      ],
      "metadata": {
        "colab": {
          "base_uri": "https://localhost:8080/"
        },
        "id": "fEbgrFhSsMTF",
        "outputId": "891e3be3-5f87-4ad6-89d2-fd1131916d0c"
      },
      "execution_count": null,
      "outputs": [
        {
          "output_type": "execute_result",
          "data": {
            "text/plain": [
              "0"
            ]
          },
          "metadata": {},
          "execution_count": 25
        }
      ]
    },
    {
      "cell_type": "code",
      "source": [
        "#Q4. Sequence [1-N] & [N-1]\n",
        "def sequence(n):\n",
        "  for i in range(1,n+1):\n",
        "    if i==n:\n",
        "      print(i)\n",
        "    else:\n",
        "      print(i, end = ' ')\n",
        "\n",
        "  for j in range(n,0,-1):\n",
        "    if j == 1:\n",
        "      print(j)\n",
        "    else:\n",
        "      print(j, end = ' ')\n",
        "sequence(n = 5)"
      ],
      "metadata": {
        "colab": {
          "base_uri": "https://localhost:8080/"
        },
        "id": "mpqnYMe_sPFt",
        "outputId": "fae594b7-edb9-4219-92d4-e650525c4182"
      },
      "execution_count": null,
      "outputs": [
        {
          "output_type": "stream",
          "name": "stdout",
          "text": [
            "1 2 3 4 5\n",
            "5 4 3 2 1\n"
          ]
        }
      ]
    },
    {
      "cell_type": "code",
      "source": [
        "sequence(n = 10)"
      ],
      "metadata": {
        "colab": {
          "base_uri": "https://localhost:8080/"
        },
        "id": "w0TjKFs1uFg3",
        "outputId": "dd3e4d0d-e6e0-4b10-e86a-053e5b66e955"
      },
      "execution_count": null,
      "outputs": [
        {
          "output_type": "stream",
          "name": "stdout",
          "text": [
            "1 2 3 4 5 6 7 8 9 10\n",
            "10 9 8 7 6 5 4 3 2 1\n"
          ]
        }
      ]
    },
    {
      "cell_type": "code",
      "source": [
        "#Q5. Go Global!\n",
        "x = 55\n",
        "def hi():\n",
        "  return x\n",
        "x +=10\n",
        "print(hi())"
      ],
      "metadata": {
        "colab": {
          "base_uri": "https://localhost:8080/"
        },
        "id": "YridHE7euJho",
        "outputId": "22c9965a-e9cb-45f5-c287-3e9c8714a45d"
      },
      "execution_count": null,
      "outputs": [
        {
          "output_type": "stream",
          "name": "stdout",
          "text": [
            "65\n"
          ]
        }
      ]
    }
  ]
}