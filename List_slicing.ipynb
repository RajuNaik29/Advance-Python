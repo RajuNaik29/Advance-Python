{
  "nbformat": 4,
  "nbformat_minor": 0,
  "metadata": {
    "colab": {
      "provenance": [],
      "authorship_tag": "ABX9TyOvR0QjksPk5+0nQs/pIErl",
      "include_colab_link": true
    },
    "kernelspec": {
      "name": "python3",
      "display_name": "Python 3"
    },
    "language_info": {
      "name": "python"
    }
  },
  "cells": [
    {
      "cell_type": "markdown",
      "metadata": {
        "id": "view-in-github",
        "colab_type": "text"
      },
      "source": [
        "<a href=\"https://colab.research.google.com/github/RajuNaik29/Advance-Python/blob/main/List_slicing.ipynb\" target=\"_parent\"><img src=\"https://colab.research.google.com/assets/colab-badge.svg\" alt=\"Open In Colab\"/></a>"
      ]
    },
    {
      "cell_type": "markdown",
      "source": [
        "# List-Slicing\n",
        "https://www.geeksforgeeks.org/python-list-slicing/"
      ],
      "metadata": {
        "id": "GlEC6rHn2ChV"
      }
    },
    {
      "cell_type": "code",
      "execution_count": null,
      "metadata": {
        "id": "bWLTXfW01QhE"
      },
      "outputs": [],
      "source": [
        "# primitive DS\n",
        "## str, int, float, bool, None"
      ]
    },
    {
      "cell_type": "code",
      "source": [
        "# non- primitive DS\n",
        "# []\n",
        "# ordered >> indexing/sort\n",
        "# duplicates are allowed\n",
        "# it can store anything\n",
        "# editable/ mutable"
      ],
      "metadata": {
        "id": "OzZrmBwy2K7u"
      },
      "execution_count": null,
      "outputs": []
    },
    {
      "cell_type": "markdown",
      "source": [
        "Primitive and non-primitive data structures are two categories used to classify data structures based on their fundamental characteristics. Here's an explanation of each:\n",
        "\n",
        "1. **Primitive Data Structures:**\n",
        "\n",
        "   Primitive data structures are basic data structures that are directly supported by most programming languages. They are called \"primitive\" because they represent the simplest form of data storage available in a programming language. These data structures are typically used to store individual data elements.\n",
        "\n",
        "   Common examples of primitive data structures include:\n",
        "   - Integer\n",
        "   - Float (floating-point number)\n",
        "   - Character\n",
        "   - Boolean (True or False)\n",
        "   - Pointer (a memory address)\n",
        "\n",
        "   These data structures are atomic, meaning they cannot be further subdivided into smaller components within the programming language itself.\n",
        "\n",
        "2. **Non-Primitive Data Structures:**\n",
        "\n",
        "   Non-primitive data structures are more complex data structures built using primitive data types and are not directly available in programming languages. They are also known as derived data types or abstract data types (ADTs). Non-primitive data structures are designed to store collections of data elements in a specific manner that facilitates efficient data manipulation and access.\n",
        "\n",
        "   Common examples of non-primitive data structures include:\n",
        "   - Arrays\n",
        "   - Lists\n",
        "   - Stacks\n",
        "   - Queues\n",
        "   - Trees\n",
        "   - Graphs\n",
        "   - Sets\n",
        "   - Maps (or dictionaries)\n",
        "\n",
        "   These data structures can hold multiple elements, and their elements can be of different data types, including other data structures.\n",
        "\n",
        "**Difference between Primitive and Non-Primitive Data Structures:**\n",
        "\n",
        "1. **Basic vs. Complex:** Primitive data structures are basic and atomic, consisting of a single data element, whereas non-primitive data structures are more complex and can hold multiple data elements.\n",
        "\n",
        "2. **Direct Support:** Primitive data structures are directly supported by programming languages, meaning they are predefined within the language itself. Non-primitive data structures are not directly supported by programming languages and are typically implemented using primitive data types.\n",
        "\n",
        "3. **Usage:** Primitive data structures are used to represent individual data elements, such as numbers, characters, or boolean values. Non-primitive data structures are used to organize and manage collections of data elements in a structured manner to facilitate efficient data manipulation and access.\n",
        "\n",
        "4. **Flexibility:** Non-primitive data structures offer greater flexibility in terms of storing and organizing data compared to primitive data structures. They allow for more complex data storage and retrieval operations, making them suitable for a wide range of applications.\n",
        "\n",
        "In summary, primitive data structures represent basic, atomic data types directly supported by programming languages, while non-primitive data structures are more complex data structures built using primitive data types to store and organize collections of data elements efficiently."
      ],
      "metadata": {
        "id": "81DNmekJV6dY"
      }
    },
    {
      "cell_type": "code",
      "source": [
        "my_list = [5,2,7,7,7,8,6,1]\n",
        "print(my_list)\n",
        "\n",
        "my_list[2]*=-1\n",
        "print(my_list)\n",
        "\n",
        "my_list.sort()\n",
        "print(my_list)\n",
        "\n",
        "my_list.sort(reverse = True)\n",
        "print(my_list)"
      ],
      "metadata": {
        "colab": {
          "base_uri": "https://localhost:8080/"
        },
        "id": "KsN8u7l92LgQ",
        "outputId": "4ab65054-574b-415f-9261-53c78ba70863"
      },
      "execution_count": null,
      "outputs": [
        {
          "output_type": "stream",
          "name": "stdout",
          "text": [
            "[5, 2, 7, 7, 7, 8, 6, 1]\n",
            "[5, 2, -7, 7, 7, 8, 6, 1]\n",
            "[-7, 1, 2, 5, 6, 7, 7, 8]\n",
            "[8, 7, 7, 6, 5, 2, 1, -7]\n"
          ]
        }
      ]
    },
    {
      "cell_type": "code",
      "source": [
        "my_list = [5,2,7,7,7,8,6,1]\n",
        "\n",
        "print(my_list)\n",
        "\n",
        "my_list[2] *= -1\n",
        "print(my_list)\n",
        "\n",
        "neg_slice = my_list[1:4] *= -1\n",
        "print(neg_slice)\n"
      ],
      "metadata": {
        "colab": {
          "base_uri": "https://localhost:8080/",
          "height": 108
        },
        "id": "L4eqk6XeXV8O",
        "outputId": "6382b70e-8308-4e2d-cd3e-a8476c8e4088"
      },
      "execution_count": 1,
      "outputs": [
        {
          "output_type": "error",
          "ename": "SyntaxError",
          "evalue": "invalid syntax (<ipython-input-1-f189b13746a7>, line 8)",
          "traceback": [
            "\u001b[0;36m  File \u001b[0;32m\"<ipython-input-1-f189b13746a7>\"\u001b[0;36m, line \u001b[0;32m8\u001b[0m\n\u001b[0;31m    neg_slice = my_list[1:4] *= -1\u001b[0m\n\u001b[0m                             ^\u001b[0m\n\u001b[0;31mSyntaxError\u001b[0m\u001b[0;31m:\u001b[0m invalid syntax\n"
          ]
        }
      ]
    },
    {
      "cell_type": "markdown",
      "source": [
        "Your code seems to attempt to multiply elements of `my_list` by -1 in specific ranges. However, there are some issues with the syntax. The `*=` operator doesn't work directly with slicing like that. You'll need to perform the operation on each element within the slice. Here's the corrected version of your code:\n",
        "\n",
        "```python\n",
        "my_list = [5, 2, 7, 7, 7, 8, 6, 1]\n",
        "\n",
        "print(my_list)\n",
        "\n",
        "my_list[2] *= -1\n",
        "print(my_list)\n",
        "\n",
        "neg_slice = my_list[1:4]\n",
        "for i in range(len(neg_slice)):\n",
        "    neg_slice[i] *= -1\n",
        "print(neg_slice)\n",
        "```\n",
        "\n",
        "Output:\n",
        "```\n",
        "[5, 2, 7, 7, 7, 8, 6, 1]\n",
        "[5, 2, -7, 7, 7, 8, 6, 1]\n",
        "[-2, -7, -7]\n",
        "```\n",
        "\n",
        "In this corrected version:\n",
        "\n",
        "- `my_list[2] *= -1` multiplies the element at index 2 (third element) of `my_list` by -1.\n",
        "- `neg_slice = my_list[1:4]` creates a slice of `my_list` from index 1 (inclusive) to index 4 (exclusive).\n",
        "- The loop then iterates over each element of `neg_slice` and multiplies them by -1.\n",
        "\n",
        "Note: I've renamed the variable `neg` to `neg_slice` to better reflect its purpose as a slice of `my_list`."
      ],
      "metadata": {
        "id": "bXrd012lXmHK"
      }
    },
    {
      "cell_type": "code",
      "source": [
        "# operations\n",
        "a = [1,7,4]\n",
        "b = [2,8,5,-15]\n",
        "\n",
        "print('>> +')\n",
        "print(a+b) #This will concatinate two lists into one list.\n",
        "\n",
        "print('>> -')\n",
        "# print(a-b) # TypeError: unsupported operand type(s) for -: 'list' and 'list'\n",
        "\n",
        "print('>> /')\n",
        "# print(a/b) # TypeError: unsupported operand type(s) for /: 'list' and 'list'\n",
        "\n",
        "print('>> *')\n",
        "# print(a*b) # TypeError: can't multiply sequence by non-int of type 'list'"
      ],
      "metadata": {
        "colab": {
          "base_uri": "https://localhost:8080/"
        },
        "id": "fcrYU8jv2jTN",
        "outputId": "9c53e8bf-c14f-41f9-df13-f1ab7b2ed650"
      },
      "execution_count": null,
      "outputs": [
        {
          "output_type": "stream",
          "name": "stdout",
          "text": [
            ">> +\n",
            "[1, 7, 4, 2, 8, 5, -15]\n",
            ">> -\n",
            ">> /\n",
            ">> *\n"
          ]
        }
      ]
    },
    {
      "cell_type": "code",
      "source": [
        "a = [1,7,4]\n",
        "print('>> *')\n",
        "print(a*2)\n",
        "print(a*5)\n",
        "\n",
        "# x*4 = x+x+x+x"
      ],
      "metadata": {
        "colab": {
          "base_uri": "https://localhost:8080/"
        },
        "id": "Nt_HwyGz3Dqv",
        "outputId": "6e1f3035-e26b-406e-c975-9df9012c233f"
      },
      "execution_count": null,
      "outputs": [
        {
          "output_type": "stream",
          "name": "stdout",
          "text": [
            ">> *\n",
            "[1, 7, 4, 1, 7, 4]\n",
            "[1, 7, 4, 1, 7, 4, 1, 7, 4, 1, 7, 4, 1, 7, 4]\n"
          ]
        }
      ]
    },
    {
      "cell_type": "code",
      "source": [
        "# iterating\n",
        "\n",
        "# my_list\n",
        "\n",
        "# for i in my_list: # direct iteration of the values inside the my_list\n",
        "# for i in range(len(my_list)): # 0,1,2....len(my_list)-1>> my_list[i]"
      ],
      "metadata": {
        "id": "T9ldbsiq3bS8"
      },
      "execution_count": null,
      "outputs": []
    },
    {
      "cell_type": "markdown",
      "source": [
        "Question-1\n",
        "Given list of all runs by Virat, print runs made in odd matches (Even Indexes).\n",
        "\n",
        "runs = [62, 85, 74, 10, 12, 101, 122, 99, 81, 55]"
      ],
      "metadata": {
        "id": "4-ItUTHZ3hLU"
      }
    },
    {
      "cell_type": "code",
      "source": [
        "runs = [62, 85, 74, 10, 12, 101, 122, 99, 81, 55]\n",
        "for i in range(len(runs)+1):\n",
        "  if i % 2 == 1:\n",
        "    print(runs[i])"
      ],
      "metadata": {
        "colab": {
          "base_uri": "https://localhost:8080/"
        },
        "id": "dZ6qa3jr3ifs",
        "outputId": "f4cf3439-834a-486e-d83a-9deaa429b720"
      },
      "execution_count": 2,
      "outputs": [
        {
          "output_type": "stream",
          "name": "stdout",
          "text": [
            "85\n",
            "10\n",
            "101\n",
            "99\n",
            "55\n"
          ]
        }
      ]
    },
    {
      "cell_type": "code",
      "source": [
        "runs = [62, 85, 74, 10, 12, 101, 122, 99, 81, 55]\n",
        "runs[1::2]"
      ],
      "metadata": {
        "colab": {
          "base_uri": "https://localhost:8080/"
        },
        "id": "EIILvMxJ32vw",
        "outputId": "a6084420-1f70-4695-8055-807a2aa6971f"
      },
      "execution_count": null,
      "outputs": [
        {
          "output_type": "execute_result",
          "data": {
            "text/plain": [
              "[85, 10, 101, 99, 55]"
            ]
          },
          "metadata": {},
          "execution_count": 13
        }
      ]
    },
    {
      "cell_type": "markdown",
      "source": [
        "Question-2\n",
        "Given list of all runs by Virat, create a new list of runs made in odd matches (Even Indexes).\n",
        "\n",
        "runs = [62, 85, 74, 10, 12, 101, 122, 99, 81, 55]\n",
        "\n",
        "Create a function called odd_runs, that will take one argument, which is the runs list"
      ],
      "metadata": {
        "id": "RBFsHrp63_DM"
      }
    },
    {
      "cell_type": "code",
      "source": [
        "runs = [62, 85, 74, 10, 12, 101, 122, 99, 81, 55]\n",
        "def odd_runs(runs):\n",
        "  new_lst = []\n",
        "  for i in range(len(runs)):\n",
        "    if i%2 == 0:\n",
        "      new_lst.append(runs[i])\n",
        "  return new_lst\n",
        "odd_runs(runs = [62, 85, 74, 10, 12, 101, 122, 99, 81, 55])"
      ],
      "metadata": {
        "colab": {
          "base_uri": "https://localhost:8080/"
        },
        "id": "zIw8hvdM38uk",
        "outputId": "0ccad029-4d85-458d-faea-2b08ec577404"
      },
      "execution_count": null,
      "outputs": [
        {
          "output_type": "execute_result",
          "data": {
            "text/plain": [
              "[62, 74, 12, 122, 81]"
            ]
          },
          "metadata": {},
          "execution_count": 18
        }
      ]
    },
    {
      "cell_type": "markdown",
      "source": [
        "Question-3\n",
        "Given list of all runs by Virat, create a new list of runs made in last 5 matches.\n",
        "\n",
        "runs = [62, 85, 74, 10, 12, 101, 122, 99, 81, 55]\n",
        "\n",
        "Output should be: [101, 122, 99, 81, 55]"
      ],
      "metadata": {
        "id": "_4xnDgyq5Gbv"
      }
    },
    {
      "cell_type": "code",
      "source": [
        "runs = [62, 85, 74, 10, 12, 101, 122, 99, 81, 55]\n",
        "runs[-5:]"
      ],
      "metadata": {
        "colab": {
          "base_uri": "https://localhost:8080/"
        },
        "id": "zorFDGyK4p-R",
        "outputId": "3839ac2b-f213-4674-d6ec-de3dd928e67f"
      },
      "execution_count": null,
      "outputs": [
        {
          "output_type": "execute_result",
          "data": {
            "text/plain": [
              "[101, 122, 99, 81, 55]"
            ]
          },
          "metadata": {},
          "execution_count": 20
        }
      ]
    },
    {
      "cell_type": "code",
      "source": [
        "##########################   index of the last value is, -1, len(runs)-1\n",
        "##########################   index of the second last value is, len(runs)-2\n",
        "##########################   index of the third last value is, len(runs)-3\n",
        "##########################   index of the fourth last value is, len(runs)-4\n",
        "##########################   index of the fifth last value is, len(runs)-5\n",
        "runs = [62, 85, 74, 10, 12, 101, 122, 99, 81, 55]\n",
        "\n",
        "result = []\n",
        "\n",
        "for i in range(len(runs)-5,len(runs)):#>>  len(runs)-5  ....... len(runs)-1\n",
        "    result.append(runs[i])\n",
        "print(result)\n"
      ],
      "metadata": {
        "colab": {
          "base_uri": "https://localhost:8080/"
        },
        "id": "Djr5gq2a5VeV",
        "outputId": "d80c243e-55b9-4cb2-b71d-305927282813"
      },
      "execution_count": null,
      "outputs": [
        {
          "output_type": "stream",
          "name": "stdout",
          "text": [
            "[101, 122, 99, 81, 55]\n"
          ]
        }
      ]
    },
    {
      "cell_type": "code",
      "source": [
        "##########################   -5   -4  -3  -2  -1\n",
        "runs = [62, 85, 74, 10, 12, 101, 122, 99, 81, 55]\n",
        "\n",
        "result = []\n",
        "\n",
        "for i in range(-5,0):#>> -5   -4  -3  -2  -1\n",
        "    result.append(runs[i])\n",
        "print(result)"
      ],
      "metadata": {
        "colab": {
          "base_uri": "https://localhost:8080/"
        },
        "id": "VAGdelY65e9f",
        "outputId": "73d48c92-3f1e-4b92-972f-2ccff33e4f2a"
      },
      "execution_count": null,
      "outputs": [
        {
          "output_type": "stream",
          "name": "stdout",
          "text": [
            "[101, 122, 99, 81, 55]\n"
          ]
        }
      ]
    },
    {
      "cell_type": "markdown",
      "source": [
        "Question-4\n",
        "Given list of all runs by Virat, create a new list of runs made in first 3 matches.\n",
        "\n",
        "runs = [62, 85, 74, 10, 12, 101, 122, 99, 81, 55]\n",
        "\n",
        "Output should be: [62, 85, 74]"
      ],
      "metadata": {
        "id": "Mnzd_uBy5npv"
      }
    },
    {
      "cell_type": "code",
      "source": [
        "runs = [62, 85, 74, 10, 12, 101, 122, 99, 81, 55]\n",
        "runs[:3]"
      ],
      "metadata": {
        "colab": {
          "base_uri": "https://localhost:8080/"
        },
        "id": "Wie4FMtQ5lWP",
        "outputId": "ce3f488e-27f7-43d6-9fdf-36437d12ab94"
      },
      "execution_count": null,
      "outputs": [
        {
          "output_type": "execute_result",
          "data": {
            "text/plain": [
              "[62, 85, 74]"
            ]
          },
          "metadata": {},
          "execution_count": 23
        }
      ]
    },
    {
      "cell_type": "code",
      "source": [
        "runs = [62, 85, 74, 10, 12, 101, 122, 99, 81, 55]\n",
        "###     0    1   2\n",
        "result = []\n",
        "\n",
        "for i in range(3):#>> 0 1 2\n",
        "    result.append(runs[i])\n",
        "print(result)\n"
      ],
      "metadata": {
        "colab": {
          "base_uri": "https://localhost:8080/"
        },
        "id": "VyxQ6j2M5_Cx",
        "outputId": "1c977057-5eef-4d18-e6a7-e3adcbe53c6a"
      },
      "execution_count": null,
      "outputs": [
        {
          "output_type": "stream",
          "name": "stdout",
          "text": [
            "[62, 85, 74]\n"
          ]
        }
      ]
    },
    {
      "cell_type": "markdown",
      "source": [
        "Question-5\n",
        "Given list of all runs by Virat, create a new list of runs made from the 3rd match to the 7th match.\n",
        "\n",
        "runs = [62, 85, 74, 10, 12, 101, 122, 99, 81, 55]\n",
        "\n",
        "Output should be: [74, 10, 12, 101, 122]\n",
        "\n",
        "You can assume that the list length will be valid"
      ],
      "metadata": {
        "id": "tE7vCCCc6Dzc"
      }
    },
    {
      "cell_type": "code",
      "source": [
        "runs = [62, 85, 74, 10, 12, 101, 122, 99, 81, 55]\n",
        "runs[2:7]"
      ],
      "metadata": {
        "colab": {
          "base_uri": "https://localhost:8080/"
        },
        "id": "yTRSwXVY6BUK",
        "outputId": "b9dbc944-f456-4d60-e8a2-3f7f8f16d708"
      },
      "execution_count": null,
      "outputs": [
        {
          "output_type": "execute_result",
          "data": {
            "text/plain": [
              "[74, 10, 12, 101, 122]"
            ]
          },
          "metadata": {},
          "execution_count": 27
        }
      ]
    },
    {
      "cell_type": "code",
      "source": [
        "runs = [62, 85, 74, 10, 12, 101, 122, 99, 81, 55]\n",
        "new_list = []\n",
        "for i in range(2,7):\n",
        "  new_list.append(runs[i])\n",
        "print(new_list)"
      ],
      "metadata": {
        "colab": {
          "base_uri": "https://localhost:8080/"
        },
        "id": "olerpVtl6VhY",
        "outputId": "290c3ec6-07f1-4c51-aede-bc048863aabe"
      },
      "execution_count": null,
      "outputs": [
        {
          "output_type": "stream",
          "name": "stdout",
          "text": [
            "[74, 10, 12, 101, 122]\n"
          ]
        }
      ]
    },
    {
      "cell_type": "code",
      "source": [
        "# slicing\n",
        "\n",
        "# list slicing>> output is ALWAYS a python list  👈👈👈👈👈👈👈👈"
      ],
      "metadata": {
        "id": "uTaTcNl-7JH3"
      },
      "execution_count": null,
      "outputs": []
    },
    {
      "cell_type": "code",
      "source": [
        "####            0          1      2       3        4\n",
        "avengers = ['iron-man', 'thor', 'cap', 'hulk', 'groot']\n",
        "####           -5         -4      -3      -2       -1\n",
        "\n",
        "print(avengers)"
      ],
      "metadata": {
        "colab": {
          "base_uri": "https://localhost:8080/"
        },
        "id": "zwmDZr3T7UGH",
        "outputId": "e8e90647-7399-4f8b-c4eb-acc5a1536929"
      },
      "execution_count": null,
      "outputs": [
        {
          "output_type": "stream",
          "name": "stdout",
          "text": [
            "['iron-man', 'thor', 'cap', 'hulk', 'groot']\n"
          ]
        }
      ]
    },
    {
      "cell_type": "code",
      "source": [
        "####            0          1      2       3        4\n",
        "avengers = ['iron-man', 'thor', 'cap', 'hulk', 'groot']\n",
        "####           -5         -4      -3      -2       -1\n",
        "\n",
        "print(avengers[2])"
      ],
      "metadata": {
        "colab": {
          "base_uri": "https://localhost:8080/"
        },
        "id": "xIfuqbYn7VxD",
        "outputId": "a9eefc93-47a0-412e-f512-8cd639396600"
      },
      "execution_count": null,
      "outputs": [
        {
          "output_type": "stream",
          "name": "stdout",
          "text": [
            "cap\n"
          ]
        }
      ]
    },
    {
      "cell_type": "code",
      "source": [
        "####            0          1      2       3        4\n",
        "avengers = ['iron-man', 'thor', 'cap', 'hulk', 'groot']\n",
        "####           -5         -4      -3      -2       -1\n",
        "\n",
        "# list[start:end] >> slice the list >> [start, start+1, start+2...end-1]>>> end index is NOT included\n",
        "print(avengers[1:4])# start = 1 , end = 4>>1,2,3\n",
        "\n",
        "# question\n",
        "print(avengers[0:2]) # start = 0, end = 2>> 0 1"
      ],
      "metadata": {
        "colab": {
          "base_uri": "https://localhost:8080/"
        },
        "id": "cpMDuZXZ7Vs5",
        "outputId": "1e6baef8-48b3-4eb6-e1f5-ad21392daa43"
      },
      "execution_count": null,
      "outputs": [
        {
          "output_type": "stream",
          "name": "stdout",
          "text": [
            "['thor', 'cap', 'hulk']\n",
            "['iron-man', 'thor']\n"
          ]
        }
      ]
    },
    {
      "cell_type": "code",
      "source": [
        "####            0          1      2       3        4\n",
        "avengers = ['iron-man', 'thor', 'cap', 'hulk', 'groot']\n",
        "####           -5         -4      -3      -2       -1\n",
        "\n",
        "# list[start:end:step] >> slice the list >> [start, start+step, start+2*step...till end]\n",
        "# >>> stop before end, end index is NOT included\n",
        "print(avengers[1:4:1])# start = 1, end = 4, step = 1>> 1,2,3\n",
        "\n",
        "# question\n",
        "print(avengers[1:4:2]) # start = 1, end = 4 , step = 2>>1,3\n",
        "\n",
        "# question\n",
        "print(avengers[0:3:2]) # start = 0, end = 3 , step = 2>>0,2"
      ],
      "metadata": {
        "colab": {
          "base_uri": "https://localhost:8080/"
        },
        "id": "QdHI_5_I7kSu",
        "outputId": "a21526bf-3ea8-4d69-853d-ba34c5e5aafd"
      },
      "execution_count": null,
      "outputs": [
        {
          "output_type": "stream",
          "name": "stdout",
          "text": [
            "['thor', 'cap', 'hulk']\n",
            "['thor', 'hulk']\n",
            "['iron-man', 'cap']\n"
          ]
        }
      ]
    },
    {
      "cell_type": "code",
      "source": [
        "####            0          1      2       3        4\n",
        "avengers = ['iron-man', 'thor', 'cap', 'hulk', 'groot']\n",
        "####           -5         -4      -3      -2       -1\n",
        "\n",
        "\n",
        "# question\n",
        "print(['iron-man', 'cap', 'groot'])\n",
        "print(avengers[0:5:2])\n",
        "print(avengers[0:6:2])\n",
        "\n",
        "print(avengers[0:600:2])"
      ],
      "metadata": {
        "colab": {
          "base_uri": "https://localhost:8080/"
        },
        "id": "8GuWQpDm7ufm",
        "outputId": "73fe9557-d14f-497e-ae31-5ff9f96986e1"
      },
      "execution_count": null,
      "outputs": [
        {
          "output_type": "stream",
          "name": "stdout",
          "text": [
            "['iron-man', 'cap', 'groot']\n",
            "['iron-man', 'cap', 'groot']\n",
            "['iron-man', 'cap', 'groot']\n",
            "['iron-man', 'cap', 'groot']\n"
          ]
        }
      ]
    },
    {
      "cell_type": "code",
      "source": [
        "####            0          1      2       3        4\n",
        "avengers = ['iron-man', 'thor', 'cap', 'hulk', 'groot']\n",
        "####           -5         -4      -3      -2       -1\n",
        "\n",
        "print(avengers[100:200])"
      ],
      "metadata": {
        "colab": {
          "base_uri": "https://localhost:8080/"
        },
        "id": "ZNSSrYPF75pT",
        "outputId": "bea2641f-62be-4c15-977b-65facf297de6"
      },
      "execution_count": null,
      "outputs": [
        {
          "output_type": "stream",
          "name": "stdout",
          "text": [
            "[]\n"
          ]
        }
      ]
    },
    {
      "cell_type": "code",
      "source": [
        "####            0          1      2       3        4\n",
        "avengers = ['iron-man', 'thor', 'cap', 'hulk', 'groot']\n",
        "####           -5         -4      -3      -2       -1\n",
        "\n",
        "# list[start:end:step] >> slice the list >> [start, start+step, start+2*step...till end]\n",
        "# >>> stop before end, end index is NOT included\n",
        "\n",
        "print(avengers[1:4:1])# start = 1, end = 4, step = 1>> 1,2,3\n",
        "print(avengers[-4:-1:1])\n",
        "print(avengers[1:-1:1])\n",
        "print(avengers[-4:4:1])\n",
        "\n",
        "# 0 index and -ive index can be interchanged wherever you want"
      ],
      "metadata": {
        "colab": {
          "base_uri": "https://localhost:8080/"
        },
        "id": "fNNY6q4R8CfR",
        "outputId": "e2ca841d-ba28-429d-86be-2c6c4e707823"
      },
      "execution_count": null,
      "outputs": [
        {
          "output_type": "stream",
          "name": "stdout",
          "text": [
            "['thor', 'cap', 'hulk']\n",
            "['thor', 'cap', 'hulk']\n",
            "['thor', 'cap', 'hulk']\n",
            "['thor', 'cap', 'hulk']\n"
          ]
        }
      ]
    },
    {
      "cell_type": "code",
      "source": [
        "####            0          1      2       3        4\n",
        "avengers = ['iron-man', 'thor', 'cap', 'hulk', 'groot']\n",
        "####           -5         -4      -3      -2       -1\n",
        "\n",
        "# list[start:end:step] >> slice the list >> [start, start+step, start+2*step...till end]\n",
        "# >>> stop before end, end index is NOT included\n",
        "\n",
        "print(avengers[1:4:1])# start = 1, end = 4, step = 1>> 1,2,3\n",
        "\n",
        "print(avengers[4:2:-1])# start = 4, end = 2, step = -1>> 4,3\n",
        "\n",
        "# question\n",
        "print(avengers[4:0:-3])# start = 4, end = 0, step = -3>> 4,1"
      ],
      "metadata": {
        "colab": {
          "base_uri": "https://localhost:8080/"
        },
        "id": "N-Qt6LfN8N8N",
        "outputId": "17c42bea-731e-4ca0-f741-5b2d90711139"
      },
      "execution_count": null,
      "outputs": [
        {
          "output_type": "stream",
          "name": "stdout",
          "text": [
            "['thor', 'cap', 'hulk']\n",
            "['groot', 'hulk']\n",
            "['groot', 'thor']\n"
          ]
        }
      ]
    },
    {
      "cell_type": "code",
      "source": [
        "####            0          1      2       3        4\n",
        "avengers = ['iron-man', 'thor', 'cap', 'hulk', 'groot']\n",
        "####           -5         -4      -3      -2       -1\n",
        "\n",
        "# list[start:end:step] >> slice the list >> [start, start+step, start+2*step...till end]\n",
        "# >>> stop before end, end index is NOT included\n",
        "\n",
        "print(avengers[1:4])# start = 1, end = 4, step = 1(default)>> 1,2,3"
      ],
      "metadata": {
        "colab": {
          "base_uri": "https://localhost:8080/"
        },
        "id": "iJBaYvn48cGK",
        "outputId": "5c8f51e9-2adc-4c4e-9b84-bfbf08a0d89d"
      },
      "execution_count": null,
      "outputs": [
        {
          "output_type": "stream",
          "name": "stdout",
          "text": [
            "['thor', 'cap', 'hulk']\n"
          ]
        }
      ]
    },
    {
      "cell_type": "code",
      "source": [
        "####            0          1      2       3        4\n",
        "avengers = ['iron-man', 'thor', 'cap', 'hulk', 'groot']\n",
        "####           -5         -4      -3      -2       -1\n",
        "\n",
        "# list[start:end:step] >> slice the list >> [start, start+step, start+2*step...till end]\n",
        "# >>> stop before end, end index is NOT included\n",
        "\n",
        "print(avengers[:4:])# start = left side(step is +ive), end = 4, step = 1\n",
        "\n",
        "# step is +ive: default start is left  side, default end is right side\n",
        "# step is -ive: default start is right side, default end is left  side\n",
        "\n",
        "print(avengers[4::-1])# start = 4, end = left side as step is -ive,  step = -1"
      ],
      "metadata": {
        "colab": {
          "base_uri": "https://localhost:8080/"
        },
        "id": "feTRjkMn8jVz",
        "outputId": "81965369-ae98-499d-d80d-80f8740bf390"
      },
      "execution_count": null,
      "outputs": [
        {
          "output_type": "stream",
          "name": "stdout",
          "text": [
            "['iron-man', 'thor', 'cap', 'hulk']\n",
            "['groot', 'hulk', 'cap', 'thor', 'iron-man']\n"
          ]
        }
      ]
    },
    {
      "cell_type": "code",
      "source": [
        "####            0          1      2       3        4\n",
        "avengers = ['iron-man', 'thor', 'cap', 'hulk', 'groot']\n",
        "####           -5         -4      -3      -2       -1\n",
        "\n",
        "print(avengers[:]) # start=left  side, end=right side, step =1"
      ],
      "metadata": {
        "colab": {
          "base_uri": "https://localhost:8080/"
        },
        "id": "LmaYMA778pH3",
        "outputId": "2c2c886d-8967-43f9-8fbe-610cc135b662"
      },
      "execution_count": null,
      "outputs": [
        {
          "output_type": "stream",
          "name": "stdout",
          "text": [
            "['iron-man', 'thor', 'cap', 'hulk', 'groot']\n"
          ]
        }
      ]
    },
    {
      "cell_type": "code",
      "source": [
        "#Reverse List\n",
        "####            0          1      2       3        4\n",
        "avengers = ['iron-man', 'thor', 'cap', 'hulk', 'groot']\n",
        "####           -5         -4      -3      -2       -1\n",
        "\n",
        "print(avengers[::-1]) # start=right side, end=left  side, step =-1"
      ],
      "metadata": {
        "colab": {
          "base_uri": "https://localhost:8080/"
        },
        "id": "hn1SyH1l8vFj",
        "outputId": "1a3edba0-5f5d-455f-afed-624238fd3845"
      },
      "execution_count": null,
      "outputs": [
        {
          "output_type": "stream",
          "name": "stdout",
          "text": [
            "['groot', 'hulk', 'cap', 'thor', 'iron-man']\n"
          ]
        }
      ]
    },
    {
      "cell_type": "code",
      "source": [
        "####            0          1      2       3        4\n",
        "avengers = ['iron-man', 'thor', 'cap', 'hulk', 'groot']\n",
        "####           -5         -4      -3      -2       -1\n",
        "\n",
        "print(avengers[::-2]) # start=right side, end=left  side, step =-2"
      ],
      "metadata": {
        "colab": {
          "base_uri": "https://localhost:8080/"
        },
        "id": "WrCwmca8814t",
        "outputId": "63d45a22-959e-47a9-e170-7e64e5149e56"
      },
      "execution_count": null,
      "outputs": [
        {
          "output_type": "stream",
          "name": "stdout",
          "text": [
            "['groot', 'cap', 'iron-man']\n"
          ]
        }
      ]
    },
    {
      "cell_type": "code",
      "source": [
        "####            0          1      2       3        4\n",
        "avengers = ['iron-man', 'thor', 'cap', 'hulk', 'groot']\n",
        "####           -5         -4      -3      -2       -1\n",
        "\n",
        "# stupid slicing\n",
        "print(avengers[1:4:-2])"
      ],
      "metadata": {
        "colab": {
          "base_uri": "https://localhost:8080/"
        },
        "id": "nSvz14hx89_j",
        "outputId": "9885c522-69b0-4a0f-9119-604e5a8323db"
      },
      "execution_count": null,
      "outputs": [
        {
          "output_type": "stream",
          "name": "stdout",
          "text": [
            "[]\n"
          ]
        }
      ]
    },
    {
      "cell_type": "code",
      "source": [
        "# str splitting\n",
        "s = \"this is my str\"\n",
        "print(s.split('is'))"
      ],
      "metadata": {
        "colab": {
          "base_uri": "https://localhost:8080/"
        },
        "id": "BAFM31jV9Fyw",
        "outputId": "34ddab16-bb1e-4e65-eb15-079303d7cade"
      },
      "execution_count": null,
      "outputs": [
        {
          "output_type": "stream",
          "name": "stdout",
          "text": [
            "['th', ' ', ' my str']\n"
          ]
        }
      ]
    },
    {
      "cell_type": "code",
      "source": [
        "Name = 'My name is Raju Naik'\n",
        "print(Name.split('is'))"
      ],
      "metadata": {
        "colab": {
          "base_uri": "https://localhost:8080/"
        },
        "id": "KvW214dI9IBe",
        "outputId": "ebd8bbc9-74b0-4bb9-93af-53f287a05b69"
      },
      "execution_count": null,
      "outputs": [
        {
          "output_type": "stream",
          "name": "stdout",
          "text": [
            "['My name ', ' Raju Naik']\n"
          ]
        }
      ]
    },
    {
      "cell_type": "code",
      "source": [
        "# str splitting\n",
        "s = \"this is my str\"\n",
        "print(s.split('i'))"
      ],
      "metadata": {
        "colab": {
          "base_uri": "https://localhost:8080/"
        },
        "id": "rxJpBy4T9Yj-",
        "outputId": "820bcb2c-ea49-4ec5-b13f-4e17d4139d52"
      },
      "execution_count": null,
      "outputs": [
        {
          "output_type": "stream",
          "name": "stdout",
          "text": [
            "['th', 's ', 's my str']\n"
          ]
        }
      ]
    },
    {
      "cell_type": "code",
      "source": [
        "# str splitting\n",
        "s = \"this is my str\"\n",
        "print(s.split(' '))"
      ],
      "metadata": {
        "colab": {
          "base_uri": "https://localhost:8080/"
        },
        "id": "ANRRlc-t9eJn",
        "outputId": "e40e78e8-10b5-4615-ac61-f46dfa0e03a9"
      },
      "execution_count": null,
      "outputs": [
        {
          "output_type": "stream",
          "name": "stdout",
          "text": [
            "['this', 'is', 'my', 'str']\n"
          ]
        }
      ]
    },
    {
      "cell_type": "code",
      "source": [
        "# Quick fire questions\n",
        "##             0   1  2    3   4   5   6   7   8   9   10\n",
        "python_list = [0, 10, 20, 30, 40, 50, 60, 70, 80, 90, 100]\n",
        "##            -11 -10 -9  -8  -7  -6  -5  -4  -3  -2   -1"
      ],
      "metadata": {
        "id": "TFGSoTIV9jg0"
      },
      "execution_count": null,
      "outputs": []
    },
    {
      "cell_type": "code",
      "source": [
        "print(\"Quick-Question: 10\",      python_list[-8:5:-1])\n",
        "print(\"Streak: _\")"
      ],
      "metadata": {
        "colab": {
          "base_uri": "https://localhost:8080/"
        },
        "id": "40_Z5rpy-Js0",
        "outputId": "b8e36899-6bcf-4b8b-8d7c-6d05897421fe"
      },
      "execution_count": null,
      "outputs": [
        {
          "output_type": "stream",
          "name": "stdout",
          "text": [
            "Quick-Question: 10 []\n",
            "Streak: _\n"
          ]
        }
      ]
    },
    {
      "cell_type": "code",
      "source": [
        "print(\"Quick-Question: 9\",       python_list[-8:5])\n",
        "print(\"Streak: _\")\n",
        "# default step is 1"
      ],
      "metadata": {
        "colab": {
          "base_uri": "https://localhost:8080/"
        },
        "id": "gN6JH7ZM-TUv",
        "outputId": "168bd2d9-1a82-4caa-d366-d32db6da7334"
      },
      "execution_count": null,
      "outputs": [
        {
          "output_type": "stream",
          "name": "stdout",
          "text": [
            "Quick-Question: 9 [30, 40]\n",
            "Streak: _\n"
          ]
        }
      ]
    },
    {
      "cell_type": "code",
      "source": [
        "print(\"Quick-Question: 8\",       python_list[-2:])\n",
        "print(\"Streak: _\")\n",
        "# default step is 1"
      ],
      "metadata": {
        "colab": {
          "base_uri": "https://localhost:8080/"
        },
        "id": "yfvvWzxe-Vrr",
        "outputId": "7cd78240-058a-4404-abc2-4d54bb115542"
      },
      "execution_count": null,
      "outputs": [
        {
          "output_type": "stream",
          "name": "stdout",
          "text": [
            "Quick-Question: 8 [90, 100]\n",
            "Streak: _\n"
          ]
        }
      ]
    },
    {
      "cell_type": "code",
      "source": [
        "print(\"Quick-Question: 7\",       python_list[:-5])\n",
        "print(\"Streak: _\")\n",
        "# default step is 1\n",
        "# -5 is same as 6"
      ],
      "metadata": {
        "colab": {
          "base_uri": "https://localhost:8080/"
        },
        "id": "oSY932Oo-Z2w",
        "outputId": "7dd7d7db-45a4-44eb-86ce-721dc0953c90"
      },
      "execution_count": null,
      "outputs": [
        {
          "output_type": "stream",
          "name": "stdout",
          "text": [
            "Quick-Question: 7 [0, 10, 20, 30, 40, 50]\n",
            "Streak: _\n"
          ]
        }
      ]
    },
    {
      "cell_type": "code",
      "source": [
        "print(\"Quick-Question: 6\",       python_list[-2:-7])\n",
        "print(\"Streak: _\")\n",
        "# default step is 1"
      ],
      "metadata": {
        "colab": {
          "base_uri": "https://localhost:8080/"
        },
        "id": "_DOVSB4o-jyi",
        "outputId": "96769141-068a-4d8b-c17d-6088678b0864"
      },
      "execution_count": null,
      "outputs": [
        {
          "output_type": "stream",
          "name": "stdout",
          "text": [
            "Quick-Question: 6 []\n",
            "Streak: _\n"
          ]
        }
      ]
    },
    {
      "cell_type": "code",
      "source": [
        "print(\"Quick-Question: 5\",       python_list[-2:-5:-1])\n",
        "print(\"Streak: _\")"
      ],
      "metadata": {
        "colab": {
          "base_uri": "https://localhost:8080/"
        },
        "id": "pOjW6ctU-t4X",
        "outputId": "9fb78d75-7090-4954-e1a2-8c8b3f921ee8"
      },
      "execution_count": null,
      "outputs": [
        {
          "output_type": "stream",
          "name": "stdout",
          "text": [
            "Quick-Question: 5 [90, 80, 70]\n",
            "Streak: _\n"
          ]
        }
      ]
    },
    {
      "cell_type": "code",
      "source": [
        "print(\"Quick-Question: 4\",       python_list[7:])\n",
        "print(\"Streak: _\")"
      ],
      "metadata": {
        "colab": {
          "base_uri": "https://localhost:8080/"
        },
        "id": "XBAxfFdS-zX1",
        "outputId": "7bc7e114-e7b4-4942-e37b-15d50d3d7b54"
      },
      "execution_count": null,
      "outputs": [
        {
          "output_type": "stream",
          "name": "stdout",
          "text": [
            "Quick-Question: 4 [70, 80, 90, 100]\n",
            "Streak: _\n"
          ]
        }
      ]
    },
    {
      "cell_type": "code",
      "source": [
        "print(\"Quick-Question: 3\",       python_list[:])\n",
        "print(\"Streak: _\")"
      ],
      "metadata": {
        "colab": {
          "base_uri": "https://localhost:8080/"
        },
        "id": "fRODe2Ai-3mJ",
        "outputId": "b609687b-994f-48c5-9e28-db22f8c006e5"
      },
      "execution_count": null,
      "outputs": [
        {
          "output_type": "stream",
          "name": "stdout",
          "text": [
            "Quick-Question: 3 [0, 10, 20, 30, 40, 50, 60, 70, 80, 90, 100]\n",
            "Streak: _\n"
          ]
        }
      ]
    },
    {
      "cell_type": "code",
      "source": [
        "print(\"Quick-Question: 2\",       python_list[:8])\n",
        "print(\"Streak: _\")"
      ],
      "metadata": {
        "colab": {
          "base_uri": "https://localhost:8080/"
        },
        "id": "YuSodE-k-6N3",
        "outputId": "e771be17-661e-4313-ae64-7d4b76a3cbd0"
      },
      "execution_count": null,
      "outputs": [
        {
          "output_type": "stream",
          "name": "stdout",
          "text": [
            "Quick-Question: 2 [0, 10, 20, 30, 40, 50, 60, 70]\n",
            "Streak: _\n"
          ]
        }
      ]
    },
    {
      "cell_type": "code",
      "source": [
        "print(\"Quick-Question: 1\",       python_list[3:5])\n",
        "print(\"Streak: _\")"
      ],
      "metadata": {
        "id": "ULLUmOoh-98g",
        "outputId": "46b7b65f-440d-4c3c-c08b-ec60e63f8c11",
        "colab": {
          "base_uri": "https://localhost:8080/"
        }
      },
      "execution_count": null,
      "outputs": [
        {
          "output_type": "stream",
          "name": "stdout",
          "text": [
            "Quick-Question: 1 [30, 40]\n",
            "Streak: _\n"
          ]
        }
      ]
    },
    {
      "cell_type": "markdown",
      "source": [
        "# ASSignment Problems"
      ],
      "metadata": {
        "id": "NNBFjjL2IETT"
      }
    },
    {
      "cell_type": "code",
      "source": [
        "# Q1. Divisible by 5 and 7\n",
        "\n",
        "def divisible(lst):\n",
        "  result = []\n",
        "  for ele in lst:\n",
        "    if ele%5==0 and ele%7==0:\n",
        "      result.append(ele)\n",
        "  return result\n",
        "divisible(lst = [23, 34, 25, 35, 66, 70, 14])"
      ],
      "metadata": {
        "id": "QR-W9Oy6_Aci",
        "colab": {
          "base_uri": "https://localhost:8080/"
        },
        "outputId": "935184a7-68aa-47d0-f2a0-0c9c3557d07c"
      },
      "execution_count": null,
      "outputs": [
        {
          "output_type": "execute_result",
          "data": {
            "text/plain": [
              "[35, 70]"
            ]
          },
          "metadata": {},
          "execution_count": 1
        }
      ]
    },
    {
      "cell_type": "code",
      "source": [
        "'''After executing the code below the given word gets converted into a list of individual characters of the word called word_list,\n",
        " indexing on which elements of the list word_list would give us a sublist that forms the word \"Data Science\"?'''\n",
        "\n",
        "\n",
        "word = \"Scaler Data Science Course\"\n",
        "word_list = list(word)\n",
        "word_list"
      ],
      "metadata": {
        "colab": {
          "base_uri": "https://localhost:8080/"
        },
        "id": "BYbtDEYvJEpw",
        "outputId": "fc0b42ad-d60d-47ee-b2e4-8c0680bcfb9d"
      },
      "execution_count": null,
      "outputs": [
        {
          "output_type": "execute_result",
          "data": {
            "text/plain": [
              "['S',\n",
              " 'c',\n",
              " 'a',\n",
              " 'l',\n",
              " 'e',\n",
              " 'r',\n",
              " ' ',\n",
              " 'D',\n",
              " 'a',\n",
              " 't',\n",
              " 'a',\n",
              " ' ',\n",
              " 'S',\n",
              " 'c',\n",
              " 'i',\n",
              " 'e',\n",
              " 'n',\n",
              " 'c',\n",
              " 'e',\n",
              " ' ',\n",
              " 'C',\n",
              " 'o',\n",
              " 'u',\n",
              " 'r',\n",
              " 's',\n",
              " 'e']"
            ]
          },
          "metadata": {},
          "execution_count": 3
        }
      ]
    },
    {
      "cell_type": "code",
      "source": [
        "word_list[7:19]"
      ],
      "metadata": {
        "colab": {
          "base_uri": "https://localhost:8080/"
        },
        "id": "5a7A5eM5Jawd",
        "outputId": "b368e82b-f624-4354-cbf1-c9c69089c4da"
      },
      "execution_count": null,
      "outputs": [
        {
          "output_type": "execute_result",
          "data": {
            "text/plain": [
              "['D', 'a', 't', 'a', ' ', 'S', 'c', 'i', 'e', 'n', 'c', 'e']"
            ]
          },
          "metadata": {},
          "execution_count": 4
        }
      ]
    },
    {
      "cell_type": "markdown",
      "source": [
        "Q4. Ceil and Floor\n",
        "\n",
        "Problem Description\n",
        "\n",
        "You are given a sorted array of A and an integer B. Return an array of size 2, where the first element is the ceil of B and the second element is the floor of B.\n",
        "\n",
        "Ceil is the smallest number greater than or equal to B and is present in the array A.\n",
        "Floor is the largest number smaller than or equal to B and is present in the array A.\n",
        "\n",
        "\n",
        "Problem Constraints\n",
        "\n",
        "1 <= |A| <= 105\n",
        "-109 <= A[i] <= 109\n",
        "-109 <= B <= 109\n",
        "\n",
        "\n",
        "Input Format\n",
        "\n",
        "The input contains two lines.\n",
        "The first line contains space separated integers. The first value in this line is the number of elements N in the array after which N integers denoting elements of the array follow.\n",
        "The second line contains a single integer.\n",
        "\n",
        "\n",
        "Output Format\n",
        "\n",
        "An integer array C of size 2.\n",
        "\n",
        "\n",
        "Example Input\n",
        "\n",
        "Input 1:\n",
        "\n",
        "-2 4 4 8 9\n",
        "\n",
        "0\n",
        "\n",
        "Input 2:\n",
        "\n",
        "1 3 9 21\n",
        "\n",
        "9\n",
        "\n",
        "\n",
        "Example Output\n",
        "\n",
        "Output 1:\n",
        "\n",
        "4 -2\n",
        "\n",
        "Output 2:\n",
        "\n",
        "9 9\n",
        "\n",
        "\n",
        "Example Explanation\n",
        "\n",
        "Explanation 1:\n",
        "\n",
        "Just greater or equal element than 0 in A is 4 and\n",
        "\n",
        "just smaller or equal element than 0 is A is -2.\n",
        "\n",
        "Explanation 2:\n",
        "\n",
        "Ceil and floor of 9 will be 9 itself as 9 is present in the array."
      ],
      "metadata": {
        "id": "1xX89WnpJyur"
      }
    },
    {
      "cell_type": "code",
      "source": [
        "def solve(A,B):\n",
        "  c = [0,0]\n",
        "  for i in A:\n",
        "    if i <= B:\n",
        "      c[1] = i\n",
        "    if i >= B:\n",
        "      c[0] = i\n",
        "      break\n",
        "  return c\n",
        "solve(A = [-2, 4, 4, 8, 9], B = 0)"
      ],
      "metadata": {
        "colab": {
          "base_uri": "https://localhost:8080/"
        },
        "id": "MoGukkfdKD-l",
        "outputId": "473e3129-13b8-4d79-f9e8-c39f5c4a114c"
      },
      "execution_count": null,
      "outputs": [
        {
          "output_type": "execute_result",
          "data": {
            "text/plain": [
              "[4, -2]"
            ]
          },
          "metadata": {},
          "execution_count": 7
        }
      ]
    },
    {
      "cell_type": "code",
      "source": [
        "# Q1. First and Last Index\n",
        "\n",
        "def first_last(A,B):\n",
        "  c = [0,0]\n",
        "  for i in range(len(A)):\n",
        "    if A[i] == B:\n",
        "      c[0] = i\n",
        "      break\n",
        "  for i in range(len(A)-1,0,-1):\n",
        "    if A[i] == B:\n",
        "      c[1] = i\n",
        "      break\n",
        "  return c\n",
        "first_last(A = [-2, -2, 4, 4, 8, 9],B = 4)"
      ],
      "metadata": {
        "colab": {
          "base_uri": "https://localhost:8080/"
        },
        "id": "GIkhLe1kK2-G",
        "outputId": "57c44afc-9024-4851-e17b-d95c36f7b59a"
      },
      "execution_count": null,
      "outputs": [
        {
          "output_type": "execute_result",
          "data": {
            "text/plain": [
              "[2, 3]"
            ]
          },
          "metadata": {},
          "execution_count": 8
        }
      ]
    },
    {
      "cell_type": "code",
      "source": [
        "# Q2. Min - Max Difference\n",
        "\n",
        "def max_min(A):\n",
        "  max_value = A[0]\n",
        "  min_value = A[0]\n",
        "  for i in A:\n",
        "    if i > max_value:\n",
        "      max_value = i\n",
        "    if i < min_value:\n",
        "      min_value = i\n",
        "  diff = max_value - min_value\n",
        "  return diff\n",
        "max_min(A = [4, 1, 9, 10, 3])"
      ],
      "metadata": {
        "colab": {
          "base_uri": "https://localhost:8080/"
        },
        "id": "xvwAH2KcMuml",
        "outputId": "0ffc8c49-3f5f-4966-a920-761f8ffe03af"
      },
      "execution_count": null,
      "outputs": [
        {
          "output_type": "execute_result",
          "data": {
            "text/plain": [
              "9"
            ]
          },
          "metadata": {},
          "execution_count": 9
        }
      ]
    },
    {
      "cell_type": "code",
      "source": [
        "#Q3. Inverse of the Array\n",
        "\n",
        "def solve(A):\n",
        "  ans = [None]*len(A)\n",
        "  print(ans)\n",
        "  for i,j in enumerate(A): #This is a loop that iterates through the elements of the input list A. i represents the index, and j represents the value at that index.\n",
        "    ans[j] = i\n",
        "  return ans\n",
        "solve(A = [2, 0, 1])"
      ],
      "metadata": {
        "colab": {
          "base_uri": "https://localhost:8080/"
        },
        "id": "cEx0_RHrNoA-",
        "outputId": "64d65202-40ab-4917-e500-f2f6e2e8882b"
      },
      "execution_count": null,
      "outputs": [
        {
          "output_type": "stream",
          "name": "stdout",
          "text": [
            "[None, None, None]\n"
          ]
        },
        {
          "output_type": "execute_result",
          "data": {
            "text/plain": [
              "[1, 2, 0]"
            ]
          },
          "metadata": {},
          "execution_count": 15
        }
      ]
    },
    {
      "cell_type": "code",
      "source": [
        "\n",
        "a = [1, 3, 4, 4, 3, 1, 2, 3, 2]\n",
        "a[:6:2]"
      ],
      "metadata": {
        "colab": {
          "base_uri": "https://localhost:8080/"
        },
        "id": "l5QdIcu-Plfg",
        "outputId": "c406a9ed-7088-4798-8fce-0739f8530448"
      },
      "execution_count": null,
      "outputs": [
        {
          "output_type": "execute_result",
          "data": {
            "text/plain": [
              "[1, 4, 3]"
            ]
          },
          "metadata": {},
          "execution_count": 17
        }
      ]
    }
  ]
}